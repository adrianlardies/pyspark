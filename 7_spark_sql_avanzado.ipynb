{
 "cells": [
  {
   "cell_type": "code",
   "execution_count": 1,
   "metadata": {},
   "outputs": [],
   "source": [
    "import os\n",
    "\n",
    "os.environ['JAVA_HOME'] = \"C:/Program Files/Java/jdk-11\"\n",
    "os.environ['PYSPARK_PYTHON'] = \"C:/Users/usr/anaconda3/envs/pyspark_env/python.exe\"\n",
    "os.environ['PYSPARK_DRIVER_PYTHON'] = \"C:/Users/usr/anaconda3/envs/pyspark_env/python.exe\"\n",
    "os.environ['HADOOP_HOME'] = \"C:/hadoop-3.4.0\"\n",
    "os.environ['HADOOP_COMMON_LIB_NATIVE_DIR'] = \"C:/hadoop-3.4.0/lib/native\"\n",
    "os.environ['PATH'] += os.pathsep + \"C:/hadoop-3.4.0/bin\"\n",
    "\n",
    "import findspark\n",
    "findspark.init()\n",
    "\n",
    "from pyspark.sql import SparkSession\n",
    "\n",
    "spark = SparkSession.builder.getOrCreate()\n",
    "\n",
    "sc = spark.sparkContext"
   ]
  },
  {
   "cell_type": "code",
   "execution_count": 2,
   "metadata": {},
   "outputs": [],
   "source": [
    "df = spark.read.parquet('./data/data/vuelos.parquet')"
   ]
  },
  {
   "cell_type": "code",
   "execution_count": 3,
   "metadata": {},
   "outputs": [
    {
     "name": "stdout",
     "output_type": "stream",
     "text": [
      "root\n",
      " |-- YEAR: integer (nullable = true)\n",
      " |-- MONTH: integer (nullable = true)\n",
      " |-- DAY: integer (nullable = true)\n",
      " |-- DAY_OF_WEEK: integer (nullable = true)\n",
      " |-- AIRLINE: string (nullable = true)\n",
      " |-- FLIGHT_NUMBER: integer (nullable = true)\n",
      " |-- TAIL_NUMBER: string (nullable = true)\n",
      " |-- ORIGIN_AIRPORT: string (nullable = true)\n",
      " |-- DESTINATION_AIRPORT: string (nullable = true)\n",
      " |-- SCHEDULED_DEPARTURE: integer (nullable = true)\n",
      " |-- DEPARTURE_TIME: integer (nullable = true)\n",
      " |-- DEPARTURE_DELAY: integer (nullable = true)\n",
      " |-- TAXI_OUT: integer (nullable = true)\n",
      " |-- WHEELS_OFF: integer (nullable = true)\n",
      " |-- SCHEDULED_TIME: integer (nullable = true)\n",
      " |-- ELAPSED_TIME: integer (nullable = true)\n",
      " |-- AIR_TIME: integer (nullable = true)\n",
      " |-- DISTANCE: integer (nullable = true)\n",
      " |-- WHEELS_ON: integer (nullable = true)\n",
      " |-- TAXI_IN: integer (nullable = true)\n",
      " |-- SCHEDULED_ARRIVAL: integer (nullable = true)\n",
      " |-- ARRIVAL_TIME: integer (nullable = true)\n",
      " |-- ARRIVAL_DELAY: integer (nullable = true)\n",
      " |-- DIVERTED: integer (nullable = true)\n",
      " |-- CANCELLED: integer (nullable = true)\n",
      " |-- CANCELLATION_REASON: string (nullable = true)\n",
      " |-- AIR_SYSTEM_DELAY: integer (nullable = true)\n",
      " |-- SECURITY_DELAY: integer (nullable = true)\n",
      " |-- AIRLINE_DELAY: integer (nullable = true)\n",
      " |-- LATE_AIRCRAFT_DELAY: integer (nullable = true)\n",
      " |-- WEATHER_DELAY: integer (nullable = true)\n",
      "\n"
     ]
    }
   ],
   "source": [
    "df.printSchema()"
   ]
  },
  {
   "cell_type": "code",
   "execution_count": 4,
   "metadata": {},
   "outputs": [
    {
     "name": "stdout",
     "output_type": "stream",
     "text": [
      "+----+-----+---+-----------+-------+-------------+-----------+--------------+-------------------+-------------------+--------------+---------------+--------+----------+--------------+------------+--------+--------+---------+-------+-----------------+------------+-------------+--------+---------+-------------------+----------------+--------------+-------------+-------------------+-------------+\n",
      "|YEAR|MONTH|DAY|DAY_OF_WEEK|AIRLINE|FLIGHT_NUMBER|TAIL_NUMBER|ORIGIN_AIRPORT|DESTINATION_AIRPORT|SCHEDULED_DEPARTURE|DEPARTURE_TIME|DEPARTURE_DELAY|TAXI_OUT|WHEELS_OFF|SCHEDULED_TIME|ELAPSED_TIME|AIR_TIME|DISTANCE|WHEELS_ON|TAXI_IN|SCHEDULED_ARRIVAL|ARRIVAL_TIME|ARRIVAL_DELAY|DIVERTED|CANCELLED|CANCELLATION_REASON|AIR_SYSTEM_DELAY|SECURITY_DELAY|AIRLINE_DELAY|LATE_AIRCRAFT_DELAY|WEATHER_DELAY|\n",
      "+----+-----+---+-----------+-------+-------------+-----------+--------------+-------------------+-------------------+--------------+---------------+--------+----------+--------------+------------+--------+--------+---------+-------+-----------------+------------+-------------+--------+---------+-------------------+----------------+--------------+-------------+-------------------+-------------+\n",
      "|2015|1    |1  |4          |AS     |98           |N407AS     |ANC           |SEA                |5                  |2354          |-11            |21      |15        |205           |194         |169     |1448    |404      |4      |430              |408         |-22          |0       |0        |null               |null            |null          |null         |null               |null         |\n",
      "|2015|1    |1  |4          |AA     |2336         |N3KUAA     |LAX           |PBI                |10                 |2             |-8             |12      |14        |280           |279         |263     |2330    |737      |4      |750              |741         |-9           |0       |0        |null               |null            |null          |null         |null               |null         |\n",
      "|2015|1    |1  |4          |US     |840          |N171US     |SFO           |CLT                |20                 |18            |-2             |16      |34        |286           |293         |266     |2296    |800      |11     |806              |811         |5            |0       |0        |null               |null            |null          |null         |null               |null         |\n",
      "|2015|1    |1  |4          |AA     |258          |N3HYAA     |LAX           |MIA                |20                 |15            |-5             |15      |30        |285           |281         |258     |2342    |748      |8      |805              |756         |-9           |0       |0        |null               |null            |null          |null         |null               |null         |\n",
      "|2015|1    |1  |4          |AS     |135          |N527AS     |SEA           |ANC                |25                 |24            |-1             |11      |35        |235           |215         |199     |1448    |254      |5      |320              |259         |-21          |0       |0        |null               |null            |null          |null         |null               |null         |\n",
      "|2015|1    |1  |4          |DL     |806          |N3730B     |SFO           |MSP                |25                 |20            |-5             |18      |38        |217           |230         |206     |1589    |604      |6      |602              |610         |8            |0       |0        |null               |null            |null          |null         |null               |null         |\n",
      "|2015|1    |1  |4          |NK     |612          |N635NK     |LAS           |MSP                |25                 |19            |-6             |11      |30        |181           |170         |154     |1299    |504      |5      |526              |509         |-17          |0       |0        |null               |null            |null          |null         |null               |null         |\n",
      "|2015|1    |1  |4          |US     |2013         |N584UW     |LAX           |CLT                |30                 |44            |14             |13      |57        |273           |249         |228     |2125    |745      |8      |803              |753         |-10          |0       |0        |null               |null            |null          |null         |null               |null         |\n",
      "|2015|1    |1  |4          |AA     |1112         |N3LAAA     |SFO           |DFW                |30                 |19            |-11            |17      |36        |195           |193         |173     |1464    |529      |3      |545              |532         |-13          |0       |0        |null               |null            |null          |null         |null               |null         |\n",
      "|2015|1    |1  |4          |DL     |1173         |N826DN     |LAS           |ATL                |30                 |33            |3              |12      |45        |221           |203         |186     |1747    |651      |5      |711              |656         |-15          |0       |0        |null               |null            |null          |null         |null               |null         |\n",
      "|2015|1    |1  |4          |DL     |2336         |N958DN     |DEN           |ATL                |30                 |24            |-6             |12      |36        |173           |149         |133     |1199    |449      |4      |523              |453         |-30          |0       |0        |null               |null            |null          |null         |null               |null         |\n",
      "|2015|1    |1  |4          |AA     |1674         |N853AA     |LAS           |MIA                |35                 |27            |-8             |21      |48        |268           |266         |238     |2174    |746      |7      |803              |753         |-10          |0       |0        |null               |null            |null          |null         |null               |null         |\n",
      "|2015|1    |1  |4          |DL     |1434         |N547US     |LAX           |MSP                |35                 |35            |0              |18      |53        |214           |210         |188     |1535    |601      |4      |609              |605         |-4           |0       |0        |null               |null            |null          |null         |null               |null         |\n",
      "|2015|1    |1  |4          |DL     |2324         |N3751B     |SLC           |ATL                |40                 |34            |-6             |18      |52        |215           |199         |176     |1590    |548      |5      |615              |553         |-22          |0       |0        |null               |null            |null          |null         |null               |null         |\n",
      "|2015|1    |1  |4          |DL     |2440         |N651DL     |SEA           |MSP                |40                 |39            |-1             |28      |107       |189           |198         |166     |1399    |553      |4      |549              |557         |8            |0       |0        |null               |null            |null          |null         |null               |null         |\n",
      "|2015|1    |1  |4          |AS     |108          |N309AS     |ANC           |SEA                |45                 |41            |-4             |17      |58        |204           |194         |173     |1448    |451      |4      |509              |455         |-14          |0       |0        |null               |null            |null          |null         |null               |null         |\n",
      "|2015|1    |1  |4          |DL     |1560         |N3743H     |ANC           |SEA                |45                 |31            |-14            |25      |56        |210           |200         |171     |1448    |447      |4      |515              |451         |-24          |0       |0        |null               |null            |null          |null         |null               |null         |\n",
      "|2015|1    |1  |4          |UA     |1197         |N78448     |SFO           |IAH                |48                 |42            |-6             |11      |53        |218           |217         |199     |1635    |612      |7      |626              |619         |-7           |0       |0        |null               |null            |null          |null         |null               |null         |\n",
      "|2015|1    |1  |4          |AS     |122          |N413AS     |ANC           |PDX                |50                 |46            |-4             |11      |57        |215           |201         |187     |1542    |504      |3      |525              |507         |-18          |0       |0        |null               |null            |null          |null         |null               |null         |\n",
      "|2015|1    |1  |4          |DL     |1670         |N806DN     |PDX           |MSP                |50                 |45            |-5             |9       |54        |193           |186         |171     |1426    |545      |6      |603              |551         |-12          |0       |0        |null               |null            |null          |null         |null               |null         |\n",
      "+----+-----+---+-----------+-------+-------------+-----------+--------------+-------------------+-------------------+--------------+---------------+--------+----------+--------------+------------+--------+--------+---------+-------+-----------------+------------+-------------+--------+---------+-------------------+----------------+--------------+-------------+-------------------+-------------+\n",
      "only showing top 20 rows\n",
      "\n"
     ]
    }
   ],
   "source": [
    "df.show(20, truncate=False)"
   ]
  },
  {
   "cell_type": "markdown",
   "metadata": {},
   "source": [
    "### **Funciones count(), countDistinct() y approx_count_distinct()**"
   ]
  },
  {
   "cell_type": "code",
   "execution_count": 5,
   "metadata": {},
   "outputs": [],
   "source": [
    "df1 = spark.read.parquet('./data/data/dataframe.parquet')"
   ]
  },
  {
   "cell_type": "code",
   "execution_count": 6,
   "metadata": {},
   "outputs": [
    {
     "name": "stdout",
     "output_type": "stream",
     "text": [
      "root\n",
      " |-- nombre: string (nullable = true)\n",
      " |-- color: string (nullable = true)\n",
      " |-- cantidad: long (nullable = true)\n",
      "\n"
     ]
    }
   ],
   "source": [
    "df1.printSchema()"
   ]
  },
  {
   "cell_type": "code",
   "execution_count": 7,
   "metadata": {},
   "outputs": [
    {
     "name": "stdout",
     "output_type": "stream",
     "text": [
      "+------+-----+--------+\n",
      "|nombre|color|cantidad|\n",
      "+------+-----+--------+\n",
      "|  Jose| azul|    1900|\n",
      "|  null| null|    1700|\n",
      "|  null| rojo|    1300|\n",
      "|  Juan| rojo|    1500|\n",
      "+------+-----+--------+\n",
      "\n"
     ]
    }
   ],
   "source": [
    "df1.show()"
   ]
  },
  {
   "cell_type": "markdown",
   "metadata": {},
   "source": [
    "- **count()**"
   ]
  },
  {
   "cell_type": "markdown",
   "metadata": {},
   "source": [
    "- Cuenta aquellos que no son nulos."
   ]
  },
  {
   "cell_type": "code",
   "execution_count": 8,
   "metadata": {},
   "outputs": [],
   "source": [
    "from pyspark.sql.functions import count"
   ]
  },
  {
   "cell_type": "code",
   "execution_count": 9,
   "metadata": {},
   "outputs": [
    {
     "name": "stdout",
     "output_type": "stream",
     "text": [
      "+-------------+------------+\n",
      "|conteo_nombre|conteo_color|\n",
      "+-------------+------------+\n",
      "|            2|           3|\n",
      "+-------------+------------+\n",
      "\n"
     ]
    }
   ],
   "source": [
    "df1.select(\n",
    "    count('nombre').alias('conteo_nombre'),\n",
    "    count('color').alias('conteo_color')\n",
    ").show()"
   ]
  },
  {
   "cell_type": "markdown",
   "metadata": {},
   "source": [
    "- count('*') cuenta todas las filas, aunque haya al algún null en ellas."
   ]
  },
  {
   "cell_type": "code",
   "execution_count": 10,
   "metadata": {},
   "outputs": [
    {
     "name": "stdout",
     "output_type": "stream",
     "text": [
      "+-------------+------------+--------------+\n",
      "|conteo_nombre|conteo_color|conteo_general|\n",
      "+-------------+------------+--------------+\n",
      "|            2|           3|             4|\n",
      "+-------------+------------+--------------+\n",
      "\n"
     ]
    }
   ],
   "source": [
    "df1.select(\n",
    "    count('nombre').alias('conteo_nombre'),\n",
    "    count('color').alias('conteo_color'),\n",
    "    count('*'). alias('conteo_general')\n",
    ").show()"
   ]
  },
  {
   "cell_type": "markdown",
   "metadata": {},
   "source": [
    "- **countDistinct()**"
   ]
  },
  {
   "cell_type": "code",
   "execution_count": 11,
   "metadata": {},
   "outputs": [],
   "source": [
    "from pyspark.sql.functions import countDistinct"
   ]
  },
  {
   "cell_type": "code",
   "execution_count": 12,
   "metadata": {},
   "outputs": [
    {
     "name": "stdout",
     "output_type": "stream",
     "text": [
      "+-----------+\n",
      "|colores_dif|\n",
      "+-----------+\n",
      "|          2|\n",
      "+-----------+\n",
      "\n"
     ]
    }
   ],
   "source": [
    "df1.select(\n",
    "    countDistinct('color').alias('colores_dif')\n",
    ").show()"
   ]
  },
  {
   "cell_type": "markdown",
   "metadata": {},
   "source": [
    "- **approx_count_distinct()**"
   ]
  },
  {
   "cell_type": "code",
   "execution_count": 13,
   "metadata": {},
   "outputs": [],
   "source": [
    "from pyspark.sql.functions import approx_count_distinct"
   ]
  },
  {
   "cell_type": "code",
   "execution_count": 14,
   "metadata": {},
   "outputs": [],
   "source": [
    "dataframe = spark.read.parquet('./data/data/vuelos.parquet')"
   ]
  },
  {
   "cell_type": "code",
   "execution_count": 15,
   "metadata": {},
   "outputs": [
    {
     "name": "stdout",
     "output_type": "stream",
     "text": [
      "root\n",
      " |-- YEAR: integer (nullable = true)\n",
      " |-- MONTH: integer (nullable = true)\n",
      " |-- DAY: integer (nullable = true)\n",
      " |-- DAY_OF_WEEK: integer (nullable = true)\n",
      " |-- AIRLINE: string (nullable = true)\n",
      " |-- FLIGHT_NUMBER: integer (nullable = true)\n",
      " |-- TAIL_NUMBER: string (nullable = true)\n",
      " |-- ORIGIN_AIRPORT: string (nullable = true)\n",
      " |-- DESTINATION_AIRPORT: string (nullable = true)\n",
      " |-- SCHEDULED_DEPARTURE: integer (nullable = true)\n",
      " |-- DEPARTURE_TIME: integer (nullable = true)\n",
      " |-- DEPARTURE_DELAY: integer (nullable = true)\n",
      " |-- TAXI_OUT: integer (nullable = true)\n",
      " |-- WHEELS_OFF: integer (nullable = true)\n",
      " |-- SCHEDULED_TIME: integer (nullable = true)\n",
      " |-- ELAPSED_TIME: integer (nullable = true)\n",
      " |-- AIR_TIME: integer (nullable = true)\n",
      " |-- DISTANCE: integer (nullable = true)\n",
      " |-- WHEELS_ON: integer (nullable = true)\n",
      " |-- TAXI_IN: integer (nullable = true)\n",
      " |-- SCHEDULED_ARRIVAL: integer (nullable = true)\n",
      " |-- ARRIVAL_TIME: integer (nullable = true)\n",
      " |-- ARRIVAL_DELAY: integer (nullable = true)\n",
      " |-- DIVERTED: integer (nullable = true)\n",
      " |-- CANCELLED: integer (nullable = true)\n",
      " |-- CANCELLATION_REASON: string (nullable = true)\n",
      " |-- AIR_SYSTEM_DELAY: integer (nullable = true)\n",
      " |-- SECURITY_DELAY: integer (nullable = true)\n",
      " |-- AIRLINE_DELAY: integer (nullable = true)\n",
      " |-- LATE_AIRCRAFT_DELAY: integer (nullable = true)\n",
      " |-- WEATHER_DELAY: integer (nullable = true)\n",
      "\n"
     ]
    }
   ],
   "source": [
    "dataframe.printSchema()"
   ]
  },
  {
   "cell_type": "markdown",
   "metadata": {},
   "source": [
    "- En una base de datos grande hacer un count() puede ser costoso, nos bastará muchas veces con un conteo aproximado."
   ]
  },
  {
   "cell_type": "code",
   "execution_count": 16,
   "metadata": {},
   "outputs": [
    {
     "name": "stdout",
     "output_type": "stream",
     "text": [
      "+-----------------------+------------------------------+\n",
      "|count(DISTINCT AIRLINE)|approx_count_distinct(AIRLINE)|\n",
      "+-----------------------+------------------------------+\n",
      "|                     14|                            13|\n",
      "+-----------------------+------------------------------+\n",
      "\n"
     ]
    }
   ],
   "source": [
    "dataframe.select(\n",
    "    countDistinct('AIRLINE'),\n",
    "    approx_count_distinct('AIRLINE')\n",
    ").show()"
   ]
  },
  {
   "cell_type": "markdown",
   "metadata": {},
   "source": [
    "### **Funciones min() y max()**"
   ]
  },
  {
   "cell_type": "code",
   "execution_count": 19,
   "metadata": {},
   "outputs": [],
   "source": [
    "vuelos = spark.read.parquet('./data/data/vuelos.parquet')"
   ]
  },
  {
   "cell_type": "code",
   "execution_count": 21,
   "metadata": {},
   "outputs": [
    {
     "name": "stdout",
     "output_type": "stream",
     "text": [
      "root\n",
      " |-- YEAR: integer (nullable = true)\n",
      " |-- MONTH: integer (nullable = true)\n",
      " |-- DAY: integer (nullable = true)\n",
      " |-- DAY_OF_WEEK: integer (nullable = true)\n",
      " |-- AIRLINE: string (nullable = true)\n",
      " |-- FLIGHT_NUMBER: integer (nullable = true)\n",
      " |-- TAIL_NUMBER: string (nullable = true)\n",
      " |-- ORIGIN_AIRPORT: string (nullable = true)\n",
      " |-- DESTINATION_AIRPORT: string (nullable = true)\n",
      " |-- SCHEDULED_DEPARTURE: integer (nullable = true)\n",
      " |-- DEPARTURE_TIME: integer (nullable = true)\n",
      " |-- DEPARTURE_DELAY: integer (nullable = true)\n",
      " |-- TAXI_OUT: integer (nullable = true)\n",
      " |-- WHEELS_OFF: integer (nullable = true)\n",
      " |-- SCHEDULED_TIME: integer (nullable = true)\n",
      " |-- ELAPSED_TIME: integer (nullable = true)\n",
      " |-- AIR_TIME: integer (nullable = true)\n",
      " |-- DISTANCE: integer (nullable = true)\n",
      " |-- WHEELS_ON: integer (nullable = true)\n",
      " |-- TAXI_IN: integer (nullable = true)\n",
      " |-- SCHEDULED_ARRIVAL: integer (nullable = true)\n",
      " |-- ARRIVAL_TIME: integer (nullable = true)\n",
      " |-- ARRIVAL_DELAY: integer (nullable = true)\n",
      " |-- DIVERTED: integer (nullable = true)\n",
      " |-- CANCELLED: integer (nullable = true)\n",
      " |-- CANCELLATION_REASON: string (nullable = true)\n",
      " |-- AIR_SYSTEM_DELAY: integer (nullable = true)\n",
      " |-- SECURITY_DELAY: integer (nullable = true)\n",
      " |-- AIRLINE_DELAY: integer (nullable = true)\n",
      " |-- LATE_AIRCRAFT_DELAY: integer (nullable = true)\n",
      " |-- WEATHER_DELAY: integer (nullable = true)\n",
      "\n"
     ]
    }
   ],
   "source": [
    "vuelos.printSchema()"
   ]
  },
  {
   "cell_type": "code",
   "execution_count": 22,
   "metadata": {},
   "outputs": [],
   "source": [
    "from pyspark.sql.functions import min, max, col"
   ]
  },
  {
   "cell_type": "code",
   "execution_count": 23,
   "metadata": {},
   "outputs": [
    {
     "name": "stdout",
     "output_type": "stream",
     "text": [
      "+------------+------------+\n",
      "|menor_tiempo|mayor_tiempo|\n",
      "+------------+------------+\n",
      "|           7|         690|\n",
      "+------------+------------+\n",
      "\n"
     ]
    }
   ],
   "source": [
    "vuelos.select(\n",
    "    min('AIR_TIME').alias('menor_tiempo'),\n",
    "    max('AIR_TIME').alias('mayor_tiempo')\n",
    ").show()"
   ]
  },
  {
   "cell_type": "code",
   "execution_count": 24,
   "metadata": {},
   "outputs": [
    {
     "name": "stdout",
     "output_type": "stream",
     "text": [
      "+------------------+------------------+\n",
      "|min(AIRLINE_DELAY)|max(AIRLINE_DELAY)|\n",
      "+------------------+------------------+\n",
      "|                 0|              1971|\n",
      "+------------------+------------------+\n",
      "\n"
     ]
    }
   ],
   "source": [
    "vuelos.select(\n",
    "    min('AIRLINE_DELAY'),\n",
    "    max('AIRLINE_DELAY')\n",
    ").show()"
   ]
  },
  {
   "cell_type": "markdown",
   "metadata": {},
   "source": [
    "### **Funciones sum(), sumDistinct() y avg()**"
   ]
  },
  {
   "cell_type": "markdown",
   "metadata": {},
   "source": [
    "- gitpush"
   ]
  }
 ],
 "metadata": {
  "kernelspec": {
   "display_name": "pyspark_env",
   "language": "python",
   "name": "python3"
  },
  "language_info": {
   "codemirror_mode": {
    "name": "ipython",
    "version": 3
   },
   "file_extension": ".py",
   "mimetype": "text/x-python",
   "name": "python",
   "nbconvert_exporter": "python",
   "pygments_lexer": "ipython3",
   "version": "3.9.20"
  }
 },
 "nbformat": 4,
 "nbformat_minor": 2
}
