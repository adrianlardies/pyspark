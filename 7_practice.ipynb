{
 "cells": [
  {
   "cell_type": "code",
   "execution_count": 1,
   "metadata": {},
   "outputs": [],
   "source": [
    "import os\n",
    "\n",
    "os.environ['JAVA_HOME'] = \"C:/Program Files/Java/jdk-11\"\n",
    "os.environ['PYSPARK_PYTHON'] = \"C:/Users/usr/anaconda3/envs/pyspark_env/python.exe\"\n",
    "os.environ['PYSPARK_DRIVER_PYTHON'] = \"C:/Users/usr/anaconda3/envs/pyspark_env/python.exe\"\n",
    "os.environ['HADOOP_HOME'] = \"C:/hadoop-3.4.0\"\n",
    "os.environ['HADOOP_COMMON_LIB_NATIVE_DIR'] = \"C:/hadoop-3.4.0/lib/native\"\n",
    "os.environ['PATH'] += os.pathsep + \"C:/hadoop-3.4.0/bin\"\n",
    "\n",
    "import findspark\n",
    "findspark.init()\n",
    "\n",
    "from pyspark.sql import SparkSession\n",
    "\n",
    "spark = SparkSession.builder.getOrCreate()\n",
    "\n",
    "sc = spark.sparkContext"
   ]
  },
  {
   "cell_type": "code",
   "execution_count": 42,
   "metadata": {},
   "outputs": [],
   "source": [
    "players = spark.read.csv(\"data/practice_spark_sql_avanzado/players.csv\", header=True, inferSchema=True)\n",
    "app = spark.read.csv(\"data/practice_spark_sql_avanzado/appearances.csv\", header=True, inferSchema=True)\n",
    "competicion = spark.read.csv(\"data/practice_spark_sql_avanzado/competitions.csv\", header=True, inferSchema=True)\n",
    "juegos = spark.read.csv(\"data/practice_spark_sql_avanzado/games.csv\", header=True, inferSchema=True)"
   ]
  },
  {
   "cell_type": "markdown",
   "metadata": {},
   "source": [
    "- **Determine los tres países con mayor número de jugadores(jugadores nacidos en ese país). El resultado debe estar ordenado de forma descendente.** "
   ]
  },
  {
   "cell_type": "code",
   "execution_count": 43,
   "metadata": {},
   "outputs": [
    {
     "name": "stdout",
     "output_type": "stream",
     "text": [
      "+---------+---------------+--------------------+--------------------+----------------+----------------------+-------------+----------+------------------+-----+------------+-------------------+---------------------------+--------------------+\n",
      "|player_id|current_club_id|                name|         pretty_name|country_of_birth|country_of_citizenship|date_of_birth|  position|      sub_position| foot|height_in_cm|market_value_in_gbp|highest_market_value_in_gbp|                 url|\n",
      "+---------+---------------+--------------------+--------------------+----------------+----------------------+-------------+----------+------------------+-----+------------+-------------------+---------------------------+--------------------+\n",
      "|    38790|          28095|      dmitri-golubov|      Dmitri Golubov|           UdSSR|                Russia|   1985-06-24|    Attack|    Centre-Forward| Both|         178|               null|                   675000.0|https://www.trans...|\n",
      "|   106539|          28095|  aleksandr-vasiljev|  Aleksandr Vasiljev|          Russia|                Russia|   1992-01-23|    Attack|      Right Winger|Right|         182|               null|                   225000.0|https://www.trans...|\n",
      "|   164389|           2288|       rory-donnelly|       Rory Donnelly|Northern Ireland|      Northern Ireland|   1992-02-18|    Attack|    Centre-Forward|Right|         188|           113000.0|                   225000.0|https://www.trans...|\n",
      "|    45247|           1162|      damien-perquis|      Damien Perquis|          France|                France|   1986-03-08|Goalkeeper|        Goalkeeper|Right|         186|               null|                   900000.0|https://www.trans...|\n",
      "|    97205|          28095| nikita-bezlikhotnov| Nikita Bezlikhotnov|           UdSSR|                Russia|   1990-08-19|    Attack|      Right Winger|Right|         179|               null|                   675000.0|https://www.trans...|\n",
      "|    14962|           1177|         jesper-bech|         Jesper Bech|            null|               Denmark|   1982-05-25|  Midfield|  Central Midfield| Left|         177|               null|                  1130000.0|https://www.trans...|\n",
      "|   202836|             24|       yaffa-yusupha|       Yaffa Yusupha|      The Gambia|            The Gambia|   1996-12-31|    Attack|    Centre-Forward| null|           0|               null|                    90000.0|https://www.trans...|\n",
      "|    40027|           5818|       ruben-nygaard|       Ruben Nygaard|            null|               Denmark|   1986-05-25|    Attack|      Right Winger|Right|         175|               null|                   180000.0|https://www.trans...|\n",
      "|    62065|           5818|        dennis-hoegh|        Dennis Hoegh|         Denmark|               Denmark|   1989-02-21|  Midfield|Attacking Midfield|Right|         184|               null|                   225000.0|https://www.trans...|\n",
      "|   203899|            403|         stijn-derkx|         Stijn Derkx|     Netherlands|           Netherlands|   1995-02-03|    Attack|    Centre-Forward|Right|         182|               null|                    45000.0|https://www.trans...|\n",
      "|    48897|           1177|         ade-runsewe|         Ade Runsewe|            null|               Nigeria|   1989-12-01|    Attack|      Right Winger|Right|         176|               null|                   315000.0|https://www.trans...|\n",
      "|    23367|            862|       alessio-sestu|       Alessio Sestu|           Italy|                 Italy|   1983-09-29|    Attack|      Right Winger|Right|         177|               null|                   720000.0|https://www.trans...|\n",
      "|   107958|            862|      nicola-bellomo|      Nicola Bellomo|           Italy|                 Italy|   1991-02-18|  Midfield|Attacking Midfield|Right|         174|               null|                  1620000.0|https://www.trans...|\n",
      "|   103110|           5818| frederik-hammershoj| Frederik Hammershoj|            null|               Denmark|   1987-06-15|  Midfield|  Central Midfield| Left|           0|               null|                   135000.0|https://www.trans...|\n",
      "|    45185|            862|       tomasz-kupisz|       Tomasz Kupisz|          Poland|                Poland|   1990-01-02|  Midfield|    Right Midfield|Right|         180|               null|                   900000.0|https://www.trans...|\n",
      "|   334723|            800|       nicolas-napol|       Nicolas Napol|          France|               Belgium|   1996-04-03|    Attack|    Centre-Forward|Right|         186|               null|                    68000.0|https://www.trans...|\n",
      "|   176130|            800|     lorenzo-rosseti|     Lorenzo Rosseti|           Italy|                 Italy|   1994-08-05|    Attack|    Centre-Forward|Right|         182|               null|                  1080000.0|https://www.trans...|\n",
      "|    47769|           1177|    bjarni-vidarsson|    Bjarni Vidarsson|         Iceland|               Iceland|   1988-03-05|  Midfield|  Central Midfield| Both|         187|               null|                   900000.0|https://www.trans...|\n",
      "|    20726|            800|     rolando-bianchi|     Rolando Bianchi|           Italy|                 Italy|   1983-02-15|    Attack|    Centre-Forward|Right|         188|               null|                     1.17E7|https://www.trans...|\n",
      "|   287631|            276|pierluigi-cappell...|Pierluigi Cappell...|           Italy|                 Italy|   1996-06-09|    Attack|    Centre-Forward| Left|         186|               null|                   270000.0|https://www.trans...|\n",
      "+---------+---------------+--------------------+--------------------+----------------+----------------------+-------------+----------+------------------+-----+------------+-------------------+---------------------------+--------------------+\n",
      "only showing top 20 rows\n",
      "\n"
     ]
    }
   ],
   "source": [
    "players.show()"
   ]
  },
  {
   "cell_type": "code",
   "execution_count": 44,
   "metadata": {},
   "outputs": [],
   "source": [
    "from pyspark.sql.functions import col, desc"
   ]
  },
  {
   "cell_type": "code",
   "execution_count": 47,
   "metadata": {},
   "outputs": [
    {
     "name": "stdout",
     "output_type": "stream",
     "text": [
      "+----------------+-----+\n",
      "|country_of_birth|count|\n",
      "+----------------+-----+\n",
      "|          France| 1694|\n",
      "|           Spain| 1388|\n",
      "|           Italy| 1312|\n",
      "+----------------+-----+\n",
      "\n"
     ]
    }
   ],
   "source": [
    "players.groupBy(\"country_of_birth\").count().orderBy(desc(\"count\")).filter(col('country_of_birth').isNotNull()).limit(3).show()"
   ]
  },
  {
   "cell_type": "markdown",
   "metadata": {},
   "source": [
    "- **Obtenga la lista de jugadores con tarjeta roja. La salida debe contener dos columnas, el nombre de pila del jugador y la cantidad de tarjetas rojas que tiene.**"
   ]
  },
  {
   "cell_type": "code",
   "execution_count": 50,
   "metadata": {},
   "outputs": [
    {
     "name": "stdout",
     "output_type": "stream",
     "text": [
      "+-----------------+-----------+\n",
      "|      pretty_name|total_rojas|\n",
      "+-----------------+-----------+\n",
      "|       Thomas Lam|          5|\n",
      "|  Mario Balotelli|          5|\n",
      "|     Granit Xhaka|          5|\n",
      "| Domenico Berardi|          5|\n",
      "|           Hilton|          5|\n",
      "|Kalidou Koulibaly|          4|\n",
      "|  Yannick Cahuzac|          4|\n",
      "|      Jaume Costa|          4|\n",
      "|    Heung Min Son|          4|\n",
      "|       David Luiz|          4|\n",
      "|  Gabriel Paletta|          4|\n",
      "|       Allan Nyom|          4|\n",
      "|  Damien Da Silva|          4|\n",
      "|  Rodrigo De Paul|          4|\n",
      "|  Stefan Mitrovic|          4|\n",
      "|      Ivan Ordets|          4|\n",
      "|          Rodrigo|          4|\n",
      "|       Ante Rebic|          4|\n",
      "|  Roberto Soriano|          4|\n",
      "|     Jordan Amavi|          4|\n",
      "+-----------------+-----------+\n",
      "only showing top 20 rows\n",
      "\n"
     ]
    }
   ],
   "source": [
    "(app.groupBy(\"player_id\")\n",
    "    .agg(sum(col('red_cards')).alias('total_rojas'))\n",
    "    .join(players, ['player_id'], 'left')\n",
    "    .select(col('pretty_name'), col('total_rojas'))\n",
    "    .orderBy(col('total_rojas').desc())\n",
    ").show()"
   ]
  },
  {
   "cell_type": "markdown",
   "metadata": {},
   "source": [
    "- **¿Cuántos juegos se jugaron en la Premier League? La salida debe contener dos columnas, el nombre de la liga y la cantidad de juegos que se jugaron en ella.**"
   ]
  },
  {
   "cell_type": "code",
   "execution_count": 51,
   "metadata": {},
   "outputs": [
    {
     "name": "stdout",
     "output_type": "stream",
     "text": [
      "+--------------+--------------------+------------------+----------+------------+--------------------+-------------+--------------------+\n",
      "|competition_id|                name|              type|country_id|country_name|domestic_league_code|confederation|                 url|\n",
      "+--------------+--------------------+------------------+----------+------------+--------------------+-------------+--------------------+\n",
      "|            L1|          bundesliga|        first_tier|        40|     Germany|                  L1|       europa|https://www.trans...|\n",
      "|           DFB|           dfb-pokal|      domestic_cup|        40|     Germany|                  L1|       europa|https://www.trans...|\n",
      "|           DFL|        dfl-supercup|domestic_super_cup|        40|     Germany|                  L1|       europa|https://www.trans...|\n",
      "|           NL1|          eredivisie|        first_tier|       122| Netherlands|                 NL1|       europa|https://www.trans...|\n",
      "|           NLP|     toto-knvb-beker|      domestic_cup|       122| Netherlands|                 NL1|       europa|https://www.trans...|\n",
      "|          NLSC|johan-cruijff-schaal|domestic_super_cup|       122| Netherlands|                 NL1|       europa|https://www.trans...|\n",
      "|           BE1|  jupiler-pro-league|        first_tier|        19|     Belgium|                 BE1|       europa|https://www.trans...|\n",
      "|          BESC|    belgian-supercup|domestic_super_cup|        19|     Belgium|                 BE1|       europa|https://www.trans...|\n",
      "|           ES1|              laliga|        first_tier|       157|       Spain|                 ES1|       europa|https://www.trans...|\n",
      "|           CDR|        copa-del-rey|      domestic_cup|       157|       Spain|                 ES1|       europa|https://www.trans...|\n",
      "|           SUC|           supercopa|domestic_super_cup|       157|       Spain|                 ES1|       europa|https://www.trans...|\n",
      "|           PO1|  liga-portugal-bwin|        first_tier|       136|    Portugal|                 PO1|       europa|https://www.trans...|\n",
      "|          POCP|         allianz-cup|      domestic_cup|       136|    Portugal|                 PO1|       europa|https://www.trans...|\n",
      "|          POSU|supertaca-candido...|domestic_super_cup|       136|    Portugal|                 PO1|       europa|https://www.trans...|\n",
      "|           FR1|             ligue-1|        first_tier|        50|      France|                 FR1|       europa|https://www.trans...|\n",
      "|          FRCH|trophee-des-champ...|domestic_super_cup|        50|      France|                 FR1|       europa|https://www.trans...|\n",
      "|           GB1|      premier-league|        first_tier|       189|     England|                 GB1|       europa|https://www.trans...|\n",
      "|           CGB|             efl-cup|      domestic_cup|       189|     England|                 GB1|       europa|https://www.trans...|\n",
      "|          GBCS|    community-shield|domestic_super_cup|       189|     England|                 GB1|       europa|https://www.trans...|\n",
      "|           RU1|        premier-liga|        first_tier|       141|      Russia|                 RU1|       europa|https://www.trans...|\n",
      "+--------------+--------------------+------------------+----------+------------+--------------------+-------------+--------------------+\n",
      "only showing top 20 rows\n",
      "\n"
     ]
    }
   ],
   "source": [
    "competicion.show()"
   ]
  },
  {
   "cell_type": "code",
   "execution_count": 52,
   "metadata": {},
   "outputs": [
    {
     "name": "stdout",
     "output_type": "stream",
     "text": [
      "+-------+----------------+------+-------------+----------+------------+------------+---------------+---------------+------------------+------------------+--------------------+----------+--------------------+--------------------+\n",
      "|game_id|competition_code|season|        round|      date|home_club_id|away_club_id|home_club_goals|away_club_goals|home_club_position|away_club_position|             stadium|attendance|             referee|                 url|\n",
      "+-------+----------------+------+-------------+----------+------------+------------+---------------+---------------+------------------+------------------+--------------------+----------+--------------------+--------------------+\n",
      "|2457642|            NLSC|  2014|        Final|2014-08-03|        1269|         610|              1|              0|              null|              null| Johan Cruijff ArenA|     42000|      Danny Makkelie|https://www.trans...|\n",
      "|2639088|            BESC|  2013|        Final|2014-07-20|          58|         498|              2|              1|              null|              null|Constant Vanden S...|     13733|     Jonathan Lardot|https://www.trans...|\n",
      "|2481145|             SUC|  2014|final 1st leg|2014-08-19|         418|          13|              1|              1|              null|              null|   Santiago Bernabéu|     75897|   Estrada Fernández|https://www.trans...|\n",
      "|2484338|            POSU|  2014|        Final|2014-08-10|         294|        2425|              3|              2|              null|              null|Estádio Municipal...|     30000|        Duarte Gomes|https://www.trans...|\n",
      "|2502472|            FRCH|  2014|        Final|2014-08-02|         583|         855|              2|              0|              null|              null|     Workers Stadium|     39752|      Clément Turpin|https://www.trans...|\n",
      "|2459774|             NL1|  2014| 21. Matchday|2015-02-05|         610|        1090|              0|              1|                 2|                 5| Johan Cruijff ArenA|     47724|      Pol van Boekel|https://www.trans...|\n",
      "|2480169|             PO1|  2014| 16. Matchday|2015-01-11|        2425|        1301|              0|              0|                 6|                10|   Estádio dos Arcos|      2230|       Tiago Martins|https://www.trans...|\n",
      "|2490887|             PO1|  2014| 20. Matchday|2015-02-08|        1085|        2990|              0|              0|                14|                16|   Estádio do Bonfim|      3500|     Fábio Veríssimo|https://www.trans...|\n",
      "|2498723|             PO1|  2014| 22. Matchday|2015-02-21|        1085|        3327|              0|              1|                15|                18|   Estádio do Bonfim|      2108|       Rui Rodrigues|https://www.trans...|\n",
      "|2479542|            POCP|  2014|      Group C|2014-08-13|        3345|        4750|              0|              0|              null|              null|      Estádio do Mar|       448|       Jorge Tavares|https://www.trans...|\n",
      "|2460640|              L1|  2014|  2. Matchday|2014-08-30|          86|         533|              1|              1|                 9|                 3|Wohninvest-Wesers...|     38900|     Robert Hartmann|https://www.trans...|\n",
      "|2460300|             GB1|  2014|  1. Matchday|2014-08-16|         985|        2288|              1|              2|                15|                 5|        Old Trafford|     75339|           Mike Dean|https://www.trans...|\n",
      "|2486545|             GB1|  2014|  8. Matchday|2014-10-18|         180|         289|              8|              0|                 3|                17|   St Mary's Stadium|     29615|      Andre Marriner|https://www.trans...|\n",
      "|2486598|             GB1|  2014| 13. Matchday|2014-11-30|         148|          29|              2|              1|                 7|                10|     White Hart Lane|     35901|      Michael Oliver|https://www.trans...|\n",
      "|2486692|             GB1|  2014| 23. Matchday|2015-01-31|        3008|         762|              0|              3|                18|                11|        KCOM Stadium|     23925|           Phil Dowd|https://www.trans...|\n",
      "|2486714|             GB1|  2014| 25. Matchday|2015-02-10|          31|         148|              3|              2|                 7|                 6|             Anfield|     44577|           Phil Dowd|https://www.trans...|\n",
      "|2486726|             GB1|  2014| 26. Matchday|2015-02-21|         289|         984|              0|              0|                16|                14|    Stadium of Light|     40943|          Mike Jones|https://www.trans...|\n",
      "|2475235|             ES1|  2014|  6. Matchday|2014-09-26|        1531|         940|              0|              1|                18|                 6|Manuel Martínez V...|     20852|Pedro Jesús Pérez...|https://www.trans...|\n",
      "|2475322|             ES1|  2014| 15. Matchday|2014-12-14|         681|         621|              1|              1|                14|                10|              Anoeta|     26651|David Fernández B...|https://www.trans...|\n",
      "|2475350|             ES1|  2014| 18. Matchday|2015-01-10|        1084|        1050|              1|              1|                 7|                 6|         La Rosaleda|     22077|Santiago Jaime Latre|https://www.trans...|\n",
      "+-------+----------------+------+-------------+----------+------------+------------+---------------+---------------+------------------+------------------+--------------------+----------+--------------------+--------------------+\n",
      "only showing top 20 rows\n",
      "\n"
     ]
    }
   ],
   "source": [
    "juegos.show()"
   ]
  },
  {
   "cell_type": "code",
   "execution_count": 54,
   "metadata": {},
   "outputs": [],
   "source": [
    "data1 = juegos.join(competicion, col('competition_id') == col('competition_code'), 'left')"
   ]
  },
  {
   "cell_type": "code",
   "execution_count": 55,
   "metadata": {},
   "outputs": [
    {
     "name": "stdout",
     "output_type": "stream",
     "text": [
      "+-------+----------------+------+-------------+----------+------------+------------+---------------+---------------+------------------+------------------+--------------------+----------+--------------------+--------------------+--------------+--------------------+------------------+----------+------------+--------------------+-------------+--------------------+\n",
      "|game_id|competition_code|season|        round|      date|home_club_id|away_club_id|home_club_goals|away_club_goals|home_club_position|away_club_position|             stadium|attendance|             referee|                 url|competition_id|                name|              type|country_id|country_name|domestic_league_code|confederation|                 url|\n",
      "+-------+----------------+------+-------------+----------+------------+------------+---------------+---------------+------------------+------------------+--------------------+----------+--------------------+--------------------+--------------+--------------------+------------------+----------+------------+--------------------+-------------+--------------------+\n",
      "|2457642|            NLSC|  2014|        Final|2014-08-03|        1269|         610|              1|              0|              null|              null| Johan Cruijff ArenA|     42000|      Danny Makkelie|https://www.trans...|          NLSC|johan-cruijff-schaal|domestic_super_cup|       122| Netherlands|                 NL1|       europa|https://www.trans...|\n",
      "|2639088|            BESC|  2013|        Final|2014-07-20|          58|         498|              2|              1|              null|              null|Constant Vanden S...|     13733|     Jonathan Lardot|https://www.trans...|          BESC|    belgian-supercup|domestic_super_cup|        19|     Belgium|                 BE1|       europa|https://www.trans...|\n",
      "|2481145|             SUC|  2014|final 1st leg|2014-08-19|         418|          13|              1|              1|              null|              null|   Santiago Bernabéu|     75897|   Estrada Fernández|https://www.trans...|           SUC|           supercopa|domestic_super_cup|       157|       Spain|                 ES1|       europa|https://www.trans...|\n",
      "|2484338|            POSU|  2014|        Final|2014-08-10|         294|        2425|              3|              2|              null|              null|Estádio Municipal...|     30000|        Duarte Gomes|https://www.trans...|          POSU|supertaca-candido...|domestic_super_cup|       136|    Portugal|                 PO1|       europa|https://www.trans...|\n",
      "|2502472|            FRCH|  2014|        Final|2014-08-02|         583|         855|              2|              0|              null|              null|     Workers Stadium|     39752|      Clément Turpin|https://www.trans...|          FRCH|trophee-des-champ...|domestic_super_cup|        50|      France|                 FR1|       europa|https://www.trans...|\n",
      "|2459774|             NL1|  2014| 21. Matchday|2015-02-05|         610|        1090|              0|              1|                 2|                 5| Johan Cruijff ArenA|     47724|      Pol van Boekel|https://www.trans...|           NL1|          eredivisie|        first_tier|       122| Netherlands|                 NL1|       europa|https://www.trans...|\n",
      "|2480169|             PO1|  2014| 16. Matchday|2015-01-11|        2425|        1301|              0|              0|                 6|                10|   Estádio dos Arcos|      2230|       Tiago Martins|https://www.trans...|           PO1|  liga-portugal-bwin|        first_tier|       136|    Portugal|                 PO1|       europa|https://www.trans...|\n",
      "|2490887|             PO1|  2014| 20. Matchday|2015-02-08|        1085|        2990|              0|              0|                14|                16|   Estádio do Bonfim|      3500|     Fábio Veríssimo|https://www.trans...|           PO1|  liga-portugal-bwin|        first_tier|       136|    Portugal|                 PO1|       europa|https://www.trans...|\n",
      "|2498723|             PO1|  2014| 22. Matchday|2015-02-21|        1085|        3327|              0|              1|                15|                18|   Estádio do Bonfim|      2108|       Rui Rodrigues|https://www.trans...|           PO1|  liga-portugal-bwin|        first_tier|       136|    Portugal|                 PO1|       europa|https://www.trans...|\n",
      "|2479542|            POCP|  2014|      Group C|2014-08-13|        3345|        4750|              0|              0|              null|              null|      Estádio do Mar|       448|       Jorge Tavares|https://www.trans...|          POCP|         allianz-cup|      domestic_cup|       136|    Portugal|                 PO1|       europa|https://www.trans...|\n",
      "|2460640|              L1|  2014|  2. Matchday|2014-08-30|          86|         533|              1|              1|                 9|                 3|Wohninvest-Wesers...|     38900|     Robert Hartmann|https://www.trans...|            L1|          bundesliga|        first_tier|        40|     Germany|                  L1|       europa|https://www.trans...|\n",
      "|2460300|             GB1|  2014|  1. Matchday|2014-08-16|         985|        2288|              1|              2|                15|                 5|        Old Trafford|     75339|           Mike Dean|https://www.trans...|           GB1|      premier-league|        first_tier|       189|     England|                 GB1|       europa|https://www.trans...|\n",
      "|2486545|             GB1|  2014|  8. Matchday|2014-10-18|         180|         289|              8|              0|                 3|                17|   St Mary's Stadium|     29615|      Andre Marriner|https://www.trans...|           GB1|      premier-league|        first_tier|       189|     England|                 GB1|       europa|https://www.trans...|\n",
      "|2486598|             GB1|  2014| 13. Matchday|2014-11-30|         148|          29|              2|              1|                 7|                10|     White Hart Lane|     35901|      Michael Oliver|https://www.trans...|           GB1|      premier-league|        first_tier|       189|     England|                 GB1|       europa|https://www.trans...|\n",
      "|2486692|             GB1|  2014| 23. Matchday|2015-01-31|        3008|         762|              0|              3|                18|                11|        KCOM Stadium|     23925|           Phil Dowd|https://www.trans...|           GB1|      premier-league|        first_tier|       189|     England|                 GB1|       europa|https://www.trans...|\n",
      "|2486714|             GB1|  2014| 25. Matchday|2015-02-10|          31|         148|              3|              2|                 7|                 6|             Anfield|     44577|           Phil Dowd|https://www.trans...|           GB1|      premier-league|        first_tier|       189|     England|                 GB1|       europa|https://www.trans...|\n",
      "|2486726|             GB1|  2014| 26. Matchday|2015-02-21|         289|         984|              0|              0|                16|                14|    Stadium of Light|     40943|          Mike Jones|https://www.trans...|           GB1|      premier-league|        first_tier|       189|     England|                 GB1|       europa|https://www.trans...|\n",
      "|2475235|             ES1|  2014|  6. Matchday|2014-09-26|        1531|         940|              0|              1|                18|                 6|Manuel Martínez V...|     20852|Pedro Jesús Pérez...|https://www.trans...|           ES1|              laliga|        first_tier|       157|       Spain|                 ES1|       europa|https://www.trans...|\n",
      "|2475322|             ES1|  2014| 15. Matchday|2014-12-14|         681|         621|              1|              1|                14|                10|              Anoeta|     26651|David Fernández B...|https://www.trans...|           ES1|              laliga|        first_tier|       157|       Spain|                 ES1|       europa|https://www.trans...|\n",
      "|2475350|             ES1|  2014| 18. Matchday|2015-01-10|        1084|        1050|              1|              1|                 7|                 6|         La Rosaleda|     22077|Santiago Jaime Latre|https://www.trans...|           ES1|              laliga|        first_tier|       157|       Spain|                 ES1|       europa|https://www.trans...|\n",
      "+-------+----------------+------+-------------+----------+------------+------------+---------------+---------------+------------------+------------------+--------------------+----------+--------------------+--------------------+--------------+--------------------+------------------+----------+------------+--------------------+-------------+--------------------+\n",
      "only showing top 20 rows\n",
      "\n"
     ]
    }
   ],
   "source": [
    "data1.show()"
   ]
  },
  {
   "cell_type": "code",
   "execution_count": 56,
   "metadata": {},
   "outputs": [
    {
     "name": "stdout",
     "output_type": "stream",
     "text": [
      "+--------------+-----+\n",
      "|          name|count|\n",
      "+--------------+-----+\n",
      "|premier-league| 2809|\n",
      "+--------------+-----+\n",
      "\n"
     ]
    }
   ],
   "source": [
    "data1.groupBy('name').count().filter(col('name') == 'premier-league').show()"
   ]
  },
  {
   "cell_type": "markdown",
   "metadata": {},
   "source": [
    "- **Obtenga las tres ligas con mayor número de asistencia de público teniendo en cuenta todos los juegos que se jugaron en ellas. El resultado debe estar ordenado de forma descendente y tener dos columnas, el nombre de la liga y la asistencia total.**"
   ]
  },
  {
   "cell_type": "code",
   "execution_count": 57,
   "metadata": {},
   "outputs": [],
   "source": [
    "from pyspark.sql.functions import sum"
   ]
  },
  {
   "cell_type": "code",
   "execution_count": 59,
   "metadata": {},
   "outputs": [
    {
     "name": "stdout",
     "output_type": "stream",
     "text": [
      "+--------------+----------+\n",
      "|          name|asistencia|\n",
      "+--------------+----------+\n",
      "|premier-league|  86964852|\n",
      "|    bundesliga|  78102473|\n",
      "|        laliga|  62943533|\n",
      "+--------------+----------+\n",
      "\n"
     ]
    }
   ],
   "source": [
    "data1.groupBy('name').agg(sum('attendance').alias('asistencia')).orderBy(desc('asistencia')).limit(3).show()"
   ]
  }
 ],
 "metadata": {
  "kernelspec": {
   "display_name": "pyspark_env",
   "language": "python",
   "name": "python3"
  },
  "language_info": {
   "codemirror_mode": {
    "name": "ipython",
    "version": 3
   },
   "file_extension": ".py",
   "mimetype": "text/x-python",
   "name": "python",
   "nbconvert_exporter": "python",
   "pygments_lexer": "ipython3",
   "version": "3.9.20"
  }
 },
 "nbformat": 4,
 "nbformat_minor": 2
}
