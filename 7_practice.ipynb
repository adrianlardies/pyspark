{
 "cells": [
  {
   "cell_type": "code",
   "execution_count": 1,
   "metadata": {},
   "outputs": [],
   "source": [
    "import os\n",
    "\n",
    "os.environ['JAVA_HOME'] = \"C:/Program Files/Java/jdk-11\"\n",
    "os.environ['PYSPARK_PYTHON'] = \"C:/Users/usr/anaconda3/envs/pyspark_env/python.exe\"\n",
    "os.environ['PYSPARK_DRIVER_PYTHON'] = \"C:/Users/usr/anaconda3/envs/pyspark_env/python.exe\"\n",
    "os.environ['HADOOP_HOME'] = \"C:/hadoop-3.4.0\"\n",
    "os.environ['HADOOP_COMMON_LIB_NATIVE_DIR'] = \"C:/hadoop-3.4.0/lib/native\"\n",
    "os.environ['PATH'] += os.pathsep + \"C:/hadoop-3.4.0/bin\"\n",
    "\n",
    "import findspark\n",
    "findspark.init()\n",
    "\n",
    "from pyspark.sql import SparkSession\n",
    "\n",
    "spark = SparkSession.builder.getOrCreate()\n",
    "\n",
    "sc = spark.sparkContext"
   ]
  },
  {
   "cell_type": "code",
   "execution_count": 42,
   "metadata": {},
   "outputs": [],
   "source": [
    "players = spark.read.csv(\"data/practice_spark_sql_avanzado/players.csv\", header=True, inferSchema=True)\n",
    "app = spark.read.csv(\"data/practice_spark_sql_avanzado/appearances.csv\", header=True, inferSchema=True)\n",
    "competicion = spark.read.csv(\"data/practice_spark_sql_avanzado/competitions.csv\", header=True, inferSchema=True)\n",
    "juegos = spark.read.csv(\"data/practice_spark_sql_avanzado/games.csv\", header=True, inferSchema=True)"
   ]
  },
  {
   "cell_type": "markdown",
   "metadata": {},
   "source": [
    "- **Determine los tres países con mayor número de jugadores(jugadores nacidos en ese país). El resultado debe estar ordenado de forma descendente.** "
   ]
  },
  {
   "cell_type": "code",
   "execution_count": 43,
   "metadata": {},
   "outputs": [
    {
     "name": "stdout",
     "output_type": "stream",
     "text": [
      "+---------+---------------+--------------------+--------------------+----------------+----------------------+-------------+----------+------------------+-----+------------+-------------------+---------------------------+--------------------+\n",
      "|player_id|current_club_id|                name|         pretty_name|country_of_birth|country_of_citizenship|date_of_birth|  position|      sub_position| foot|height_in_cm|market_value_in_gbp|highest_market_value_in_gbp|                 url|\n",
      "+---------+---------------+--------------------+--------------------+----------------+----------------------+-------------+----------+------------------+-----+------------+-------------------+---------------------------+--------------------+\n",
      "|    38790|          28095|      dmitri-golubov|      Dmitri Golubov|           UdSSR|                Russia|   1985-06-24|    Attack|    Centre-Forward| Both|         178|               null|                   675000.0|https://www.trans...|\n",
      "|   106539|          28095|  aleksandr-vasiljev|  Aleksandr Vasiljev|          Russia|                Russia|   1992-01-23|    Attack|      Right Winger|Right|         182|               null|                   225000.0|https://www.trans...|\n",
      "|   164389|           2288|       rory-donnelly|       Rory Donnelly|Northern Ireland|      Northern Ireland|   1992-02-18|    Attack|    Centre-Forward|Right|         188|           113000.0|                   225000.0|https://www.trans...|\n",
      "|    45247|           1162|      damien-perquis|      Damien Perquis|          France|                France|   1986-03-08|Goalkeeper|        Goalkeeper|Right|         186|               null|                   900000.0|https://www.trans...|\n",
      "|    97205|          28095| nikita-bezlikhotnov| Nikita Bezlikhotnov|           UdSSR|                Russia|   1990-08-19|    Attack|      Right Winger|Right|         179|               null|                   675000.0|https://www.trans...|\n",
      "|    14962|           1177|         jesper-bech|         Jesper Bech|            null|               Denmark|   1982-05-25|  Midfield|  Central Midfield| Left|         177|               null|                  1130000.0|https://www.trans...|\n",
      "|   202836|             24|       yaffa-yusupha|       Yaffa Yusupha|      The Gambia|            The Gambia|   1996-12-31|    Attack|    Centre-Forward| null|           0|               null|                    90000.0|https://www.trans...|\n",
      "|    40027|           5818|       ruben-nygaard|       Ruben Nygaard|            null|               Denmark|   1986-05-25|    Attack|      Right Winger|Right|         175|               null|                   180000.0|https://www.trans...|\n",
      "|    62065|           5818|        dennis-hoegh|        Dennis Hoegh|         Denmark|               Denmark|   1989-02-21|  Midfield|Attacking Midfield|Right|         184|               null|                   225000.0|https://www.trans...|\n",
      "|   203899|            403|         stijn-derkx|         Stijn Derkx|     Netherlands|           Netherlands|   1995-02-03|    Attack|    Centre-Forward|Right|         182|               null|                    45000.0|https://www.trans...|\n",
      "|    48897|           1177|         ade-runsewe|         Ade Runsewe|            null|               Nigeria|   1989-12-01|    Attack|      Right Winger|Right|         176|               null|                   315000.0|https://www.trans...|\n",
      "|    23367|            862|       alessio-sestu|       Alessio Sestu|           Italy|                 Italy|   1983-09-29|    Attack|      Right Winger|Right|         177|               null|                   720000.0|https://www.trans...|\n",
      "|   107958|            862|      nicola-bellomo|      Nicola Bellomo|           Italy|                 Italy|   1991-02-18|  Midfield|Attacking Midfield|Right|         174|               null|                  1620000.0|https://www.trans...|\n",
      "|   103110|           5818| frederik-hammershoj| Frederik Hammershoj|            null|               Denmark|   1987-06-15|  Midfield|  Central Midfield| Left|           0|               null|                   135000.0|https://www.trans...|\n",
      "|    45185|            862|       tomasz-kupisz|       Tomasz Kupisz|          Poland|                Poland|   1990-01-02|  Midfield|    Right Midfield|Right|         180|               null|                   900000.0|https://www.trans...|\n",
      "|   334723|            800|       nicolas-napol|       Nicolas Napol|          France|               Belgium|   1996-04-03|    Attack|    Centre-Forward|Right|         186|               null|                    68000.0|https://www.trans...|\n",
      "|   176130|            800|     lorenzo-rosseti|     Lorenzo Rosseti|           Italy|                 Italy|   1994-08-05|    Attack|    Centre-Forward|Right|         182|               null|                  1080000.0|https://www.trans...|\n",
      "|    47769|           1177|    bjarni-vidarsson|    Bjarni Vidarsson|         Iceland|               Iceland|   1988-03-05|  Midfield|  Central Midfield| Both|         187|               null|                   900000.0|https://www.trans...|\n",
      "|    20726|            800|     rolando-bianchi|     Rolando Bianchi|           Italy|                 Italy|   1983-02-15|    Attack|    Centre-Forward|Right|         188|               null|                     1.17E7|https://www.trans...|\n",
      "|   287631|            276|pierluigi-cappell...|Pierluigi Cappell...|           Italy|                 Italy|   1996-06-09|    Attack|    Centre-Forward| Left|         186|               null|                   270000.0|https://www.trans...|\n",
      "+---------+---------------+--------------------+--------------------+----------------+----------------------+-------------+----------+------------------+-----+------------+-------------------+---------------------------+--------------------+\n",
      "only showing top 20 rows\n",
      "\n"
     ]
    }
   ],
   "source": [
    "players.show()"
   ]
  },
  {
   "cell_type": "code",
   "execution_count": 44,
   "metadata": {},
   "outputs": [],
   "source": [
    "from pyspark.sql.functions import col, desc"
   ]
  },
  {
   "cell_type": "code",
   "execution_count": 47,
   "metadata": {},
   "outputs": [
    {
     "name": "stdout",
     "output_type": "stream",
     "text": [
      "+----------------+-----+\n",
      "|country_of_birth|count|\n",
      "+----------------+-----+\n",
      "|          France| 1694|\n",
      "|           Spain| 1388|\n",
      "|           Italy| 1312|\n",
      "+----------------+-----+\n",
      "\n"
     ]
    }
   ],
   "source": [
    "players.groupBy(\"country_of_birth\").count().orderBy(desc(\"count\")).filter(col('country_of_birth').isNotNull()).limit(3).show()"
   ]
  },
  {
   "cell_type": "markdown",
   "metadata": {},
   "source": [
    "- **Obtenga la lista de jugadores con tarjeta roja. La salida debe contener dos columnas, el nombre de pila del jugador y la cantidad de tarjetas rojas que tiene.**"
   ]
  },
  {
   "cell_type": "code",
   "execution_count": 50,
   "metadata": {},
   "outputs": [
    {
     "name": "stdout",
     "output_type": "stream",
     "text": [
      "+-----------------+-----------+\n",
      "|      pretty_name|total_rojas|\n",
      "+-----------------+-----------+\n",
      "|       Thomas Lam|          5|\n",
      "|  Mario Balotelli|          5|\n",
      "|     Granit Xhaka|          5|\n",
      "| Domenico Berardi|          5|\n",
      "|           Hilton|          5|\n",
      "|Kalidou Koulibaly|          4|\n",
      "|  Yannick Cahuzac|          4|\n",
      "|      Jaume Costa|          4|\n",
      "|    Heung Min Son|          4|\n",
      "|       David Luiz|          4|\n",
      "|  Gabriel Paletta|          4|\n",
      "|       Allan Nyom|          4|\n",
      "|  Damien Da Silva|          4|\n",
      "|  Rodrigo De Paul|          4|\n",
      "|  Stefan Mitrovic|          4|\n",
      "|      Ivan Ordets|          4|\n",
      "|          Rodrigo|          4|\n",
      "|       Ante Rebic|          4|\n",
      "|  Roberto Soriano|          4|\n",
      "|     Jordan Amavi|          4|\n",
      "+-----------------+-----------+\n",
      "only showing top 20 rows\n",
      "\n"
     ]
    }
   ],
   "source": [
    "(app.groupBy(\"player_id\")\n",
    "    .agg(sum(col('red_cards')).alias('total_rojas'))\n",
    "    .join(players, ['player_id'], 'left')\n",
    "    .select(col('pretty_name'), col('total_rojas'))\n",
    "    .orderBy(col('total_rojas').desc())\n",
    ").show()"
   ]
  },
  {
   "cell_type": "markdown",
   "metadata": {},
   "source": [
    "- **¿Cuántos juegos se jugaron en la Premier League? La salida debe contener dos columnas, el nombre de la liga y la cantidad de juegos que se jugaron en ella.**"
   ]
  },
  {
   "cell_type": "code",
   "execution_count": null,
   "metadata": {},
   "outputs": [],
   "source": []
  },
  {
   "cell_type": "markdown",
   "metadata": {},
   "source": [
    "- **Obtenga las tres ligas con mayor número de asistencia de público teniendo en cuenta todos los juegos que se jugaron en ellas. El resultado debe estar ordenado de forma descendente y tener dos columnas, el nombre de la liga y la asistencia total.**"
   ]
  }
 ],
 "metadata": {
  "kernelspec": {
   "display_name": "pyspark_env",
   "language": "python",
   "name": "python3"
  },
  "language_info": {
   "codemirror_mode": {
    "name": "ipython",
    "version": 3
   },
   "file_extension": ".py",
   "mimetype": "text/x-python",
   "name": "python",
   "nbconvert_exporter": "python",
   "pygments_lexer": "ipython3",
   "version": "3.9.20"
  }
 },
 "nbformat": 4,
 "nbformat_minor": 2
}
