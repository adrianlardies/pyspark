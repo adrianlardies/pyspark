{
 "cells": [
  {
   "cell_type": "code",
   "execution_count": 1,
   "metadata": {},
   "outputs": [],
   "source": [
    "import os\n",
    "\n",
    "os.environ['JAVA_HOME'] = \"C:/Program Files/Java/jdk-11\"\n",
    "os.environ['PYSPARK_PYTHON'] = \"C:/Users/usr/anaconda3/envs/pyspark_env/python.exe\"\n",
    "os.environ['PYSPARK_DRIVER_PYTHON'] = \"C:/Users/usr/anaconda3/envs/pyspark_env/python.exe\"\n",
    "os.environ['HADOOP_HOME'] = \"C:/hadoop-3.4.0\"\n",
    "os.environ['HADOOP_COMMON_LIB_NATIVE_DIR'] = \"C:/hadoop-3.4.0/lib/native\"\n",
    "os.environ['PATH'] += os.pathsep + \"C:/hadoop-3.4.0/bin\"\n",
    "\n",
    "import findspark\n",
    "findspark.init()\n",
    "\n",
    "from pyspark.sql import SparkSession\n",
    "\n",
    "spark = SparkSession.builder.getOrCreate()\n",
    "\n",
    "sc = spark.sparkContext"
   ]
  },
  {
   "cell_type": "markdown",
   "metadata": {},
   "source": [
    "- **Calcule la cantidad de películas en las que participó cada actor. La salida debe tener dos columnas: actor y conteo. La salida debe ordenarse por el conteo en orden descendente.**"
   ]
  },
  {
   "cell_type": "code",
   "execution_count": 12,
   "metadata": {},
   "outputs": [],
   "source": [
    "movies = spark.read.option('sep', '|').option('inferSchema', 'True').option('header', 'True').csv('./data/movies.csv')\n",
    "ratings = spark.read.option('sep', '|').option('inferSchema', 'True').option('header', 'True').csv('./data/movie_ratings.csv')"
   ]
  },
  {
   "cell_type": "code",
   "execution_count": 13,
   "metadata": {},
   "outputs": [
    {
     "name": "stdout",
     "output_type": "stream",
     "text": [
      "+-----------------+---------------------------+----+\n",
      "|actor            |pelicula                   |año |\n",
      "+-----------------+---------------------------+----+\n",
      "|McClure, Marc (I)|Freaky Friday              |2003|\n",
      "|McClure, Marc (I)|Coach Carter               |2005|\n",
      "|McClure, Marc (I)|Superman II                |1980|\n",
      "|McClure, Marc (I)|Apollo 13                  |1995|\n",
      "|McClure, Marc (I)|Superman                   |1978|\n",
      "|McClure, Marc (I)|Back to the Future         |1985|\n",
      "|McClure, Marc (I)|Back to the Future Part III|1990|\n",
      "|Cooper, Chris (I)|Me, Myself & Irene         |2000|\n",
      "|Cooper, Chris (I)|October Sky                |1999|\n",
      "|Cooper, Chris (I)|Capote                     |2005|\n",
      "|Cooper, Chris (I)|The Bourne Supremacy       |2004|\n",
      "|Cooper, Chris (I)|The Patriot                |2000|\n",
      "|Cooper, Chris (I)|The Town                   |2010|\n",
      "|Cooper, Chris (I)|Seabiscuit                 |2003|\n",
      "|Cooper, Chris (I)|A Time to Kill             |1996|\n",
      "|Cooper, Chris (I)|Where the Wild Things Are  |2009|\n",
      "|Cooper, Chris (I)|The Muppets                |2011|\n",
      "|Cooper, Chris (I)|American Beauty            |1999|\n",
      "|Cooper, Chris (I)|Syriana                    |2005|\n",
      "|Cooper, Chris (I)|The Horse Whisperer        |1998|\n",
      "+-----------------+---------------------------+----+\n",
      "only showing top 20 rows\n",
      "\n"
     ]
    }
   ],
   "source": [
    "movies.show(truncate=False)"
   ]
  },
  {
   "cell_type": "code",
   "execution_count": 15,
   "metadata": {},
   "outputs": [],
   "source": [
    "from pyspark.sql.functions import col, desc"
   ]
  },
  {
   "cell_type": "code",
   "execution_count": 17,
   "metadata": {},
   "outputs": [
    {
     "name": "stdout",
     "output_type": "stream",
     "text": [
      "+-------------------+-----+\n",
      "|              actor|count|\n",
      "+-------------------+-----+\n",
      "|   Tatasciore, Fred|   38|\n",
      "|      Welker, Frank|   38|\n",
      "| Jackson, Samuel L.|   32|\n",
      "|      Harnell, Jess|   31|\n",
      "|        Damon, Matt|   27|\n",
      "|      Willis, Bruce|   27|\n",
      "|  Cummings, Jim (I)|   26|\n",
      "|         Hanks, Tom|   25|\n",
      "|   Lynn, Sherry (I)|   25|\n",
      "|    McGowan, Mickie|   25|\n",
      "|    Bergen, Bob (I)|   25|\n",
      "|      Proctor, Phil|   24|\n",
      "|   Wilson, Owen (I)|   23|\n",
      "|        Cruise, Tom|   23|\n",
      "|         Pitt, Brad|   23|\n",
      "|Freeman, Morgan (I)|   22|\n",
      "|Williams, Robin (I)|   22|\n",
      "|       Depp, Johnny|   22|\n",
      "|     Morrison, Rana|   22|\n",
      "|      Diaz, Cameron|   21|\n",
      "+-------------------+-----+\n",
      "only showing top 20 rows\n",
      "\n"
     ]
    }
   ],
   "source": [
    "movies.groupBy('actor').count().orderBy(desc('count')).show()"
   ]
  },
  {
   "cell_type": "markdown",
   "metadata": {},
   "source": [
    "- **Calcule la cantidad de películas producidas cada año. La salida debe tener tres columnas: año, siglo al que pertenece el año y conteo. La salida debe ordenarse por el conteo en orden descendente.**"
   ]
  },
  {
   "cell_type": "code",
   "execution_count": 19,
   "metadata": {},
   "outputs": [],
   "source": [
    "from pyspark.sql.functions import countDistinct, when, lit"
   ]
  },
  {
   "cell_type": "code",
   "execution_count": 25,
   "metadata": {},
   "outputs": [
    {
     "name": "stdout",
     "output_type": "stream",
     "text": [
      "+----+-----+------+\n",
      "| año|siglo|conteo|\n",
      "+----+-----+------+\n",
      "|2006|  XXI|    86|\n",
      "|2004|  XXI|    86|\n",
      "|2011|  XXI|    86|\n",
      "|2005|  XXI|    85|\n",
      "|2008|  XXI|    82|\n",
      "|2002|  XXI|    81|\n",
      "|2010|  XXI|    78|\n",
      "|2000|  XXI|    77|\n",
      "|2003|  XXI|    76|\n",
      "|2007|  XXI|    75|\n",
      "|2001|  XXI|    71|\n",
      "|2009|  XXI|    68|\n",
      "|1999|   XX|    67|\n",
      "|1997|   XX|    66|\n",
      "|1998|   XX|    59|\n",
      "|1996|   XX|    42|\n",
      "|2012|  XXI|    32|\n",
      "|1995|   XX|    25|\n",
      "|1994|   XX|    16|\n",
      "|1986|   XX|    16|\n",
      "+----+-----+------+\n",
      "only showing top 20 rows\n",
      "\n"
     ]
    }
   ],
   "source": [
    "movies.groupBy('año').agg(\n",
    "    countDistinct('pelicula').alias('conteo')\n",
    ").withColumn('siglo', when((col('año') >= 1900) & (col('año') < 2000), lit('XX')).otherwise(lit('XXI'))).orderBy(desc('conteo')).select(\n",
    "    col('año'),\n",
    "    col('siglo'),\n",
    "    col('conteo')\n",
    ").show()"
   ]
  },
  {
   "cell_type": "markdown",
   "metadata": {},
   "source": [
    "- **Obtenga la película con la calificación más alta por año. La salida debe tener solo una película por año y debe contener tres columnas: año, título de la película y valoración.**"
   ]
  },
  {
   "cell_type": "code",
   "execution_count": 26,
   "metadata": {},
   "outputs": [
    {
     "name": "stdout",
     "output_type": "stream",
     "text": [
      "+----------+--------------------------+----+\n",
      "|valoracion|pelicula                  |año |\n",
      "+----------+--------------------------+----+\n",
      "|1.6339    |'Crocodile' Dundee II     |1988|\n",
      "|7.6177    |10                        |1979|\n",
      "|1.2864    |10 Things I Hate About You|1999|\n",
      "|0.3243    |10,000 BC                 |2008|\n",
      "|0.3376    |101 Dalmatians            |1996|\n",
      "|0.5218    |102 Dalmatians            |2000|\n",
      "|12.8205   |1066                      |2012|\n",
      "|0.6829    |12                        |2007|\n",
      "|7.4061    |12 Rounds                 |2009|\n",
      "|2.3677    |127 Hours                 |2010|\n",
      "|1.3585    |13 Going on 30            |2004|\n",
      "|8.4034    |13 game sayawng           |2006|\n",
      "|0.59      |1408                      |2007|\n",
      "|4.4292    |15 Minutes                |2001|\n",
      "|2.2118    |16 Blocks                 |2006|\n",
      "|1.0491    |17 Again                  |2009|\n",
      "|3.9265    |1941                      |1979|\n",
      "|10.4757   |2 Days in the Valley      |1996|\n",
      "|0.4       |2 Fast 2 Furious          |2003|\n",
      "|11.1111   |2 Guns                    |2013|\n",
      "+----------+--------------------------+----+\n",
      "only showing top 20 rows\n",
      "\n"
     ]
    }
   ],
   "source": [
    "ratings.show(truncate=False)"
   ]
  },
  {
   "cell_type": "code",
   "execution_count": 28,
   "metadata": {},
   "outputs": [],
   "source": [
    "from pyspark.sql.window import Window\n",
    "from pyspark.sql.functions import row_number, max"
   ]
  },
  {
   "cell_type": "code",
   "execution_count": 29,
   "metadata": {},
   "outputs": [],
   "source": [
    "windowsSpec = Window.partitionBy('año').orderBy(desc('valoracion'))\n",
    "windowsSpecAgg = Window.partitionBy('año')"
   ]
  },
  {
   "cell_type": "code",
   "execution_count": 32,
   "metadata": {},
   "outputs": [
    {
     "name": "stdout",
     "output_type": "stream",
     "text": [
      "+----+--------------------+-------+\n",
      "| año|            pelicula|max_val|\n",
      "+----+--------------------+-------+\n",
      "|1937|Snow White and th...| 2.2207|\n",
      "|1939|    The Wizard of Oz| 7.9215|\n",
      "|1940|           Pinocchio| 7.8557|\n",
      "|1942|               Bambi| 1.5053|\n",
      "|1946|   Song of the South|  7.602|\n",
      "|1950|          Cinderella| 9.4226|\n",
      "|1953|           Peter Pan| 5.4756|\n",
      "|1954|         Rear Window|10.7625|\n",
      "|1955|  Lady and the Tramp| 5.1258|\n",
      "|1956|Around the World ...|14.0607|\n",
      "|1959|     Sleeping Beauty| 6.3919|\n",
      "|1960|              Psycho|10.6375|\n",
      "|1961|One Hundred and O...| 0.6726|\n",
      "|1962|     The Longest Day|12.8866|\n",
      "|1963|It's a Mad Mad Ma...|  6.626|\n",
      "|1964|        My Fair Lady|  7.587|\n",
      "|1965|      Doctor Zhivago| 4.9304|\n",
      "|1966|Who's Afraid of V...|11.1111|\n",
      "|1967|     The Dirty Dozen| 13.388|\n",
      "|1968|        The Love Bug|13.4383|\n",
      "+----+--------------------+-------+\n",
      "only showing top 20 rows\n",
      "\n"
     ]
    }
   ],
   "source": [
    "ratings.withColumn('row_number', row_number().over(windowsSpec)).withColumn('max_val', max('valoracion').over(windowsSpecAgg)).filter(\n",
    "    col('row_number') == 1\n",
    "    ).select(\n",
    "    col('año'),\n",
    "    col('pelicula'),\n",
    "    col('max_val')\n",
    ").show()"
   ]
  }
 ],
 "metadata": {
  "kernelspec": {
   "display_name": "pyspark_env",
   "language": "python",
   "name": "python3"
  },
  "language_info": {
   "codemirror_mode": {
    "name": "ipython",
    "version": 3
   },
   "file_extension": ".py",
   "mimetype": "text/x-python",
   "name": "python",
   "nbconvert_exporter": "python",
   "pygments_lexer": "ipython3",
   "version": "3.9.20"
  }
 },
 "nbformat": 4,
 "nbformat_minor": 2
}
