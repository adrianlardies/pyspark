{
 "cells": [
  {
   "cell_type": "code",
   "execution_count": 1,
   "metadata": {},
   "outputs": [],
   "source": [
    "import os\n",
    "\n",
    "os.environ['JAVA_HOME'] = \"C:/Program Files/Java/jdk-11\"\n",
    "os.environ['PYSPARK_PYTHON'] = \"C:/Users/usr/anaconda3/envs/pyspark_env/python.exe\"\n",
    "os.environ['PYSPARK_DRIVER_PYTHON'] = \"C:/Users/usr/anaconda3/envs/pyspark_env/python.exe\"\n",
    "os.environ['HADOOP_HOME'] = \"C:/hadoop-3.4.0\"\n",
    "os.environ['HADOOP_COMMON_LIB_NATIVE_DIR'] = \"C:/hadoop-3.4.0/lib/native\"\n",
    "os.environ['PATH'] += os.pathsep + \"C:/hadoop-3.4.0/bin\"\n",
    "\n",
    "import findspark\n",
    "findspark.init()\n",
    "\n",
    "from pyspark.sql import SparkSession\n",
    "\n",
    "spark = SparkSession.builder.getOrCreate()\n",
    "\n",
    "sc = spark.sparkContext"
   ]
  },
  {
   "cell_type": "markdown",
   "metadata": {},
   "source": [
    "- **Calcule la cantidad de películas en las que participó cada actor. La salida debe tener dos columnas: actor y conteo. La salida debe ordenarse por el conteo en orden descendente.**"
   ]
  },
  {
   "cell_type": "code",
   "execution_count": 4,
   "metadata": {},
   "outputs": [],
   "source": [
    "movies = spark.read.csv('./data/movies.csv', header=True, inferSchema=True)\n",
    "movie_ratings= spark.read.csv('./data/movie_ratings.csv', header=True, inferSchema=True)"
   ]
  },
  {
   "cell_type": "code",
   "execution_count": 8,
   "metadata": {},
   "outputs": [
    {
     "name": "stdout",
     "output_type": "stream",
     "text": [
      "+------------------+\n",
      "|actor|pelicula|año|\n",
      "+------------------+\n",
      "|McClure           |\n",
      "|McClure           |\n",
      "|McClure           |\n",
      "|McClure           |\n",
      "|McClure           |\n",
      "|McClure           |\n",
      "|McClure           |\n",
      "|Cooper            |\n",
      "|Cooper            |\n",
      "|Cooper            |\n",
      "|Cooper            |\n",
      "|Cooper            |\n",
      "|Cooper            |\n",
      "|Cooper            |\n",
      "|Cooper            |\n",
      "|Cooper            |\n",
      "|Cooper            |\n",
      "|Cooper            |\n",
      "|Cooper            |\n",
      "|Cooper            |\n",
      "+------------------+\n",
      "only showing top 20 rows\n",
      "\n"
     ]
    }
   ],
   "source": [
    "movies.show(truncate=False)"
   ]
  },
  {
   "cell_type": "code",
   "execution_count": 9,
   "metadata": {},
   "outputs": [
    {
     "name": "stdout",
     "output_type": "stream",
     "text": [
      "+--------------------------------------+\n",
      "|valoracion|pelicula|año               |\n",
      "+--------------------------------------+\n",
      "|1.6339|'Crocodile' Dundee II|1988     |\n",
      "|7.6177|10|1979                        |\n",
      "|1.2864|10 Things I Hate About You|1999|\n",
      "|0.3243|10                             |\n",
      "|0.3376|101 Dalmatians|1996            |\n",
      "|0.5218|102 Dalmatians|2000            |\n",
      "|12.8205|1066|2012                     |\n",
      "|0.6829|12|2007                        |\n",
      "|7.4061|12 Rounds|2009                 |\n",
      "|2.3677|127 Hours|2010                 |\n",
      "|1.3585|13 Going on 30|2004            |\n",
      "|8.4034|13 game sayawng|2006           |\n",
      "|0.59|1408|2007                        |\n",
      "|4.4292|15 Minutes|2001                |\n",
      "|2.2118|16 Blocks|2006                 |\n",
      "|1.0491|17 Again|2009                  |\n",
      "|3.9265|1941|1979                      |\n",
      "|10.4757|2 Days in the Valley|1996     |\n",
      "|0.4|2 Fast 2 Furious|2003             |\n",
      "|11.1111|2 Guns|2013                   |\n",
      "+--------------------------------------+\n",
      "only showing top 20 rows\n",
      "\n"
     ]
    }
   ],
   "source": [
    "movie_ratings.show(truncate=False)"
   ]
  },
  {
   "cell_type": "markdown",
   "metadata": {},
   "source": [
    "- **Calcule la cantidad de películas producidas cada año. La salida debe tener tres columnas: año, siglo al que pertenece el año y conteo. La salida debe ordenarse por el conteo en orden descendente.**"
   ]
  },
  {
   "cell_type": "markdown",
   "metadata": {},
   "source": [
    "- **Obtenga la película con la calificación más alta por año. La salida debe tener solo una película por año y debe contener tres columnas: año, título de la película y valoración.**"
   ]
  }
 ],
 "metadata": {
  "kernelspec": {
   "display_name": "pyspark_env",
   "language": "python",
   "name": "python3"
  },
  "language_info": {
   "codemirror_mode": {
    "name": "ipython",
    "version": 3
   },
   "file_extension": ".py",
   "mimetype": "text/x-python",
   "name": "python",
   "nbconvert_exporter": "python",
   "pygments_lexer": "ipython3",
   "version": "3.9.20"
  }
 },
 "nbformat": 4,
 "nbformat_minor": 2
}
