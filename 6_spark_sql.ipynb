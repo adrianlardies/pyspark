{
 "cells": [
  {
   "cell_type": "code",
   "execution_count": 1,
   "metadata": {},
   "outputs": [],
   "source": [
    "import os\n",
    "\n",
    "os.environ['JAVA_HOME'] = \"C:/Program Files/Java/jdk-11\"\n",
    "os.environ['PYSPARK_PYTHON'] = \"C:/Users/usr/anaconda3/envs/pyspark_env/python.exe\"\n",
    "os.environ['PYSPARK_DRIVER_PYTHON'] = \"C:/Users/usr/anaconda3/envs/pyspark_env/python.exe\"\n",
    "os.environ['HADOOP_HOME'] = \"C:/hadoop-3.4.0\"\n",
    "os.environ['HADOOP_COMMON_LIB_NATIVE_DIR'] = \"C:/hadoop-3.4.0/lib/native\"\n",
    "os.environ['PATH'] += os.pathsep + \"C:/hadoop-3.4.0/bin\"\n",
    "\n",
    "import findspark\n",
    "findspark.init()\n",
    "\n",
    "from pyspark.sql import SparkSession\n",
    "\n",
    "spark = SparkSession.builder.getOrCreate()\n",
    "\n",
    "sc = spark.sparkContext"
   ]
  },
  {
   "cell_type": "markdown",
   "metadata": {},
   "source": [
    "### **Crear un DataFrame a partir de un RDD**"
   ]
  },
  {
   "cell_type": "code",
   "execution_count": 2,
   "metadata": {},
   "outputs": [],
   "source": [
    "rdd = sc.parallelize([item for item in range(10)]).map(lambda x: (x, x ** 2)) # Queremos que nos devuelva tuplas."
   ]
  },
  {
   "cell_type": "code",
   "execution_count": 3,
   "metadata": {},
   "outputs": [
    {
     "data": {
      "text/plain": [
       "[(0, 0),\n",
       " (1, 1),\n",
       " (2, 4),\n",
       " (3, 9),\n",
       " (4, 16),\n",
       " (5, 25),\n",
       " (6, 36),\n",
       " (7, 49),\n",
       " (8, 64),\n",
       " (9, 81)]"
      ]
     },
     "execution_count": 3,
     "metadata": {},
     "output_type": "execute_result"
    }
   ],
   "source": [
    "rdd.collect()"
   ]
  },
  {
   "cell_type": "code",
   "execution_count": 4,
   "metadata": {},
   "outputs": [],
   "source": [
    "df = rdd.toDF(['numero', 'cuadrado']) # Le damos una lista con los nombres de columnas que queremos en el DF."
   ]
  },
  {
   "cell_type": "code",
   "execution_count": 5,
   "metadata": {},
   "outputs": [
    {
     "name": "stdout",
     "output_type": "stream",
     "text": [
      "root\n",
      " |-- numero: long (nullable = true)\n",
      " |-- cuadrado: long (nullable = true)\n",
      "\n"
     ]
    }
   ],
   "source": [
    "df.printSchema()"
   ]
  },
  {
   "cell_type": "markdown",
   "metadata": {},
   "source": [
    "- long es el tipo de dato.\n",
    "\n",
    "- nullable es si acepta nulos o no."
   ]
  },
  {
   "cell_type": "code",
   "execution_count": 6,
   "metadata": {},
   "outputs": [
    {
     "name": "stdout",
     "output_type": "stream",
     "text": [
      "+------+--------+\n",
      "|numero|cuadrado|\n",
      "+------+--------+\n",
      "|     0|       0|\n",
      "|     1|       1|\n",
      "|     2|       4|\n",
      "|     3|       9|\n",
      "|     4|      16|\n",
      "|     5|      25|\n",
      "|     6|      36|\n",
      "|     7|      49|\n",
      "|     8|      64|\n",
      "|     9|      81|\n",
      "+------+--------+\n",
      "\n"
     ]
    }
   ],
   "source": [
    "df.show()"
   ]
  },
  {
   "cell_type": "markdown",
   "metadata": {},
   "source": [
    "- Crear un DF a partir de un RDD con schema."
   ]
  },
  {
   "cell_type": "code",
   "execution_count": 7,
   "metadata": {},
   "outputs": [],
   "source": [
    "rdd1 = sc.parallelize([(1, 'Jose', 35.5), (2, 'Teresa', 54.3), (3, 'Katia', 12.7)])"
   ]
  },
  {
   "cell_type": "markdown",
   "metadata": {},
   "source": [
    "- 2 formas para crear el schema."
   ]
  },
  {
   "cell_type": "code",
   "execution_count": 8,
   "metadata": {},
   "outputs": [],
   "source": [
    "from pyspark.sql.types import StructType, StructField, IntegerType, StringType, DoubleType"
   ]
  },
  {
   "cell_type": "markdown",
   "metadata": {},
   "source": [
    "- Vía uno."
   ]
  },
  {
   "cell_type": "code",
   "execution_count": 9,
   "metadata": {},
   "outputs": [],
   "source": [
    "esquema1 = StructType(\n",
    "    [\n",
    "        StructField('id', IntegerType(), True), # Nombre de la columna, tipo de dato, si admite nulos o no.\n",
    "        StructField('nombre', StringType(), True),\n",
    "        StructField('saldo', DoubleType(), True)\n",
    "    ]\n",
    ")"
   ]
  },
  {
   "cell_type": "markdown",
   "metadata": {},
   "source": [
    "Vía dos."
   ]
  },
  {
   "cell_type": "code",
   "execution_count": 10,
   "metadata": {},
   "outputs": [],
   "source": [
    "esquema2 = \"`id` INT, `nombre` STRING, `saldo` DOUBLE\""
   ]
  },
  {
   "cell_type": "code",
   "execution_count": 11,
   "metadata": {},
   "outputs": [],
   "source": [
    "df1 = spark.createDataFrame(rdd1, schema = esquema1)"
   ]
  },
  {
   "cell_type": "code",
   "execution_count": 12,
   "metadata": {},
   "outputs": [
    {
     "name": "stdout",
     "output_type": "stream",
     "text": [
      "root\n",
      " |-- id: integer (nullable = true)\n",
      " |-- nombre: string (nullable = true)\n",
      " |-- saldo: double (nullable = true)\n",
      "\n"
     ]
    }
   ],
   "source": [
    "df1.printSchema()"
   ]
  },
  {
   "cell_type": "code",
   "execution_count": 13,
   "metadata": {},
   "outputs": [
    {
     "name": "stdout",
     "output_type": "stream",
     "text": [
      "+---+------+-----+\n",
      "| id|nombre|saldo|\n",
      "+---+------+-----+\n",
      "|  1|  Jose| 35.5|\n",
      "|  2|Teresa| 54.3|\n",
      "|  3| Katia| 12.7|\n",
      "+---+------+-----+\n",
      "\n"
     ]
    }
   ],
   "source": [
    "df1.show() # Muestra por default las primeras 20 filas del DF."
   ]
  },
  {
   "cell_type": "code",
   "execution_count": 14,
   "metadata": {},
   "outputs": [],
   "source": [
    "df2 = spark.createDataFrame(rdd1, schema = esquema2)"
   ]
  },
  {
   "cell_type": "code",
   "execution_count": 15,
   "metadata": {},
   "outputs": [
    {
     "name": "stdout",
     "output_type": "stream",
     "text": [
      "root\n",
      " |-- id: integer (nullable = true)\n",
      " |-- nombre: string (nullable = true)\n",
      " |-- saldo: double (nullable = true)\n",
      "\n"
     ]
    }
   ],
   "source": [
    "df2.printSchema()"
   ]
  },
  {
   "cell_type": "code",
   "execution_count": 16,
   "metadata": {},
   "outputs": [
    {
     "name": "stdout",
     "output_type": "stream",
     "text": [
      "+---+------+-----+\n",
      "| id|nombre|saldo|\n",
      "+---+------+-----+\n",
      "|  1|  Jose| 35.5|\n",
      "|  2|Teresa| 54.3|\n",
      "|  3| Katia| 12.7|\n",
      "+---+------+-----+\n",
      "\n"
     ]
    }
   ],
   "source": [
    "df2.show()"
   ]
  },
  {
   "cell_type": "markdown",
   "metadata": {},
   "source": [
    "### **Crear un DF a partir de fuentes de datos**"
   ]
  },
  {
   "cell_type": "markdown",
   "metadata": {},
   "source": [
    "- format() no es opcional, option() y schema() si."
   ]
  },
  {
   "cell_type": "markdown",
   "metadata": {},
   "source": [
    "- Crear un DF a partir de un **archivo** de **texto**."
   ]
  },
  {
   "cell_type": "code",
   "execution_count": 17,
   "metadata": {},
   "outputs": [],
   "source": [
    "df3 = spark.read.text('./data/data/dataTXT.txt')"
   ]
  },
  {
   "cell_type": "code",
   "execution_count": 18,
   "metadata": {},
   "outputs": [
    {
     "name": "stdout",
     "output_type": "stream",
     "text": [
      "+--------------------+\n",
      "|               value|\n",
      "+--------------------+\n",
      "|Estamos en el cur...|\n",
      "|En este capítulo ...|\n",
      "|En esta sección e...|\n",
      "|y en este ejemplo...|\n",
      "+--------------------+\n",
      "\n"
     ]
    }
   ],
   "source": [
    "df3.show()"
   ]
  },
  {
   "cell_type": "code",
   "execution_count": 19,
   "metadata": {},
   "outputs": [
    {
     "name": "stdout",
     "output_type": "stream",
     "text": [
      "+-----------------------------------------------------------------------+\n",
      "|value                                                                  |\n",
      "+-----------------------------------------------------------------------+\n",
      "|Estamos en el curso de pyspark                                         |\n",
      "|En este capítulo estamos estudiando el API SQL de Saprk                |\n",
      "|En esta sección estamos creado dataframes a partir de fuentes de datos,|\n",
      "|y en este ejemplo creamos un dataframe a partir de un texto plano      |\n",
      "+-----------------------------------------------------------------------+\n",
      "\n"
     ]
    }
   ],
   "source": [
    "df3.show(truncate = False) # Para que muestre todo el texto."
   ]
  },
  {
   "cell_type": "markdown",
   "metadata": {},
   "source": [
    "- Crear un DF a partir de un **CSV**."
   ]
  },
  {
   "cell_type": "code",
   "execution_count": 20,
   "metadata": {},
   "outputs": [],
   "source": [
    "df4 = spark.read.csv('./data/data/dataCSV.csv')"
   ]
  },
  {
   "cell_type": "code",
   "execution_count": 21,
   "metadata": {},
   "outputs": [
    {
     "name": "stdout",
     "output_type": "stream",
     "text": [
      "+-----------+-------------+--------------------+--------------------+-----------+--------------------+--------------------+-------+------+--------+-------------+--------------------+-----------------+----------------+--------------------+--------------------+\n",
      "|        _c0|          _c1|                 _c2|                 _c3|        _c4|                 _c5|                 _c6|    _c7|   _c8|     _c9|         _c10|                _c11|             _c12|            _c13|                _c14|                _c15|\n",
      "+-----------+-------------+--------------------+--------------------+-----------+--------------------+--------------------+-------+------+--------+-------------+--------------------+-----------------+----------------+--------------------+--------------------+\n",
      "|   video_id|trending_date|               title|       channel_title|category_id|        publish_time|                tags|  views| likes|dislikes|comment_count|      thumbnail_link|comments_disabled|ratings_disabled|video_error_or_re...|         description|\n",
      "|2kyS6SvSYSE|     17.14.11|WE WANT TO TALK A...|        CaseyNeistat|         22|2017-11-13T17:13:...|     SHANtell martin| 748374| 57527|    2966|        15954|https://i.ytimg.c...|            False|           False|               False|SHANTELL'S CHANNE...|\n",
      "|1ZAPwfrtAFY|     17.14.11|The Trump Preside...|     LastWeekTonight|         24|2017-11-13T07:30:...|\"last week tonigh...|2418783| 97185|    6146|        12703|https://i.ytimg.c...|            False|           False|               False|One year after th...|\n",
      "|5qpjK5DgCt4|     17.14.11|Racist Superman |...|        Rudy Mancuso|         23|2017-11-12T19:05:...|\"racist superman\"...|3191434|146033|    5339|         8181|https://i.ytimg.c...|            False|           False|               False|WATCH MY PREVIOUS...|\n",
      "|puqaWrEC7tY|     17.14.11|Nickelback Lyrics...|Good Mythical Mor...|         24|2017-11-13T11:00:...|\"rhett and link\"|...| 343168| 10172|     666|         2146|https://i.ytimg.c...|            False|           False|               False|Today we find out...|\n",
      "|d380meD0W0M|     17.14.11|I Dare You: GOING...|            nigahiga|         24|2017-11-12T18:01:...|\"ryan\"|\"higa\"|\"hi...|2095731|132235|    1989|        17518|https://i.ytimg.c...|            False|           False|               False|I know it's been ...|\n",
      "|gHZ1Qz0KiKM|     17.14.11|2 Weeks with iPho...|            iJustine|         28|2017-11-13T19:07:...|\"ijustine\"|\"week ...| 119180|  9763|     511|         1434|https://i.ytimg.c...|            False|           False|               False|Using the iPhone ...|\n",
      "|39idVpFF7NQ|     17.14.11|Roy Moore & Jeff ...| Saturday Night Live|         24|2017-11-12T05:37:...|\"SNL\"|\"Saturday N...|2103417| 15993|    2445|         1970|https://i.ytimg.c...|            False|           False|               False|Embattled Alabama...|\n",
      "|nc99ccSXST0|     17.14.11|5 Ice Cream Gadge...|  CrazyRussianHacker|         28|2017-11-12T21:50:...|\"5 Ice Cream Gadg...| 817732| 23663|     778|         3432|https://i.ytimg.c...|            False|           False|               False|Ice Cream Pint Co...|\n",
      "|jr9QtXwC9vc|     17.14.11|The Greatest Show...|    20th Century Fox|          1|2017-11-13T14:00:...|\"Trailer\"|\"Hugh J...| 826059|  3543|     119|          340|https://i.ytimg.c...|            False|           False|               False|Inspired by the i...|\n",
      "|TUmyygCMMGA|     17.14.11|Why the rise of t...|                 Vox|         25|2017-11-13T13:45:...|\"vox.com\"|\"vox\"|\"...| 256426| 12654|    1363|         2368|https://i.ytimg.c...|            False|           False|               False|For now, at least...|\n",
      "|9wRQljFNDW8|     17.14.11|Dion Lewis' 103-Y...|                 NFL|         17|2017-11-13T02:05:...|\"NFL\"|\"Football\"|...|  81377|   655|      25|          177|https://i.ytimg.c...|            False|           False|               False|New England Patri...|\n",
      "|VifQlJit6A0|     17.14.11|(SPOILERS) 'Shiva...|                 amc|         24|2017-11-13T03:00:...|\"The Walking Dead...| 104578|  1576|     303|         1279|https://i.ytimg.c...|            False|           False|               False|Shiva arrives jus...|\n",
      "|5E4ZBSInqUU|     17.14.11|Marshmello - Bloc...|          marshmello|         10|2017-11-13T17:00:...|\"marshmello\"|\"blo...| 687582|114188|    1333|         8371|https://i.ytimg.c...|            False|           False|               False|WATCH SILENCE MUS...|\n",
      "|GgVmn66oK_A|     17.14.11|Which Countries A...|       NowThis World|         25|2017-11-12T14:00:...|\"nowthis\"|\"nowthi...| 544770|  7848|    1171|         3981|https://i.ytimg.c...|            False|           False|               False|The world at larg...|\n",
      "|TaTleo4cOs8|     17.14.11|SHOPPING FOR NEW ...|     The king of DIY|         15|2017-11-12T18:30:...|\"shopping for new...| 207532|  7473|     246|         2120|https://i.ytimg.c...|            False|           False|               False|Today we go shopp...|\n",
      "|kgaO45SyaO4|     17.14.11|    The New SpotMini|      BostonDynamics|         28|2017-11-13T20:09:...|\"Robots\"|\"Boston ...|  75752|  9419|      52|         1230|https://i.ytimg.c...|            False|           False|               False|For more informat...|\n",
      "|ZAQs-ctOqXQ|     17.14.11|One Change That W...|             Cracked|         23|2017-11-12T17:00:...|\"pacific rim\"|\"pa...| 295639|  8011|     638|         1256|https://i.ytimg.c...|            False|           False|               False|Pacific Rim was s...|\n",
      "|YVfyYrEmzgM|     17.14.11|How does your bod...|              TED-Ed|         27|2017-11-13T16:00:...|\"TED\"|\"TED-Ed\"|\"T...|  78044|  5398|      53|          385|https://i.ytimg.c...|            False|           False|               False|Check out our Pat...|\n",
      "|eNSN6qet1kE|     17.14.11|HomeMade Electric...|         PeterSripol|         28|2017-11-13T15:30:...|\"ultralight\"|\"air...|  97007| 11963|      36|         2211|https://i.ytimg.c...|            False|           False|               False|aaaannnd now to f...|\n",
      "+-----------+-------------+--------------------+--------------------+-----------+--------------------+--------------------+-------+------+--------+-------------+--------------------+-----------------+----------------+--------------------+--------------------+\n",
      "only showing top 20 rows\n",
      "\n"
     ]
    }
   ],
   "source": [
    "df4.show()"
   ]
  },
  {
   "cell_type": "markdown",
   "metadata": {},
   "source": [
    "- El nombre de las columnas lo ha generado pero en realidad el nombre de las columnas debería ser la primera fila."
   ]
  },
  {
   "cell_type": "code",
   "execution_count": 22,
   "metadata": {},
   "outputs": [],
   "source": [
    "df4 = spark.read.option('header', 'true').csv('./data/data/dataCSV.csv') # Le decimos que el título del campo es la primera fila."
   ]
  },
  {
   "cell_type": "code",
   "execution_count": 23,
   "metadata": {},
   "outputs": [
    {
     "name": "stdout",
     "output_type": "stream",
     "text": [
      "+-----------+-------------+--------------------+--------------------+-----------+--------------------+--------------------+-------+------+--------+-------------+--------------------+-----------------+----------------+----------------------+--------------------+\n",
      "|   video_id|trending_date|               title|       channel_title|category_id|        publish_time|                tags|  views| likes|dislikes|comment_count|      thumbnail_link|comments_disabled|ratings_disabled|video_error_or_removed|         description|\n",
      "+-----------+-------------+--------------------+--------------------+-----------+--------------------+--------------------+-------+------+--------+-------------+--------------------+-----------------+----------------+----------------------+--------------------+\n",
      "|2kyS6SvSYSE|     17.14.11|WE WANT TO TALK A...|        CaseyNeistat|         22|2017-11-13T17:13:...|     SHANtell martin| 748374| 57527|    2966|        15954|https://i.ytimg.c...|            False|           False|                 False|SHANTELL'S CHANNE...|\n",
      "|1ZAPwfrtAFY|     17.14.11|The Trump Preside...|     LastWeekTonight|         24|2017-11-13T07:30:...|\"last week tonigh...|2418783| 97185|    6146|        12703|https://i.ytimg.c...|            False|           False|                 False|One year after th...|\n",
      "|5qpjK5DgCt4|     17.14.11|Racist Superman |...|        Rudy Mancuso|         23|2017-11-12T19:05:...|\"racist superman\"...|3191434|146033|    5339|         8181|https://i.ytimg.c...|            False|           False|                 False|WATCH MY PREVIOUS...|\n",
      "|puqaWrEC7tY|     17.14.11|Nickelback Lyrics...|Good Mythical Mor...|         24|2017-11-13T11:00:...|\"rhett and link\"|...| 343168| 10172|     666|         2146|https://i.ytimg.c...|            False|           False|                 False|Today we find out...|\n",
      "|d380meD0W0M|     17.14.11|I Dare You: GOING...|            nigahiga|         24|2017-11-12T18:01:...|\"ryan\"|\"higa\"|\"hi...|2095731|132235|    1989|        17518|https://i.ytimg.c...|            False|           False|                 False|I know it's been ...|\n",
      "|gHZ1Qz0KiKM|     17.14.11|2 Weeks with iPho...|            iJustine|         28|2017-11-13T19:07:...|\"ijustine\"|\"week ...| 119180|  9763|     511|         1434|https://i.ytimg.c...|            False|           False|                 False|Using the iPhone ...|\n",
      "|39idVpFF7NQ|     17.14.11|Roy Moore & Jeff ...| Saturday Night Live|         24|2017-11-12T05:37:...|\"SNL\"|\"Saturday N...|2103417| 15993|    2445|         1970|https://i.ytimg.c...|            False|           False|                 False|Embattled Alabama...|\n",
      "|nc99ccSXST0|     17.14.11|5 Ice Cream Gadge...|  CrazyRussianHacker|         28|2017-11-12T21:50:...|\"5 Ice Cream Gadg...| 817732| 23663|     778|         3432|https://i.ytimg.c...|            False|           False|                 False|Ice Cream Pint Co...|\n",
      "|jr9QtXwC9vc|     17.14.11|The Greatest Show...|    20th Century Fox|          1|2017-11-13T14:00:...|\"Trailer\"|\"Hugh J...| 826059|  3543|     119|          340|https://i.ytimg.c...|            False|           False|                 False|Inspired by the i...|\n",
      "|TUmyygCMMGA|     17.14.11|Why the rise of t...|                 Vox|         25|2017-11-13T13:45:...|\"vox.com\"|\"vox\"|\"...| 256426| 12654|    1363|         2368|https://i.ytimg.c...|            False|           False|                 False|For now, at least...|\n",
      "|9wRQljFNDW8|     17.14.11|Dion Lewis' 103-Y...|                 NFL|         17|2017-11-13T02:05:...|\"NFL\"|\"Football\"|...|  81377|   655|      25|          177|https://i.ytimg.c...|            False|           False|                 False|New England Patri...|\n",
      "|VifQlJit6A0|     17.14.11|(SPOILERS) 'Shiva...|                 amc|         24|2017-11-13T03:00:...|\"The Walking Dead...| 104578|  1576|     303|         1279|https://i.ytimg.c...|            False|           False|                 False|Shiva arrives jus...|\n",
      "|5E4ZBSInqUU|     17.14.11|Marshmello - Bloc...|          marshmello|         10|2017-11-13T17:00:...|\"marshmello\"|\"blo...| 687582|114188|    1333|         8371|https://i.ytimg.c...|            False|           False|                 False|WATCH SILENCE MUS...|\n",
      "|GgVmn66oK_A|     17.14.11|Which Countries A...|       NowThis World|         25|2017-11-12T14:00:...|\"nowthis\"|\"nowthi...| 544770|  7848|    1171|         3981|https://i.ytimg.c...|            False|           False|                 False|The world at larg...|\n",
      "|TaTleo4cOs8|     17.14.11|SHOPPING FOR NEW ...|     The king of DIY|         15|2017-11-12T18:30:...|\"shopping for new...| 207532|  7473|     246|         2120|https://i.ytimg.c...|            False|           False|                 False|Today we go shopp...|\n",
      "|kgaO45SyaO4|     17.14.11|    The New SpotMini|      BostonDynamics|         28|2017-11-13T20:09:...|\"Robots\"|\"Boston ...|  75752|  9419|      52|         1230|https://i.ytimg.c...|            False|           False|                 False|For more informat...|\n",
      "|ZAQs-ctOqXQ|     17.14.11|One Change That W...|             Cracked|         23|2017-11-12T17:00:...|\"pacific rim\"|\"pa...| 295639|  8011|     638|         1256|https://i.ytimg.c...|            False|           False|                 False|Pacific Rim was s...|\n",
      "|YVfyYrEmzgM|     17.14.11|How does your bod...|              TED-Ed|         27|2017-11-13T16:00:...|\"TED\"|\"TED-Ed\"|\"T...|  78044|  5398|      53|          385|https://i.ytimg.c...|            False|           False|                 False|Check out our Pat...|\n",
      "|eNSN6qet1kE|     17.14.11|HomeMade Electric...|         PeterSripol|         28|2017-11-13T15:30:...|\"ultralight\"|\"air...|  97007| 11963|      36|         2211|https://i.ytimg.c...|            False|           False|                 False|aaaannnd now to f...|\n",
      "|B5HORANmzHw|     17.14.11|Founding An Inbre...|             SciShow|         27|2017-11-12T22:00:...|\"SciShow\"|\"scienc...| 223871|  8421|     191|         1214|https://i.ytimg.c...|            False|           False|                 False|Thanks to 23AndMe...|\n",
      "+-----------+-------------+--------------------+--------------------+-----------+--------------------+--------------------+-------+------+--------+-------------+--------------------+-----------------+----------------+----------------------+--------------------+\n",
      "only showing top 20 rows\n",
      "\n"
     ]
    }
   ],
   "source": [
    "df4.show()"
   ]
  },
  {
   "cell_type": "markdown",
   "metadata": {},
   "source": [
    "- Leer archivo de texto con un **delimitador diferente**."
   ]
  },
  {
   "cell_type": "code",
   "execution_count": 24,
   "metadata": {},
   "outputs": [],
   "source": [
    "df5 = spark.read.option('header', 'true').option('delimiter', '|').csv('./data/data/dataTab.txt')"
   ]
  },
  {
   "cell_type": "code",
   "execution_count": 25,
   "metadata": {},
   "outputs": [
    {
     "name": "stdout",
     "output_type": "stream",
     "text": [
      "+----+----+----------+-----+\n",
      "|pais|edad|     fecha|color|\n",
      "+----+----+----------+-----+\n",
      "|  MX|  23|2021-02-21| rojo|\n",
      "|  CA|  56|2021-06-10| azul|\n",
      "|  US|  32|2020-06-02|verde|\n",
      "+----+----+----------+-----+\n",
      "\n"
     ]
    }
   ],
   "source": [
    "df5.show()"
   ]
  },
  {
   "cell_type": "markdown",
   "metadata": {},
   "source": [
    "- El delimiter es que en este caso el archivo de texto no estaban los datos delimitados por comas sino por '|'"
   ]
  },
  {
   "cell_type": "markdown",
   "metadata": {},
   "source": [
    "- Crear un DF a partir de un **JSON** proporcionando un **schema**."
   ]
  },
  {
   "cell_type": "code",
   "execution_count": 26,
   "metadata": {},
   "outputs": [],
   "source": [
    "from pyspark.sql.types import StructType, StructField, StringType, IntegerType, DateType"
   ]
  },
  {
   "cell_type": "code",
   "execution_count": 27,
   "metadata": {},
   "outputs": [],
   "source": [
    "json_schema = StructType(\n",
    "    [\n",
    "        StructField('color', StringType(), True),\n",
    "        StructField('edad', IntegerType(), True),\n",
    "        StructField('fecha', DateType(), True),\n",
    "        StructField('pais', StringType(), True)\n",
    "    ]\n",
    ")"
   ]
  },
  {
   "cell_type": "code",
   "execution_count": 28,
   "metadata": {},
   "outputs": [],
   "source": [
    "df6 = spark.read.schema(json_schema).json('./data/data/dataJSON.json')"
   ]
  },
  {
   "cell_type": "code",
   "execution_count": 29,
   "metadata": {},
   "outputs": [
    {
     "name": "stdout",
     "output_type": "stream",
     "text": [
      "+-----+----+----------+----+\n",
      "|color|edad|     fecha|pais|\n",
      "+-----+----+----------+----+\n",
      "| rojo|null|2021-02-21|  MX|\n",
      "| azul|null|2021-06-10|  CA|\n",
      "|verde|null|2020-06-02|  US|\n",
      "+-----+----+----------+----+\n",
      "\n"
     ]
    }
   ],
   "source": [
    "df6.show()"
   ]
  },
  {
   "cell_type": "code",
   "execution_count": 30,
   "metadata": {},
   "outputs": [
    {
     "name": "stdout",
     "output_type": "stream",
     "text": [
      "root\n",
      " |-- color: string (nullable = true)\n",
      " |-- edad: integer (nullable = true)\n",
      " |-- fecha: date (nullable = true)\n",
      " |-- pais: string (nullable = true)\n",
      "\n"
     ]
    }
   ],
   "source": [
    "df6.printSchema()"
   ]
  },
  {
   "cell_type": "markdown",
   "metadata": {},
   "source": [
    "- Crear un DF a partir de un archivo **parquet**."
   ]
  },
  {
   "cell_type": "code",
   "execution_count": 31,
   "metadata": {},
   "outputs": [],
   "source": [
    "df7 = spark.read.parquet('./data/data/dataPARQUET.parquet')"
   ]
  },
  {
   "cell_type": "code",
   "execution_count": 32,
   "metadata": {},
   "outputs": [
    {
     "name": "stdout",
     "output_type": "stream",
     "text": [
      "+-----------+-------------+--------------------+--------------------+-----------+--------------------+--------------------+-------+------+--------+-------------+--------------------+-----------------+----------------+----------------------+--------------------+\n",
      "|   video_id|trending_date|               title|       channel_title|category_id|        publish_time|                tags|  views| likes|dislikes|comment_count|      thumbnail_link|comments_disabled|ratings_disabled|video_error_or_removed|         description|\n",
      "+-----------+-------------+--------------------+--------------------+-----------+--------------------+--------------------+-------+------+--------+-------------+--------------------+-----------------+----------------+----------------------+--------------------+\n",
      "|2kyS6SvSYSE|     17.14.11|WE WANT TO TALK A...|        CaseyNeistat|         22|2017-11-13T17:13:...|     SHANtell martin| 748374| 57527|    2966|        15954|https://i.ytimg.c...|            False|           False|                 False|SHANTELL'S CHANNE...|\n",
      "|1ZAPwfrtAFY|     17.14.11|The Trump Preside...|     LastWeekTonight|         24|2017-11-13T07:30:...|\"last week tonigh...|2418783| 97185|    6146|        12703|https://i.ytimg.c...|            False|           False|                 False|One year after th...|\n",
      "|5qpjK5DgCt4|     17.14.11|Racist Superman |...|        Rudy Mancuso|         23|2017-11-12T19:05:...|\"racist superman\"...|3191434|146033|    5339|         8181|https://i.ytimg.c...|            False|           False|                 False|WATCH MY PREVIOUS...|\n",
      "|puqaWrEC7tY|     17.14.11|Nickelback Lyrics...|Good Mythical Mor...|         24|2017-11-13T11:00:...|\"rhett and link\"|...| 343168| 10172|     666|         2146|https://i.ytimg.c...|            False|           False|                 False|Today we find out...|\n",
      "|d380meD0W0M|     17.14.11|I Dare You: GOING...|            nigahiga|         24|2017-11-12T18:01:...|\"ryan\"|\"higa\"|\"hi...|2095731|132235|    1989|        17518|https://i.ytimg.c...|            False|           False|                 False|I know it's been ...|\n",
      "|gHZ1Qz0KiKM|     17.14.11|2 Weeks with iPho...|            iJustine|         28|2017-11-13T19:07:...|\"ijustine\"|\"week ...| 119180|  9763|     511|         1434|https://i.ytimg.c...|            False|           False|                 False|Using the iPhone ...|\n",
      "|39idVpFF7NQ|     17.14.11|Roy Moore & Jeff ...| Saturday Night Live|         24|2017-11-12T05:37:...|\"SNL\"|\"Saturday N...|2103417| 15993|    2445|         1970|https://i.ytimg.c...|            False|           False|                 False|Embattled Alabama...|\n",
      "|nc99ccSXST0|     17.14.11|5 Ice Cream Gadge...|  CrazyRussianHacker|         28|2017-11-12T21:50:...|\"5 Ice Cream Gadg...| 817732| 23663|     778|         3432|https://i.ytimg.c...|            False|           False|                 False|Ice Cream Pint Co...|\n",
      "|jr9QtXwC9vc|     17.14.11|The Greatest Show...|    20th Century Fox|          1|2017-11-13T14:00:...|\"Trailer\"|\"Hugh J...| 826059|  3543|     119|          340|https://i.ytimg.c...|            False|           False|                 False|Inspired by the i...|\n",
      "|TUmyygCMMGA|     17.14.11|Why the rise of t...|                 Vox|         25|2017-11-13T13:45:...|\"vox.com\"|\"vox\"|\"...| 256426| 12654|    1363|         2368|https://i.ytimg.c...|            False|           False|                 False|For now, at least...|\n",
      "|9wRQljFNDW8|     17.14.11|Dion Lewis' 103-Y...|                 NFL|         17|2017-11-13T02:05:...|\"NFL\"|\"Football\"|...|  81377|   655|      25|          177|https://i.ytimg.c...|            False|           False|                 False|New England Patri...|\n",
      "|VifQlJit6A0|     17.14.11|(SPOILERS) 'Shiva...|                 amc|         24|2017-11-13T03:00:...|\"The Walking Dead...| 104578|  1576|     303|         1279|https://i.ytimg.c...|            False|           False|                 False|Shiva arrives jus...|\n",
      "|5E4ZBSInqUU|     17.14.11|Marshmello - Bloc...|          marshmello|         10|2017-11-13T17:00:...|\"marshmello\"|\"blo...| 687582|114188|    1333|         8371|https://i.ytimg.c...|            False|           False|                 False|WATCH SILENCE MUS...|\n",
      "|GgVmn66oK_A|     17.14.11|Which Countries A...|       NowThis World|         25|2017-11-12T14:00:...|\"nowthis\"|\"nowthi...| 544770|  7848|    1171|         3981|https://i.ytimg.c...|            False|           False|                 False|The world at larg...|\n",
      "|TaTleo4cOs8|     17.14.11|SHOPPING FOR NEW ...|     The king of DIY|         15|2017-11-12T18:30:...|\"shopping for new...| 207532|  7473|     246|         2120|https://i.ytimg.c...|            False|           False|                 False|Today we go shopp...|\n",
      "|kgaO45SyaO4|     17.14.11|    The New SpotMini|      BostonDynamics|         28|2017-11-13T20:09:...|\"Robots\"|\"Boston ...|  75752|  9419|      52|         1230|https://i.ytimg.c...|            False|           False|                 False|For more informat...|\n",
      "|ZAQs-ctOqXQ|     17.14.11|One Change That W...|             Cracked|         23|2017-11-12T17:00:...|\"pacific rim\"|\"pa...| 295639|  8011|     638|         1256|https://i.ytimg.c...|            False|           False|                 False|Pacific Rim was s...|\n",
      "|YVfyYrEmzgM|     17.14.11|How does your bod...|              TED-Ed|         27|2017-11-13T16:00:...|\"TED\"|\"TED-Ed\"|\"T...|  78044|  5398|      53|          385|https://i.ytimg.c...|            False|           False|                 False|Check out our Pat...|\n",
      "|eNSN6qet1kE|     17.14.11|HomeMade Electric...|         PeterSripol|         28|2017-11-13T15:30:...|\"ultralight\"|\"air...|  97007| 11963|      36|         2211|https://i.ytimg.c...|            False|           False|                 False|aaaannnd now to f...|\n",
      "|B5HORANmzHw|     17.14.11|Founding An Inbre...|             SciShow|         27|2017-11-12T22:00:...|\"SciShow\"|\"scienc...| 223871|  8421|     191|         1214|https://i.ytimg.c...|            False|           False|                 False|Thanks to 23AndMe...|\n",
      "+-----------+-------------+--------------------+--------------------+-----------+--------------------+--------------------+-------+------+--------+-------------+--------------------+-----------------+----------------+----------------------+--------------------+\n",
      "only showing top 20 rows\n",
      "\n"
     ]
    }
   ],
   "source": [
    "df7.show()"
   ]
  },
  {
   "cell_type": "markdown",
   "metadata": {},
   "source": [
    "- Tenemos otra opción para la lectura."
   ]
  },
  {
   "cell_type": "code",
   "execution_count": 33,
   "metadata": {},
   "outputs": [],
   "source": [
    "df8 = spark.read.format('parquet').load('./data/data/dataPARQUET.parquet')"
   ]
  },
  {
   "cell_type": "code",
   "execution_count": 34,
   "metadata": {},
   "outputs": [
    {
     "name": "stdout",
     "output_type": "stream",
     "text": [
      "root\n",
      " |-- video_id: string (nullable = true)\n",
      " |-- trending_date: string (nullable = true)\n",
      " |-- title: string (nullable = true)\n",
      " |-- channel_title: string (nullable = true)\n",
      " |-- category_id: string (nullable = true)\n",
      " |-- publish_time: string (nullable = true)\n",
      " |-- tags: string (nullable = true)\n",
      " |-- views: string (nullable = true)\n",
      " |-- likes: string (nullable = true)\n",
      " |-- dislikes: string (nullable = true)\n",
      " |-- comment_count: string (nullable = true)\n",
      " |-- thumbnail_link: string (nullable = true)\n",
      " |-- comments_disabled: string (nullable = true)\n",
      " |-- ratings_disabled: string (nullable = true)\n",
      " |-- video_error_or_removed: string (nullable = true)\n",
      " |-- description: string (nullable = true)\n",
      "\n"
     ]
    }
   ],
   "source": [
    "df8.printSchema()"
   ]
  },
  {
   "cell_type": "markdown",
   "metadata": {},
   "source": [
    "### **Trabajo con columnas**"
   ]
  },
  {
   "cell_type": "markdown",
   "metadata": {},
   "source": [
    "- Al igual que en las operaciones con RDD, las operaciones estructuradas (con DF y SQL) tienen 2 categorías: **transformación** y **acción**.\n",
    "\n",
    "- Los **DF** son **inmutables** y sus operaciones de transformación siempre devuelven un **DF nuevo**."
   ]
  },
  {
   "cell_type": "code",
   "execution_count": 35,
   "metadata": {},
   "outputs": [],
   "source": [
    "df9 = spark.read.parquet('./data/data/dataPARQUET.parquet')"
   ]
  },
  {
   "cell_type": "code",
   "execution_count": 36,
   "metadata": {},
   "outputs": [
    {
     "name": "stdout",
     "output_type": "stream",
     "text": [
      "root\n",
      " |-- video_id: string (nullable = true)\n",
      " |-- trending_date: string (nullable = true)\n",
      " |-- title: string (nullable = true)\n",
      " |-- channel_title: string (nullable = true)\n",
      " |-- category_id: string (nullable = true)\n",
      " |-- publish_time: string (nullable = true)\n",
      " |-- tags: string (nullable = true)\n",
      " |-- views: string (nullable = true)\n",
      " |-- likes: string (nullable = true)\n",
      " |-- dislikes: string (nullable = true)\n",
      " |-- comment_count: string (nullable = true)\n",
      " |-- thumbnail_link: string (nullable = true)\n",
      " |-- comments_disabled: string (nullable = true)\n",
      " |-- ratings_disabled: string (nullable = true)\n",
      " |-- video_error_or_removed: string (nullable = true)\n",
      " |-- description: string (nullable = true)\n",
      "\n"
     ]
    }
   ],
   "source": [
    "df9.printSchema()"
   ]
  },
  {
   "cell_type": "markdown",
   "metadata": {},
   "source": [
    "- **Primera** alternativa para **referirnos** a las columnas."
   ]
  },
  {
   "cell_type": "code",
   "execution_count": 37,
   "metadata": {},
   "outputs": [
    {
     "name": "stdout",
     "output_type": "stream",
     "text": [
      "+--------------------+\n",
      "|               title|\n",
      "+--------------------+\n",
      "|WE WANT TO TALK A...|\n",
      "|The Trump Preside...|\n",
      "|Racist Superman |...|\n",
      "|Nickelback Lyrics...|\n",
      "|I Dare You: GOING...|\n",
      "|2 Weeks with iPho...|\n",
      "|Roy Moore & Jeff ...|\n",
      "|5 Ice Cream Gadge...|\n",
      "|The Greatest Show...|\n",
      "|Why the rise of t...|\n",
      "|Dion Lewis' 103-Y...|\n",
      "|(SPOILERS) 'Shiva...|\n",
      "|Marshmello - Bloc...|\n",
      "|Which Countries A...|\n",
      "|SHOPPING FOR NEW ...|\n",
      "|    The New SpotMini|\n",
      "|One Change That W...|\n",
      "|How does your bod...|\n",
      "|HomeMade Electric...|\n",
      "|Founding An Inbre...|\n",
      "+--------------------+\n",
      "only showing top 20 rows\n",
      "\n"
     ]
    }
   ],
   "source": [
    "df9.select('title').show()"
   ]
  },
  {
   "cell_type": "markdown",
   "metadata": {},
   "source": [
    "- **Segunda** alternativa."
   ]
  },
  {
   "cell_type": "code",
   "execution_count": 38,
   "metadata": {},
   "outputs": [],
   "source": [
    "from pyspark.sql.functions import col"
   ]
  },
  {
   "cell_type": "code",
   "execution_count": 39,
   "metadata": {},
   "outputs": [
    {
     "name": "stdout",
     "output_type": "stream",
     "text": [
      "+--------------------+\n",
      "|               title|\n",
      "+--------------------+\n",
      "|WE WANT TO TALK A...|\n",
      "|The Trump Preside...|\n",
      "|Racist Superman |...|\n",
      "|Nickelback Lyrics...|\n",
      "|I Dare You: GOING...|\n",
      "|2 Weeks with iPho...|\n",
      "|Roy Moore & Jeff ...|\n",
      "|5 Ice Cream Gadge...|\n",
      "|The Greatest Show...|\n",
      "|Why the rise of t...|\n",
      "|Dion Lewis' 103-Y...|\n",
      "|(SPOILERS) 'Shiva...|\n",
      "|Marshmello - Bloc...|\n",
      "|Which Countries A...|\n",
      "|SHOPPING FOR NEW ...|\n",
      "|    The New SpotMini|\n",
      "|One Change That W...|\n",
      "|How does your bod...|\n",
      "|HomeMade Electric...|\n",
      "|Founding An Inbre...|\n",
      "+--------------------+\n",
      "only showing top 20 rows\n",
      "\n"
     ]
    }
   ],
   "source": [
    "df9.select(col('title')).show()"
   ]
  },
  {
   "cell_type": "markdown",
   "metadata": {},
   "source": [
    "### **Transformaciones: funciones select() y selectExpr()**"
   ]
  },
  {
   "cell_type": "markdown",
   "metadata": {},
   "source": [
    "- **select()**"
   ]
  },
  {
   "cell_type": "code",
   "execution_count": 40,
   "metadata": {},
   "outputs": [],
   "source": [
    "df10 = spark.read.parquet('./data/data/dataPARQUET.parquet')"
   ]
  },
  {
   "cell_type": "code",
   "execution_count": 41,
   "metadata": {},
   "outputs": [
    {
     "name": "stdout",
     "output_type": "stream",
     "text": [
      "root\n",
      " |-- video_id: string (nullable = true)\n",
      " |-- trending_date: string (nullable = true)\n",
      " |-- title: string (nullable = true)\n",
      " |-- channel_title: string (nullable = true)\n",
      " |-- category_id: string (nullable = true)\n",
      " |-- publish_time: string (nullable = true)\n",
      " |-- tags: string (nullable = true)\n",
      " |-- views: string (nullable = true)\n",
      " |-- likes: string (nullable = true)\n",
      " |-- dislikes: string (nullable = true)\n",
      " |-- comment_count: string (nullable = true)\n",
      " |-- thumbnail_link: string (nullable = true)\n",
      " |-- comments_disabled: string (nullable = true)\n",
      " |-- ratings_disabled: string (nullable = true)\n",
      " |-- video_error_or_removed: string (nullable = true)\n",
      " |-- description: string (nullable = true)\n",
      "\n"
     ]
    }
   ],
   "source": [
    "df10.printSchema()"
   ]
  },
  {
   "cell_type": "code",
   "execution_count": 42,
   "metadata": {},
   "outputs": [],
   "source": [
    "from pyspark.sql.functions import col"
   ]
  },
  {
   "cell_type": "code",
   "execution_count": 43,
   "metadata": {},
   "outputs": [
    {
     "name": "stdout",
     "output_type": "stream",
     "text": [
      "+-----------+\n",
      "|   video_id|\n",
      "+-----------+\n",
      "|2kyS6SvSYSE|\n",
      "|1ZAPwfrtAFY|\n",
      "|5qpjK5DgCt4|\n",
      "|puqaWrEC7tY|\n",
      "|d380meD0W0M|\n",
      "|gHZ1Qz0KiKM|\n",
      "|39idVpFF7NQ|\n",
      "|nc99ccSXST0|\n",
      "|jr9QtXwC9vc|\n",
      "|TUmyygCMMGA|\n",
      "|9wRQljFNDW8|\n",
      "|VifQlJit6A0|\n",
      "|5E4ZBSInqUU|\n",
      "|GgVmn66oK_A|\n",
      "|TaTleo4cOs8|\n",
      "|kgaO45SyaO4|\n",
      "|ZAQs-ctOqXQ|\n",
      "|YVfyYrEmzgM|\n",
      "|eNSN6qet1kE|\n",
      "|B5HORANmzHw|\n",
      "+-----------+\n",
      "only showing top 20 rows\n",
      "\n"
     ]
    }
   ],
   "source": [
    "df10.select(col('video_id')).show()"
   ]
  },
  {
   "cell_type": "code",
   "execution_count": 44,
   "metadata": {},
   "outputs": [
    {
     "name": "stdout",
     "output_type": "stream",
     "text": [
      "+-----------+-------------+\n",
      "|   video_id|trending_date|\n",
      "+-----------+-------------+\n",
      "|2kyS6SvSYSE|     17.14.11|\n",
      "|1ZAPwfrtAFY|     17.14.11|\n",
      "|5qpjK5DgCt4|     17.14.11|\n",
      "|puqaWrEC7tY|     17.14.11|\n",
      "|d380meD0W0M|     17.14.11|\n",
      "|gHZ1Qz0KiKM|     17.14.11|\n",
      "|39idVpFF7NQ|     17.14.11|\n",
      "|nc99ccSXST0|     17.14.11|\n",
      "|jr9QtXwC9vc|     17.14.11|\n",
      "|TUmyygCMMGA|     17.14.11|\n",
      "|9wRQljFNDW8|     17.14.11|\n",
      "|VifQlJit6A0|     17.14.11|\n",
      "|5E4ZBSInqUU|     17.14.11|\n",
      "|GgVmn66oK_A|     17.14.11|\n",
      "|TaTleo4cOs8|     17.14.11|\n",
      "|kgaO45SyaO4|     17.14.11|\n",
      "|ZAQs-ctOqXQ|     17.14.11|\n",
      "|YVfyYrEmzgM|     17.14.11|\n",
      "|eNSN6qet1kE|     17.14.11|\n",
      "|B5HORANmzHw|     17.14.11|\n",
      "+-----------+-------------+\n",
      "only showing top 20 rows\n",
      "\n"
     ]
    }
   ],
   "source": [
    "df10.select('video_id', 'trending_date').show() # La otra forma."
   ]
  },
  {
   "cell_type": "markdown",
   "metadata": {},
   "source": [
    "- select() presenta la desventaja de que no puedo construir expresiones dentro. Por ejemplo esto dará error:"
   ]
  },
  {
   "cell_type": "code",
   "execution_count": 45,
   "metadata": {},
   "outputs": [],
   "source": [
    "# df10.select(\n",
    "#     'likes',\n",
    "#     'dislikes',\n",
    "#     ('likes' - 'dislikes') # Una nueva columna que sea la resta de likes y dislikes.\n",
    "# )"
   ]
  },
  {
   "cell_type": "markdown",
   "metadata": {},
   "source": [
    "- Tenemos que hacerlo con 'col'"
   ]
  },
  {
   "cell_type": "code",
   "execution_count": 46,
   "metadata": {},
   "outputs": [
    {
     "name": "stdout",
     "output_type": "stream",
     "text": [
      "+------+--------+----------+\n",
      "| likes|dislikes|aceptacion|\n",
      "+------+--------+----------+\n",
      "| 57527|    2966|   54561.0|\n",
      "| 97185|    6146|   91039.0|\n",
      "|146033|    5339|  140694.0|\n",
      "| 10172|     666|    9506.0|\n",
      "|132235|    1989|  130246.0|\n",
      "|  9763|     511|    9252.0|\n",
      "| 15993|    2445|   13548.0|\n",
      "| 23663|     778|   22885.0|\n",
      "|  3543|     119|    3424.0|\n",
      "| 12654|    1363|   11291.0|\n",
      "|   655|      25|     630.0|\n",
      "|  1576|     303|    1273.0|\n",
      "|114188|    1333|  112855.0|\n",
      "|  7848|    1171|    6677.0|\n",
      "|  7473|     246|    7227.0|\n",
      "|  9419|      52|    9367.0|\n",
      "|  8011|     638|    7373.0|\n",
      "|  5398|      53|    5345.0|\n",
      "| 11963|      36|   11927.0|\n",
      "|  8421|     191|    8230.0|\n",
      "+------+--------+----------+\n",
      "only showing top 20 rows\n",
      "\n"
     ]
    }
   ],
   "source": [
    "df10.select(\n",
    "    col('likes'),\n",
    "    col('dislikes'),\n",
    "    (col('likes') - col('dislikes')).alias('aceptacion')\n",
    ").show()"
   ]
  },
  {
   "cell_type": "markdown",
   "metadata": {},
   "source": [
    "- **selectExpr**"
   ]
  },
  {
   "cell_type": "code",
   "execution_count": 47,
   "metadata": {},
   "outputs": [
    {
     "name": "stdout",
     "output_type": "stream",
     "text": [
      "+------+--------+----------+\n",
      "| likes|dislikes|aceptacion|\n",
      "+------+--------+----------+\n",
      "| 57527|    2966|   54561.0|\n",
      "| 97185|    6146|   91039.0|\n",
      "|146033|    5339|  140694.0|\n",
      "| 10172|     666|    9506.0|\n",
      "|132235|    1989|  130246.0|\n",
      "|  9763|     511|    9252.0|\n",
      "| 15993|    2445|   13548.0|\n",
      "| 23663|     778|   22885.0|\n",
      "|  3543|     119|    3424.0|\n",
      "| 12654|    1363|   11291.0|\n",
      "|   655|      25|     630.0|\n",
      "|  1576|     303|    1273.0|\n",
      "|114188|    1333|  112855.0|\n",
      "|  7848|    1171|    6677.0|\n",
      "|  7473|     246|    7227.0|\n",
      "|  9419|      52|    9367.0|\n",
      "|  8011|     638|    7373.0|\n",
      "|  5398|      53|    5345.0|\n",
      "| 11963|      36|   11927.0|\n",
      "|  8421|     191|    8230.0|\n",
      "+------+--------+----------+\n",
      "only showing top 20 rows\n",
      "\n"
     ]
    }
   ],
   "source": [
    "df10.selectExpr('likes', 'dislikes', '(likes - dislikes) as aceptacion').show() # La otra forma."
   ]
  },
  {
   "cell_type": "code",
   "execution_count": 48,
   "metadata": {},
   "outputs": [
    {
     "name": "stdout",
     "output_type": "stream",
     "text": [
      "+------+\n",
      "|videos|\n",
      "+------+\n",
      "|  6837|\n",
      "+------+\n",
      "\n"
     ]
    }
   ],
   "source": [
    "df10.selectExpr('count(distinct (video_id)) as videos').show()"
   ]
  },
  {
   "cell_type": "markdown",
   "metadata": {},
   "source": [
    "### **Transformaciones: funciones filter() y where()**"
   ]
  },
  {
   "cell_type": "code",
   "execution_count": 49,
   "metadata": {},
   "outputs": [],
   "source": [
    "df11 = spark.read.parquet('./data/data/dataPARQUET.parquet')"
   ]
  },
  {
   "cell_type": "markdown",
   "metadata": {},
   "source": [
    "- **filter()**"
   ]
  },
  {
   "cell_type": "code",
   "execution_count": 50,
   "metadata": {},
   "outputs": [],
   "source": [
    "from pyspark.sql.functions import col"
   ]
  },
  {
   "cell_type": "code",
   "execution_count": 51,
   "metadata": {},
   "outputs": [
    {
     "name": "stdout",
     "output_type": "stream",
     "text": [
      "+-----------+-------------+--------------------+--------------------+-----------+--------------------+--------------------+-------+------+--------+-------------+--------------------+-----------------+----------------+----------------------+--------------------+\n",
      "|   video_id|trending_date|               title|       channel_title|category_id|        publish_time|                tags|  views| likes|dislikes|comment_count|      thumbnail_link|comments_disabled|ratings_disabled|video_error_or_removed|         description|\n",
      "+-----------+-------------+--------------------+--------------------+-----------+--------------------+--------------------+-------+------+--------+-------------+--------------------+-----------------+----------------+----------------------+--------------------+\n",
      "|2kyS6SvSYSE|     17.14.11|WE WANT TO TALK A...|        CaseyNeistat|         22|2017-11-13T17:13:...|     SHANtell martin| 748374| 57527|    2966|        15954|https://i.ytimg.c...|            False|           False|                 False|SHANTELL'S CHANNE...|\n",
      "|1ZAPwfrtAFY|     17.14.11|The Trump Preside...|     LastWeekTonight|         24|2017-11-13T07:30:...|\"last week tonigh...|2418783| 97185|    6146|        12703|https://i.ytimg.c...|            False|           False|                 False|One year after th...|\n",
      "|5qpjK5DgCt4|     17.14.11|Racist Superman |...|        Rudy Mancuso|         23|2017-11-12T19:05:...|\"racist superman\"...|3191434|146033|    5339|         8181|https://i.ytimg.c...|            False|           False|                 False|WATCH MY PREVIOUS...|\n",
      "|puqaWrEC7tY|     17.14.11|Nickelback Lyrics...|Good Mythical Mor...|         24|2017-11-13T11:00:...|\"rhett and link\"|...| 343168| 10172|     666|         2146|https://i.ytimg.c...|            False|           False|                 False|Today we find out...|\n",
      "|d380meD0W0M|     17.14.11|I Dare You: GOING...|            nigahiga|         24|2017-11-12T18:01:...|\"ryan\"|\"higa\"|\"hi...|2095731|132235|    1989|        17518|https://i.ytimg.c...|            False|           False|                 False|I know it's been ...|\n",
      "|gHZ1Qz0KiKM|     17.14.11|2 Weeks with iPho...|            iJustine|         28|2017-11-13T19:07:...|\"ijustine\"|\"week ...| 119180|  9763|     511|         1434|https://i.ytimg.c...|            False|           False|                 False|Using the iPhone ...|\n",
      "|39idVpFF7NQ|     17.14.11|Roy Moore & Jeff ...| Saturday Night Live|         24|2017-11-12T05:37:...|\"SNL\"|\"Saturday N...|2103417| 15993|    2445|         1970|https://i.ytimg.c...|            False|           False|                 False|Embattled Alabama...|\n",
      "|nc99ccSXST0|     17.14.11|5 Ice Cream Gadge...|  CrazyRussianHacker|         28|2017-11-12T21:50:...|\"5 Ice Cream Gadg...| 817732| 23663|     778|         3432|https://i.ytimg.c...|            False|           False|                 False|Ice Cream Pint Co...|\n",
      "|jr9QtXwC9vc|     17.14.11|The Greatest Show...|    20th Century Fox|          1|2017-11-13T14:00:...|\"Trailer\"|\"Hugh J...| 826059|  3543|     119|          340|https://i.ytimg.c...|            False|           False|                 False|Inspired by the i...|\n",
      "|TUmyygCMMGA|     17.14.11|Why the rise of t...|                 Vox|         25|2017-11-13T13:45:...|\"vox.com\"|\"vox\"|\"...| 256426| 12654|    1363|         2368|https://i.ytimg.c...|            False|           False|                 False|For now, at least...|\n",
      "|9wRQljFNDW8|     17.14.11|Dion Lewis' 103-Y...|                 NFL|         17|2017-11-13T02:05:...|\"NFL\"|\"Football\"|...|  81377|   655|      25|          177|https://i.ytimg.c...|            False|           False|                 False|New England Patri...|\n",
      "|VifQlJit6A0|     17.14.11|(SPOILERS) 'Shiva...|                 amc|         24|2017-11-13T03:00:...|\"The Walking Dead...| 104578|  1576|     303|         1279|https://i.ytimg.c...|            False|           False|                 False|Shiva arrives jus...|\n",
      "|5E4ZBSInqUU|     17.14.11|Marshmello - Bloc...|          marshmello|         10|2017-11-13T17:00:...|\"marshmello\"|\"blo...| 687582|114188|    1333|         8371|https://i.ytimg.c...|            False|           False|                 False|WATCH SILENCE MUS...|\n",
      "|GgVmn66oK_A|     17.14.11|Which Countries A...|       NowThis World|         25|2017-11-12T14:00:...|\"nowthis\"|\"nowthi...| 544770|  7848|    1171|         3981|https://i.ytimg.c...|            False|           False|                 False|The world at larg...|\n",
      "|TaTleo4cOs8|     17.14.11|SHOPPING FOR NEW ...|     The king of DIY|         15|2017-11-12T18:30:...|\"shopping for new...| 207532|  7473|     246|         2120|https://i.ytimg.c...|            False|           False|                 False|Today we go shopp...|\n",
      "|kgaO45SyaO4|     17.14.11|    The New SpotMini|      BostonDynamics|         28|2017-11-13T20:09:...|\"Robots\"|\"Boston ...|  75752|  9419|      52|         1230|https://i.ytimg.c...|            False|           False|                 False|For more informat...|\n",
      "|ZAQs-ctOqXQ|     17.14.11|One Change That W...|             Cracked|         23|2017-11-12T17:00:...|\"pacific rim\"|\"pa...| 295639|  8011|     638|         1256|https://i.ytimg.c...|            False|           False|                 False|Pacific Rim was s...|\n",
      "|YVfyYrEmzgM|     17.14.11|How does your bod...|              TED-Ed|         27|2017-11-13T16:00:...|\"TED\"|\"TED-Ed\"|\"T...|  78044|  5398|      53|          385|https://i.ytimg.c...|            False|           False|                 False|Check out our Pat...|\n",
      "|eNSN6qet1kE|     17.14.11|HomeMade Electric...|         PeterSripol|         28|2017-11-13T15:30:...|\"ultralight\"|\"air...|  97007| 11963|      36|         2211|https://i.ytimg.c...|            False|           False|                 False|aaaannnd now to f...|\n",
      "|B5HORANmzHw|     17.14.11|Founding An Inbre...|             SciShow|         27|2017-11-12T22:00:...|\"SciShow\"|\"scienc...| 223871|  8421|     191|         1214|https://i.ytimg.c...|            False|           False|                 False|Thanks to 23AndMe...|\n",
      "+-----------+-------------+--------------------+--------------------+-----------+--------------------+--------------------+-------+------+--------+-------------+--------------------+-----------------+----------------+----------------------+--------------------+\n",
      "only showing top 20 rows\n",
      "\n"
     ]
    }
   ],
   "source": [
    "df11.show()"
   ]
  },
  {
   "cell_type": "code",
   "execution_count": 52,
   "metadata": {},
   "outputs": [
    {
     "name": "stdout",
     "output_type": "stream",
     "text": [
      "+-----------+-------------+--------------------+-------------+-----------+--------------------+---------------+-------+-----+--------+-------------+--------------------+-----------------+----------------+----------------------+--------------------+\n",
      "|   video_id|trending_date|               title|channel_title|category_id|        publish_time|           tags|  views|likes|dislikes|comment_count|      thumbnail_link|comments_disabled|ratings_disabled|video_error_or_removed|         description|\n",
      "+-----------+-------------+--------------------+-------------+-----------+--------------------+---------------+-------+-----+--------+-------------+--------------------+-----------------+----------------+----------------------+--------------------+\n",
      "|2kyS6SvSYSE|     17.14.11|WE WANT TO TALK A...| CaseyNeistat|         22|2017-11-13T17:13:...|SHANtell martin| 748374|57527|    2966|        15954|https://i.ytimg.c...|            False|           False|                 False|SHANTELL'S CHANNE...|\n",
      "|2kyS6SvSYSE|     17.15.11|WE WANT TO TALK A...| CaseyNeistat|         22|2017-11-13T17:13:...|SHANtell martin|2188590|88099|    7150|        24225|https://i.ytimg.c...|            False|           False|                 False|SHANTELL'S CHANNE...|\n",
      "|2kyS6SvSYSE|     17.16.11|WE WANT TO TALK A...| CaseyNeistat|         22|2017-11-13T17:13:...|SHANtell martin|2325233|91111|    7543|        21450|https://i.ytimg.c...|            False|           False|                 False|SHANTELL'S CHANNE...|\n",
      "|2kyS6SvSYSE|     17.17.11|WE WANT TO TALK A...| CaseyNeistat|         22|2017-11-13T17:13:...|SHANtell martin|2400741|92831|    7687|        21714|https://i.ytimg.c...|            False|           False|                 False|SHANTELL'S CHANNE...|\n",
      "|2kyS6SvSYSE|     17.18.11|WE WANT TO TALK A...| CaseyNeistat|         22|2017-11-13T17:13:...|SHANtell martin|2468267|94303|    7802|        21866|https://i.ytimg.c...|            False|           False|                 False|SHANTELL'S CHANNE...|\n",
      "|2kyS6SvSYSE|     17.19.11|WE WANT TO TALK A...| CaseyNeistat|         22|2017-11-13T17:13:...|SHANtell martin|2524854|95587|    7892|        22038|https://i.ytimg.c...|            False|           False|                 False|SHANTELL'S CHANNE...|\n",
      "|2kyS6SvSYSE|     17.20.11|WE WANT TO TALK A...| CaseyNeistat|         22|2017-11-13T17:13:...|SHANtell martin|2564903|96321|    7972|        22149|https://i.ytimg.c...|            False|           False|                 False|SHANTELL'S CHANNE...|\n",
      "+-----------+-------------+--------------------+-------------+-----------+--------------------+---------------+-------+-----+--------+-------------+--------------------+-----------------+----------------+----------------------+--------------------+\n",
      "\n"
     ]
    }
   ],
   "source": [
    "df11.filter(col('video_id') == '2kyS6SvSYSE').show() # Nos trae las filas que coinciden con ese valor de video_id."
   ]
  },
  {
   "cell_type": "markdown",
   "metadata": {},
   "source": [
    "- **where()**"
   ]
  },
  {
   "cell_type": "markdown",
   "metadata": {},
   "source": [
    "- Es muy similar a filter()"
   ]
  },
  {
   "cell_type": "code",
   "execution_count": 53,
   "metadata": {},
   "outputs": [],
   "source": [
    "df12 = spark.read.parquet('./data/data/dataPARQUET.parquet').where(col('trending_date') != '17.14.11')"
   ]
  },
  {
   "cell_type": "code",
   "execution_count": 54,
   "metadata": {},
   "outputs": [
    {
     "name": "stdout",
     "output_type": "stream",
     "text": [
      "+--------------------+--------------------+--------------------+--------------------+--------------------+--------------------+--------------------+-------+------+--------+-------------+--------------------+-----------------+----------------+----------------------+--------------------+\n",
      "|            video_id|       trending_date|               title|       channel_title|         category_id|        publish_time|                tags|  views| likes|dislikes|comment_count|      thumbnail_link|comments_disabled|ratings_disabled|video_error_or_removed|         description|\n",
      "+--------------------+--------------------+--------------------+--------------------+--------------------+--------------------+--------------------+-------+------+--------+-------------+--------------------+-----------------+----------------+----------------------+--------------------+\n",
      "|\\nCook with confi...|             recipes|              videos| and restaurant g...| dining destinations| and hosting idea...|                null|   null|  null|    null|         null|                null|             null|            null|                  null|                null|\n",
      "|\\nVogue is the au...|      culture trends|     beauty coverage|              videos|     celebrity style| and fashion week...|                null|   null|  null|    null|         null|                null|             null|            null|                  null|                null|\n",
      "|\\nWIRED is where ...| WIRED explores t...|          innovation| and culture.\\n\\n...|                null|                null|                null|   null|  null|    null|         null|                null|             null|            null|                  null|                null|\n",
      "|         YvfYK0EEhK4|            17.15.11|Brent Pella - Why...|         Brent Pella|                  23|2017-11-14T15:32:...|\"spirit airlines\"...| 462490| 14132|     795|          666|https://i.ytimg.c...|            False|           False|                 False|Traveling for the...|\n",
      "|         cxMvzK2OQTw|            17.15.11|Cards Against Hum...|Cards Against Hum...|                  23|2017-11-14T16:43:...|              [none]| 295217|  4854|    1439|         1267|https://i.ytimg.c...|            False|           False|                 False|Narrated by Peter...|\n",
      "|         bAkEd8r7Nnw|            17.15.11|Slow Mo Katana Sw...|    The Slow Mo Guys|                  24|2017-11-14T18:31:...|\"slomo\"|\"slow\"|\"m...|1525400| 63995|     896|         4697|https://i.ytimg.c...|            False|           False|                 False|Has Dan ever used...|\n",
      "|         ItYOdWRo0JY|            17.15.11|Selling My iPhone...|          TechSmartt|                  28|2017-11-14T00:45:...|\"iphone x\"|\"iphon...|1836419| 28647|   17815|         7860|https://i.ytimg.c...|            False|           False|                 False|I saw the EcoATM ...|\n",
      "|         5530I_pYjbo|            17.15.11|How I Trained My ...|         JunsKitchen|                  26|2017-11-14T12:06:...|\"how\"|\"trained\"|\"...| 977285| 87615|     391|         5575|https://i.ytimg.c...|            False|           False|                 False|►EQUIPMENT I use ...|\n",
      "|         dUMH6DVYskc|            17.15.11|Ten-Year-Old's Fa...|     Attaullah Malik|                  28|2017-11-14T12:02:...|\"iPhone X\"|\"Face ...| 390964|  3687|    1273|         1224|https://i.ytimg.c...|            False|           False|                 False|We are seeing a f...|\n",
      "|         gjXrm2Q-te4|            17.15.11|Jimmy Fallon Pays...|The Tonight Show ...|                  23|2017-11-14T04:55:...|\"Jimmy Fallon\"|\"T...|1611093| 58474|     837|         3294|https://i.ytimg.c...|            False|           False|                 False|Jimmy celebrates ...|\n",
      "|         9SK1I0V6U5c|            17.15.11|Lie Detector | An...|        Anwar Jibawi|                  23|2017-11-14T18:01:...|\"lie detector\"|\"a...| 983365| 60983|     578|         3837|https://i.ytimg.c...|            False|           False|                 False|SUBSCRIBE ► https...|\n",
      "|         VsYmwBOYfW8|            17.15.11|Mean Tweets – Jim...|   Jimmy Kimmel Live|                  23|2017-11-14T08:30:...|\"jimmy\"|\"jimmy ki...|2765121| 35529|    1705|         2388|https://i.ytimg.c...|            False|           False|                 False|In honor of Jimmy...|\n",
      "|         kgaO45SyaO4|            17.15.11|    The New SpotMini|      BostonDynamics|                  28|2017-11-13T20:09:...|\"Robots\"|\"Boston ...|3701763| 56561|    2495|        11608|https://i.ytimg.c...|            False|           False|                 False|For more informat...|\n",
      "|         CtBca6H6Teg|            17.15.11|Honest Trailers -...|      Screen Junkies|                   1|2017-11-14T18:00:...|\"batman\"|\"screenj...| 829132| 25109|     316|         3428|https://i.ytimg.c...|            False|           False|                 False|Before Justice Le...|\n",
      "|         pcWKpGzhgq4|            17.15.11|Jason Momoa Shows...|The Graham Norton...|                  24|2017-11-14T12:13:...|\"Graham Norton\"|\"...| 391049|  5939|     106|          385|https://i.ytimg.c...|            False|           False|                 False|It's not a triden...|\n",
      "|         L3br0klRqF4|            17.15.11|Watch live: Sessi...|     Washington Post|                  25|2017-11-14T21:51:...|\"breaking news vi...| 137003|   580|     262|          343|https://i.ytimg.c...|            False|           False|                 False|Attorney General ...|\n",
      "|         9kF9xY74h-E|            17.15.11|Spilling Tea Abou...|         Dolan Twins|                  23|2017-11-14T21:00:...|\"Dolan Twins\"|\"Sp...| 891912|122347|     455|         7459|https://i.ytimg.c...|            False|           False|                 False|We spill TEA abou...|\n",
      "|         p2EY93WfBQk|            17.15.11|Is the Morphe 350...|         Jackie Aina|                  26|2017-11-14T21:03:...|\"morphe\"|\"morphe ...| 175539| 17130|     264|         1747|https://i.ytimg.c...|            False|           False|                 False|hi babes! the lat...|\n",
      "|         xL_qpDkF5A8|            17.15.11|American Crime St...|           TV Promos|                  24|2017-11-15T01:25:...|\"Donatella Versac...|  14565|   478|      13|           67|https://i.ytimg.c...|            False|           False|                 False|The Assassination...|\n",
      "|         eQVhAN7-IAw|            17.15.11|The Making of a S...|        Taylor Swift|                  10|2017-11-15T03:43:...|\"DIRECTV\"|\"DIRECT...| 125645| 16754|      65|         1373|https://i.ytimg.c...|            False|           False|                 False|A glimpse into Ta...|\n",
      "+--------------------+--------------------+--------------------+--------------------+--------------------+--------------------+--------------------+-------+------+--------+-------------+--------------------+-----------------+----------------+----------------------+--------------------+\n",
      "only showing top 20 rows\n",
      "\n"
     ]
    }
   ],
   "source": [
    "df12.show()"
   ]
  },
  {
   "cell_type": "code",
   "execution_count": 55,
   "metadata": {},
   "outputs": [],
   "source": [
    "df13 = spark.read.parquet('./data/data/dataPARQUET.parquet').where(col('likes') > 5000)"
   ]
  },
  {
   "cell_type": "code",
   "execution_count": 56,
   "metadata": {},
   "outputs": [
    {
     "name": "stdout",
     "output_type": "stream",
     "text": [
      "+-----------+-------------+--------------------+--------------------+-----------+--------------------+--------------------+-------+------+--------+-------------+--------------------+-----------------+----------------+----------------------+--------------------+\n",
      "|   video_id|trending_date|               title|       channel_title|category_id|        publish_time|                tags|  views| likes|dislikes|comment_count|      thumbnail_link|comments_disabled|ratings_disabled|video_error_or_removed|         description|\n",
      "+-----------+-------------+--------------------+--------------------+-----------+--------------------+--------------------+-------+------+--------+-------------+--------------------+-----------------+----------------+----------------------+--------------------+\n",
      "|YvfYK0EEhK4|     17.15.11|Brent Pella - Why...|         Brent Pella|         23|2017-11-14T15:32:...|\"spirit airlines\"...| 462490| 14132|     795|          666|https://i.ytimg.c...|            False|           False|                 False|Traveling for the...|\n",
      "|bAkEd8r7Nnw|     17.15.11|Slow Mo Katana Sw...|    The Slow Mo Guys|         24|2017-11-14T18:31:...|\"slomo\"|\"slow\"|\"m...|1525400| 63995|     896|         4697|https://i.ytimg.c...|            False|           False|                 False|Has Dan ever used...|\n",
      "|ItYOdWRo0JY|     17.15.11|Selling My iPhone...|          TechSmartt|         28|2017-11-14T00:45:...|\"iphone x\"|\"iphon...|1836419| 28647|   17815|         7860|https://i.ytimg.c...|            False|           False|                 False|I saw the EcoATM ...|\n",
      "|5530I_pYjbo|     17.15.11|How I Trained My ...|         JunsKitchen|         26|2017-11-14T12:06:...|\"how\"|\"trained\"|\"...| 977285| 87615|     391|         5575|https://i.ytimg.c...|            False|           False|                 False|►EQUIPMENT I use ...|\n",
      "|gjXrm2Q-te4|     17.15.11|Jimmy Fallon Pays...|The Tonight Show ...|         23|2017-11-14T04:55:...|\"Jimmy Fallon\"|\"T...|1611093| 58474|     837|         3294|https://i.ytimg.c...|            False|           False|                 False|Jimmy celebrates ...|\n",
      "|9SK1I0V6U5c|     17.15.11|Lie Detector | An...|        Anwar Jibawi|         23|2017-11-14T18:01:...|\"lie detector\"|\"a...| 983365| 60983|     578|         3837|https://i.ytimg.c...|            False|           False|                 False|SUBSCRIBE ► https...|\n",
      "|VsYmwBOYfW8|     17.15.11|Mean Tweets – Jim...|   Jimmy Kimmel Live|         23|2017-11-14T08:30:...|\"jimmy\"|\"jimmy ki...|2765121| 35529|    1705|         2388|https://i.ytimg.c...|            False|           False|                 False|In honor of Jimmy...|\n",
      "|kgaO45SyaO4|     17.15.11|    The New SpotMini|      BostonDynamics|         28|2017-11-13T20:09:...|\"Robots\"|\"Boston ...|3701763| 56561|    2495|        11608|https://i.ytimg.c...|            False|           False|                 False|For more informat...|\n",
      "|CtBca6H6Teg|     17.15.11|Honest Trailers -...|      Screen Junkies|          1|2017-11-14T18:00:...|\"batman\"|\"screenj...| 829132| 25109|     316|         3428|https://i.ytimg.c...|            False|           False|                 False|Before Justice Le...|\n",
      "|9kF9xY74h-E|     17.15.11|Spilling Tea Abou...|         Dolan Twins|         23|2017-11-14T21:00:...|\"Dolan Twins\"|\"Sp...| 891912|122347|     455|         7459|https://i.ytimg.c...|            False|           False|                 False|We spill TEA abou...|\n",
      "|p2EY93WfBQk|     17.15.11|Is the Morphe 350...|         Jackie Aina|         26|2017-11-14T21:03:...|\"morphe\"|\"morphe ...| 175539| 17130|     264|         1747|https://i.ytimg.c...|            False|           False|                 False|hi babes! the lat...|\n",
      "|eQVhAN7-IAw|     17.15.11|The Making of a S...|        Taylor Swift|         10|2017-11-15T03:43:...|\"DIRECTV\"|\"DIRECT...| 125645| 16754|      65|         1373|https://i.ytimg.c...|            False|           False|                 False|A glimpse into Ta...|\n",
      "|2kyS6SvSYSE|     17.15.11|WE WANT TO TALK A...|        CaseyNeistat|         22|2017-11-13T17:13:...|     SHANtell martin|2188590| 88099|    7150|        24225|https://i.ytimg.c...|            False|           False|                 False|SHANTELL'S CHANNE...|\n",
      "|Y9nDagqKL7Q|     17.15.11|venting online ab...|               ProZD|          1|2017-11-13T20:47:...|\"venting online\"|...| 394709| 25188|     281|         1345|https://i.ytimg.c...|            False|           False|                 False|My Twitter: https...|\n",
      "|DbJ2s_g1oDc|     17.15.11|10 LIFE HACKS YOU...|               REACT|         24|2017-11-13T20:00:...|\"easy life hacks\"...| 863116| 20518|    1030|         4272|https://i.ytimg.c...|            False|           False|                 False|10 Awesome life h...|\n",
      "|1ZAPwfrtAFY|     17.15.11|The Trump Preside...|     LastWeekTonight|         24|2017-11-13T07:30:...|\"last week tonigh...|4632016|131784|    9892|        18284|https://i.ytimg.c...|            False|           False|                 False|One year after th...|\n",
      "|gHZ1Qz0KiKM|     17.15.11|2 Weeks with iPho...|            iJustine|         28|2017-11-13T19:07:...|\"ijustine\"|\"week ...| 758998| 19138|    2272|         2873|https://i.ytimg.c...|            False|           False|                 False|Using the iPhone ...|\n",
      "|jr9QtXwC9vc|     17.15.11|The Greatest Show...|    20th Century Fox|          1|2017-11-13T14:00:...|\"Trailer\"|\"Hugh J...|2671756| 12699|     505|         1010|https://i.ytimg.c...|            False|           False|                 False|Inspired by the i...|\n",
      "|l4bAoNAx2uo|     17.15.11|American Things E...|The Infographics ...|         27|2017-11-13T17:11:...|\"American Things ...| 419965|  9805|    1337|         5457|https://i.ytimg.c...|            False|           False|                 False|What are things t...|\n",
      "|puqaWrEC7tY|     17.15.11|Nickelback Lyrics...|Good Mythical Mor...|         24|2017-11-13T11:00:...|\"rhett and link\"|...| 772235| 15301|    1229|         3328|https://i.ytimg.c...|            False|           False|                 False|Today we find out...|\n",
      "+-----------+-------------+--------------------+--------------------+-----------+--------------------+--------------------+-------+------+--------+-------------+--------------------+-----------------+----------------+----------------------+--------------------+\n",
      "only showing top 20 rows\n",
      "\n"
     ]
    }
   ],
   "source": [
    "df13.filter((col('trending_date') != '17.14.11') & (col('likes') > 7000)).show()"
   ]
  },
  {
   "cell_type": "markdown",
   "metadata": {},
   "source": [
    "- También podríamos haberlo hecho de esta otra forma."
   ]
  },
  {
   "cell_type": "code",
   "execution_count": 57,
   "metadata": {},
   "outputs": [
    {
     "name": "stdout",
     "output_type": "stream",
     "text": [
      "+-----------+-------------+--------------------+--------------------+-----------+--------------------+--------------------+-------+------+--------+-------------+--------------------+-----------------+----------------+----------------------+--------------------+\n",
      "|   video_id|trending_date|               title|       channel_title|category_id|        publish_time|                tags|  views| likes|dislikes|comment_count|      thumbnail_link|comments_disabled|ratings_disabled|video_error_or_removed|         description|\n",
      "+-----------+-------------+--------------------+--------------------+-----------+--------------------+--------------------+-------+------+--------+-------------+--------------------+-----------------+----------------+----------------------+--------------------+\n",
      "|YvfYK0EEhK4|     17.15.11|Brent Pella - Why...|         Brent Pella|         23|2017-11-14T15:32:...|\"spirit airlines\"...| 462490| 14132|     795|          666|https://i.ytimg.c...|            False|           False|                 False|Traveling for the...|\n",
      "|bAkEd8r7Nnw|     17.15.11|Slow Mo Katana Sw...|    The Slow Mo Guys|         24|2017-11-14T18:31:...|\"slomo\"|\"slow\"|\"m...|1525400| 63995|     896|         4697|https://i.ytimg.c...|            False|           False|                 False|Has Dan ever used...|\n",
      "|ItYOdWRo0JY|     17.15.11|Selling My iPhone...|          TechSmartt|         28|2017-11-14T00:45:...|\"iphone x\"|\"iphon...|1836419| 28647|   17815|         7860|https://i.ytimg.c...|            False|           False|                 False|I saw the EcoATM ...|\n",
      "|5530I_pYjbo|     17.15.11|How I Trained My ...|         JunsKitchen|         26|2017-11-14T12:06:...|\"how\"|\"trained\"|\"...| 977285| 87615|     391|         5575|https://i.ytimg.c...|            False|           False|                 False|►EQUIPMENT I use ...|\n",
      "|gjXrm2Q-te4|     17.15.11|Jimmy Fallon Pays...|The Tonight Show ...|         23|2017-11-14T04:55:...|\"Jimmy Fallon\"|\"T...|1611093| 58474|     837|         3294|https://i.ytimg.c...|            False|           False|                 False|Jimmy celebrates ...|\n",
      "|9SK1I0V6U5c|     17.15.11|Lie Detector | An...|        Anwar Jibawi|         23|2017-11-14T18:01:...|\"lie detector\"|\"a...| 983365| 60983|     578|         3837|https://i.ytimg.c...|            False|           False|                 False|SUBSCRIBE ► https...|\n",
      "|VsYmwBOYfW8|     17.15.11|Mean Tweets – Jim...|   Jimmy Kimmel Live|         23|2017-11-14T08:30:...|\"jimmy\"|\"jimmy ki...|2765121| 35529|    1705|         2388|https://i.ytimg.c...|            False|           False|                 False|In honor of Jimmy...|\n",
      "|kgaO45SyaO4|     17.15.11|    The New SpotMini|      BostonDynamics|         28|2017-11-13T20:09:...|\"Robots\"|\"Boston ...|3701763| 56561|    2495|        11608|https://i.ytimg.c...|            False|           False|                 False|For more informat...|\n",
      "|CtBca6H6Teg|     17.15.11|Honest Trailers -...|      Screen Junkies|          1|2017-11-14T18:00:...|\"batman\"|\"screenj...| 829132| 25109|     316|         3428|https://i.ytimg.c...|            False|           False|                 False|Before Justice Le...|\n",
      "|9kF9xY74h-E|     17.15.11|Spilling Tea Abou...|         Dolan Twins|         23|2017-11-14T21:00:...|\"Dolan Twins\"|\"Sp...| 891912|122347|     455|         7459|https://i.ytimg.c...|            False|           False|                 False|We spill TEA abou...|\n",
      "|p2EY93WfBQk|     17.15.11|Is the Morphe 350...|         Jackie Aina|         26|2017-11-14T21:03:...|\"morphe\"|\"morphe ...| 175539| 17130|     264|         1747|https://i.ytimg.c...|            False|           False|                 False|hi babes! the lat...|\n",
      "|eQVhAN7-IAw|     17.15.11|The Making of a S...|        Taylor Swift|         10|2017-11-15T03:43:...|\"DIRECTV\"|\"DIRECT...| 125645| 16754|      65|         1373|https://i.ytimg.c...|            False|           False|                 False|A glimpse into Ta...|\n",
      "|2kyS6SvSYSE|     17.15.11|WE WANT TO TALK A...|        CaseyNeistat|         22|2017-11-13T17:13:...|     SHANtell martin|2188590| 88099|    7150|        24225|https://i.ytimg.c...|            False|           False|                 False|SHANTELL'S CHANNE...|\n",
      "|Y9nDagqKL7Q|     17.15.11|venting online ab...|               ProZD|          1|2017-11-13T20:47:...|\"venting online\"|...| 394709| 25188|     281|         1345|https://i.ytimg.c...|            False|           False|                 False|My Twitter: https...|\n",
      "|DbJ2s_g1oDc|     17.15.11|10 LIFE HACKS YOU...|               REACT|         24|2017-11-13T20:00:...|\"easy life hacks\"...| 863116| 20518|    1030|         4272|https://i.ytimg.c...|            False|           False|                 False|10 Awesome life h...|\n",
      "|1ZAPwfrtAFY|     17.15.11|The Trump Preside...|     LastWeekTonight|         24|2017-11-13T07:30:...|\"last week tonigh...|4632016|131784|    9892|        18284|https://i.ytimg.c...|            False|           False|                 False|One year after th...|\n",
      "|gHZ1Qz0KiKM|     17.15.11|2 Weeks with iPho...|            iJustine|         28|2017-11-13T19:07:...|\"ijustine\"|\"week ...| 758998| 19138|    2272|         2873|https://i.ytimg.c...|            False|           False|                 False|Using the iPhone ...|\n",
      "|jr9QtXwC9vc|     17.15.11|The Greatest Show...|    20th Century Fox|          1|2017-11-13T14:00:...|\"Trailer\"|\"Hugh J...|2671756| 12699|     505|         1010|https://i.ytimg.c...|            False|           False|                 False|Inspired by the i...|\n",
      "|l4bAoNAx2uo|     17.15.11|American Things E...|The Infographics ...|         27|2017-11-13T17:11:...|\"American Things ...| 419965|  9805|    1337|         5457|https://i.ytimg.c...|            False|           False|                 False|What are things t...|\n",
      "|puqaWrEC7tY|     17.15.11|Nickelback Lyrics...|Good Mythical Mor...|         24|2017-11-13T11:00:...|\"rhett and link\"|...| 772235| 15301|    1229|         3328|https://i.ytimg.c...|            False|           False|                 False|Today we find out...|\n",
      "+-----------+-------------+--------------------+--------------------+-----------+--------------------+--------------------+-------+------+--------+-------------+--------------------+-----------------+----------------+----------------------+--------------------+\n",
      "only showing top 20 rows\n",
      "\n"
     ]
    }
   ],
   "source": [
    "df13.filter(col('trending_date') != '17.14.11').filter(col('likes') > 7000).show()"
   ]
  },
  {
   "cell_type": "markdown",
   "metadata": {},
   "source": [
    "### **Transformaciones: funciones distinct() y dropDuplicates()**"
   ]
  },
  {
   "cell_type": "markdown",
   "metadata": {},
   "source": [
    "- Tienen la misma función pero dropDuplicates() nos permite definir la lógica."
   ]
  },
  {
   "cell_type": "code",
   "execution_count": 58,
   "metadata": {},
   "outputs": [],
   "source": [
    "df14 = spark.read.parquet('./data/data/dataPARQUET.parquet')"
   ]
  },
  {
   "cell_type": "markdown",
   "metadata": {},
   "source": [
    "- **distinct()**"
   ]
  },
  {
   "cell_type": "code",
   "execution_count": 59,
   "metadata": {},
   "outputs": [],
   "source": [
    "df_sin_duplicados = df14.distinct() # Elimina los duplicados."
   ]
  },
  {
   "cell_type": "code",
   "execution_count": 60,
   "metadata": {},
   "outputs": [
    {
     "name": "stdout",
     "output_type": "stream",
     "text": [
      "El conteo del dataframe original es 48137\n",
      "El conteo del dataframe sin duplicados es 41497\n"
     ]
    }
   ],
   "source": [
    "print('El conteo del dataframe original es {}'.format(df14.count()))\n",
    "print('El conteo del dataframe sin duplicados es {}'.format(df_sin_duplicados.count()))"
   ]
  },
  {
   "cell_type": "markdown",
   "metadata": {},
   "source": [
    "- **dropDuplicates()**"
   ]
  },
  {
   "cell_type": "markdown",
   "metadata": {},
   "source": [
    "- También podríamos llamarlo sin llamar ningún parámetro, sería lo mismo que distinct()"
   ]
  },
  {
   "cell_type": "code",
   "execution_count": 61,
   "metadata": {},
   "outputs": [],
   "source": [
    "dataframe = spark.createDataFrame([(1, 'azul', 567), (2, 'rojo', 487), (1, 'azul', 345), (2, 'verde', 783)]).toDF('id', 'color', 'importe')"
   ]
  },
  {
   "cell_type": "code",
   "execution_count": 62,
   "metadata": {},
   "outputs": [
    {
     "name": "stdout",
     "output_type": "stream",
     "text": [
      "+---+-----+-------+\n",
      "| id|color|importe|\n",
      "+---+-----+-------+\n",
      "|  1| azul|    567|\n",
      "|  2| rojo|    487|\n",
      "|  1| azul|    345|\n",
      "|  2|verde|    783|\n",
      "+---+-----+-------+\n",
      "\n"
     ]
    }
   ],
   "source": [
    "dataframe.show()"
   ]
  },
  {
   "cell_type": "code",
   "execution_count": 63,
   "metadata": {},
   "outputs": [
    {
     "name": "stdout",
     "output_type": "stream",
     "text": [
      "+---+-----+-------+\n",
      "| id|color|importe|\n",
      "+---+-----+-------+\n",
      "|  1| azul|    567|\n",
      "|  2| rojo|    487|\n",
      "|  2|verde|    783|\n",
      "+---+-----+-------+\n",
      "\n"
     ]
    }
   ],
   "source": [
    "dataframe.dropDuplicates(['id', 'color']).show() # Aquellas filas en estas columnas que tienen valores iguales."
   ]
  },
  {
   "cell_type": "markdown",
   "metadata": {},
   "source": [
    "### **Transformaciones: funciones sort(), orderBy() y limit()**"
   ]
  },
  {
   "cell_type": "code",
   "execution_count": 64,
   "metadata": {},
   "outputs": [],
   "source": [
    "from pyspark.sql.functions import col"
   ]
  },
  {
   "cell_type": "code",
   "execution_count": 65,
   "metadata": {},
   "outputs": [],
   "source": [
    "df15 = spark.read.parquet('./data/data/dataPARQUET.parquet')"
   ]
  },
  {
   "cell_type": "code",
   "execution_count": 66,
   "metadata": {},
   "outputs": [],
   "source": [
    "df15 = df15.select(col('likes'), col('views'), col('video_id'), col('dislikes')).dropDuplicates(['video_id'])"
   ]
  },
  {
   "cell_type": "code",
   "execution_count": 67,
   "metadata": {},
   "outputs": [
    {
     "name": "stdout",
     "output_type": "stream",
     "text": [
      "+-----+-------+-----------+--------+\n",
      "|likes|  views|   video_id|dislikes|\n",
      "+-----+-------+-----------+--------+\n",
      "| 6531| 475965|-0CMnp02rNY|     172|\n",
      "| 4429| 563746|-0NYY8cqdiQ|      54|\n",
      "|32752|1566807|-1Hm41N0dUs|     393|\n",
      "| 5214| 129360|-1yT-K3c6YI|     108|\n",
      "|  438|  67429|-2RVw2_QyxQ|      23|\n",
      "|19339|1012527|-2aVkGcI7ZA|     633|\n",
      "| 1444|  84744|-2b4qSoMnKE|     199|\n",
      "|10350| 703371|-2wRFv-mScQ|     260|\n",
      "|73480| 545655|-35jibKqbEo|     727|\n",
      "|    2|   2863|-37nIo_tLnk|       0|\n",
      "| 4028| 385104|-39ysKKpE7I|     343|\n",
      "| 6468| 230360|-3h4Xt9No9o|     177|\n",
      "|10384| 249601|-3nEHRN6IPg|     370|\n",
      "|38776| 296237|-4s2MeUgduo|     466|\n",
      "|71090| 390631|-5aaJJQFvOg|     635|\n",
      "|21224| 744363|-66xHRJSPxs|     534|\n",
      "|17882| 363370|-7AZX5Xtiks|     416|\n",
      "|36960| 908989|-7UzyXO-mzk|     434|\n",
      "|17120|1815030|-7_ATlZ-zMc|     633|\n",
      "|  760| 252542|-8ZHXaGILlc|     100|\n",
      "+-----+-------+-----------+--------+\n",
      "only showing top 20 rows\n",
      "\n"
     ]
    }
   ],
   "source": [
    "df15.show()"
   ]
  },
  {
   "cell_type": "markdown",
   "metadata": {},
   "source": [
    "- **sort()**"
   ]
  },
  {
   "cell_type": "code",
   "execution_count": 68,
   "metadata": {},
   "outputs": [
    {
     "name": "stdout",
     "output_type": "stream",
     "text": [
      "+-----+-----+--------------------+--------+\n",
      "|likes|views|            video_id|dislikes|\n",
      "+-----+-----+--------------------+--------+\n",
      "| null| null|Awesome Games Pla...|    null|\n",
      "| null| null|Filmed by Lucas F...|    null|\n",
      "| null| null|    Beautiful Thing:|    null|\n",
      "| null| null|Bon Appétit Test ...|    null|\n",
      "| null| null|Filmed at the Bee...|    null|\n",
      "| null| null|Britton Lane: htt...|    null|\n",
      "| null| null|Allie Sherlock: h...|    null|\n",
      "| null| null|Browse thousands ...|    null|\n",
      "| null| null|   ABOUT BON APPÉTIT|    null|\n",
      "| null| null|Catch Terry Crews...|    null|\n",
      "| null| null|    ABOUT EPICURIOUS|    null|\n",
      "| null| null|Check Out My WEBS...|    null|\n",
      "| null| null|    ABOUT TEEN VOGUE|    null|\n",
      "| null| null|Check out the Dam...|    null|\n",
      "| null| null|         ABOUT VOGUE|    null|\n",
      "| null| null|          City Song:|    null|\n",
      "| null| null|Filmed at the Wal...|    null|\n",
      "| null| null|            Clearly:|    null|\n",
      "| null| null|Black Panther is ...|    null|\n",
      "| null| null|Cook with confide...|    null|\n",
      "+-----+-----+--------------------+--------+\n",
      "only showing top 20 rows\n",
      "\n"
     ]
    }
   ],
   "source": [
    "df15.sort('likes').show()"
   ]
  },
  {
   "cell_type": "code",
   "execution_count": 69,
   "metadata": {},
   "outputs": [],
   "source": [
    "from pyspark.sql.functions import desc"
   ]
  },
  {
   "cell_type": "code",
   "execution_count": 70,
   "metadata": {},
   "outputs": [
    {
     "name": "stdout",
     "output_type": "stream",
     "text": [
      "+-----+-------+-----------+--------+\n",
      "|likes|  views|   video_id|dislikes|\n",
      "+-----+-------+-----------+--------+\n",
      "|99990|2079137|2v4-L4PkV9U|    2844|\n",
      "|99973|2465294|DSRSgMp5X1w|   17299|\n",
      "|99952|3313449|LdhQzXHYLZ4|    5142|\n",
      "| 9991|  98513|eBnXbImHX-g|      91|\n",
      "| 9988|1162843|kz1xzBYppW8|    2555|\n",
      "|99851|1053828|vRf3azp1pak|    1226|\n",
      "| 9984| 206669|Lydh_saD9EQ|      88|\n",
      "| 9984| 254807|Ps7GzIV2KP0|     294|\n",
      "|  998|  71308|Hkx5fveyjIs|      74|\n",
      "|  998|  54348|Pr6zjrF0Djg|      75|\n",
      "|  998|  82087|hX643KbiI4s|      93|\n",
      "|99761|1454233|h5CLO2n6OxQ|     692|\n",
      "|  997|  27234|nb42DxagyOE|      13|\n",
      "| 9969| 273905|c47kn_Y4y8A|     127|\n",
      "| 9946| 242329|QXcbVHFE2bo|     148|\n",
      "| 9939| 235293|1iGBHh1q0Kg|     232|\n",
      "| 9926| 467558|hHFuZVGpBC0|     342|\n",
      "|99254|1552618|0v-6AylRH68|    5195|\n",
      "| 9925| 166235|flLc6LmAG6c|      50|\n",
      "| 9921| 594536|e9NOwaiXqqA|     323|\n",
      "+-----+-------+-----------+--------+\n",
      "only showing top 20 rows\n",
      "\n"
     ]
    }
   ],
   "source": [
    "df15.sort(desc('likes')).show()"
   ]
  },
  {
   "cell_type": "markdown",
   "metadata": {},
   "source": [
    "- **orderBy()**"
   ]
  },
  {
   "cell_type": "code",
   "execution_count": 71,
   "metadata": {},
   "outputs": [
    {
     "name": "stdout",
     "output_type": "stream",
     "text": [
      "+-----+-----+--------------------+--------+\n",
      "|likes|views|            video_id|dislikes|\n",
      "+-----+-----+--------------------+--------+\n",
      "| null| null|Catch Terry Crews...|    null|\n",
      "| null| null|ABOUT ARCHITECTUR...|    null|\n",
      "| null| null|Check Out My WEBS...|    null|\n",
      "| null| null|    ABOUT EPICURIOUS|    null|\n",
      "| null| null|Check out the Dam...|    null|\n",
      "| null| null|         ABOUT WIRED|    null|\n",
      "| null| null|          City Song:|    null|\n",
      "| null| null|   ABOUT BON APPÉTIT|    null|\n",
      "| null| null|            Clearly:|    null|\n",
      "| null| null|Browse thousands ...|    null|\n",
      "| null| null|Cook with confide...|    null|\n",
      "| null| null|   ABOUT VANITY FAIR|    null|\n",
      "| null| null|Directed by Lucas...|    null|\n",
      "| null| null|Britton Lane: htt...|    null|\n",
      "| null| null|Arts and entertai...|    null|\n",
      "| null| null|Awesome Games Pla...|    null|\n",
      "| null| null|    Beautiful Thing:|    null|\n",
      "| null| null|  Expert travel tips|    null|\n",
      "| null| null|Black Panther is ...|    null|\n",
      "| null| null|             Fashion|    null|\n",
      "+-----+-----+--------------------+--------+\n",
      "only showing top 20 rows\n",
      "\n"
     ]
    }
   ],
   "source": [
    "df15.orderBy(col('views')).show()"
   ]
  },
  {
   "cell_type": "code",
   "execution_count": 72,
   "metadata": {},
   "outputs": [
    {
     "name": "stdout",
     "output_type": "stream",
     "text": [
      "+------+-------+-----------+--------+\n",
      "| likes|  views|   video_id|dislikes|\n",
      "+------+-------+-----------+--------+\n",
      "|126363| 999910|gw82GrEt370|    1034|\n",
      "| 78088| 999867|cyhU06cXfeU|     690|\n",
      "| 58552| 998908|QIN5_tJRiyY|    1080|\n",
      "|151348|9988608|fAIX12F6958|   10274|\n",
      "| 70972| 998362|LC3fWTXZXxE|    1608|\n",
      "|  4727|  99796|kOsl3cmK3zg|     152|\n",
      "|   120|   9977|1L_fPteZOYQ|      11|\n",
      "|   299|  99674|Yzx_tSlifIw|      95|\n",
      "|119634| 996318|__1SjDrSMik|    1143|\n",
      "|  3959|  99619|9ymjcSvEyhk|     158|\n",
      "|   969|  99577|qLVZiKDNxtw|     197|\n",
      "|  2136|  99566|pWZnhJay0Y8|     419|\n",
      "|  6487|  99535|BfbIoUMdKZ0|     116|\n",
      "|  3761|  99510|bhqH6tTr_Lk|     615|\n",
      "|   258| 994747|i7FgneNlM14|     398|\n",
      "| 21094| 994662|-CS84oCtjvc|     714|\n",
      "|107029| 993913|EWf7P3okX9s|     472|\n",
      "|  9507| 993593|vYb4_ARPNfo|    3647|\n",
      "|  7388| 993435|z1FfOwjlqxU|     919|\n",
      "|   111|   9932|b3KFfgoDzw8|       9|\n",
      "+------+-------+-----------+--------+\n",
      "only showing top 20 rows\n",
      "\n"
     ]
    }
   ],
   "source": [
    "df15.orderBy(col('views').desc()).show()"
   ]
  },
  {
   "cell_type": "code",
   "execution_count": 73,
   "metadata": {},
   "outputs": [],
   "source": [
    "d16 = spark.createDataFrame([(1, 'azul', 568), (2, 'rojo', 235), (1, 'azul', 456), (2, 'azul', 783)]).toDF('id', 'color', 'importe')"
   ]
  },
  {
   "cell_type": "code",
   "execution_count": 74,
   "metadata": {},
   "outputs": [
    {
     "name": "stdout",
     "output_type": "stream",
     "text": [
      "+---+-----+-------+\n",
      "| id|color|importe|\n",
      "+---+-----+-------+\n",
      "|  1| azul|    568|\n",
      "|  2| rojo|    235|\n",
      "|  1| azul|    456|\n",
      "|  2| azul|    783|\n",
      "+---+-----+-------+\n",
      "\n"
     ]
    }
   ],
   "source": [
    "d16.show()"
   ]
  },
  {
   "cell_type": "code",
   "execution_count": 75,
   "metadata": {},
   "outputs": [
    {
     "name": "stdout",
     "output_type": "stream",
     "text": [
      "+---+-----+-------+\n",
      "| id|color|importe|\n",
      "+---+-----+-------+\n",
      "|  2| rojo|    235|\n",
      "|  1| azul|    456|\n",
      "|  1| azul|    568|\n",
      "|  2| azul|    783|\n",
      "+---+-----+-------+\n",
      "\n"
     ]
    }
   ],
   "source": [
    "d16.orderBy(col('color').desc(), col('importe')).show()"
   ]
  },
  {
   "cell_type": "markdown",
   "metadata": {},
   "source": [
    "- **limit()**"
   ]
  },
  {
   "cell_type": "code",
   "execution_count": 76,
   "metadata": {},
   "outputs": [],
   "source": [
    "top_10 = df15.orderBy(col('views').desc()).limit(10)"
   ]
  },
  {
   "cell_type": "code",
   "execution_count": 77,
   "metadata": {},
   "outputs": [
    {
     "name": "stdout",
     "output_type": "stream",
     "text": [
      "+------+-------+-----------+--------+\n",
      "| likes|  views|   video_id|dislikes|\n",
      "+------+-------+-----------+--------+\n",
      "|126363| 999910|gw82GrEt370|    1034|\n",
      "| 78088| 999867|cyhU06cXfeU|     690|\n",
      "| 58552| 998908|QIN5_tJRiyY|    1080|\n",
      "|151348|9988608|fAIX12F6958|   10274|\n",
      "| 70972| 998362|LC3fWTXZXxE|    1608|\n",
      "|  4727|  99796|kOsl3cmK3zg|     152|\n",
      "|   120|   9977|1L_fPteZOYQ|      11|\n",
      "|   299|  99674|Yzx_tSlifIw|      95|\n",
      "|119634| 996318|__1SjDrSMik|    1143|\n",
      "|  3959|  99619|9ymjcSvEyhk|     158|\n",
      "+------+-------+-----------+--------+\n",
      "\n"
     ]
    }
   ],
   "source": [
    "top_10.show()"
   ]
  },
  {
   "cell_type": "markdown",
   "metadata": {},
   "source": [
    "### **Transformaciones: funciones withColumn() y withColumnRenamed()**"
   ]
  },
  {
   "cell_type": "markdown",
   "metadata": {},
   "source": [
    "- **withColumn()**"
   ]
  },
  {
   "cell_type": "code",
   "execution_count": 78,
   "metadata": {},
   "outputs": [],
   "source": [
    "df17 = spark.read.parquet('./data/data/dataPARQUET.parquet')"
   ]
  },
  {
   "cell_type": "code",
   "execution_count": 79,
   "metadata": {},
   "outputs": [],
   "source": [
    "from pyspark.sql.functions import col"
   ]
  },
  {
   "cell_type": "code",
   "execution_count": 80,
   "metadata": {},
   "outputs": [],
   "source": [
    "df_valoracion = df17.withColumn('valoracion', col('likes') - col('dislikes'))"
   ]
  },
  {
   "cell_type": "code",
   "execution_count": 81,
   "metadata": {},
   "outputs": [
    {
     "name": "stdout",
     "output_type": "stream",
     "text": [
      "root\n",
      " |-- video_id: string (nullable = true)\n",
      " |-- trending_date: string (nullable = true)\n",
      " |-- title: string (nullable = true)\n",
      " |-- channel_title: string (nullable = true)\n",
      " |-- category_id: string (nullable = true)\n",
      " |-- publish_time: string (nullable = true)\n",
      " |-- tags: string (nullable = true)\n",
      " |-- views: string (nullable = true)\n",
      " |-- likes: string (nullable = true)\n",
      " |-- dislikes: string (nullable = true)\n",
      " |-- comment_count: string (nullable = true)\n",
      " |-- thumbnail_link: string (nullable = true)\n",
      " |-- comments_disabled: string (nullable = true)\n",
      " |-- ratings_disabled: string (nullable = true)\n",
      " |-- video_error_or_removed: string (nullable = true)\n",
      " |-- description: string (nullable = true)\n",
      " |-- valoracion: double (nullable = true)\n",
      "\n"
     ]
    }
   ],
   "source": [
    "df_valoracion.printSchema()"
   ]
  },
  {
   "cell_type": "code",
   "execution_count": 82,
   "metadata": {},
   "outputs": [],
   "source": [
    "df_valoracion1 = (df17.withColumn('valoracion', (col('likes') - col('dislikes')))\n",
    "                  .withColumn('res:div', col('valoracion') % 10)\n",
    ")"
   ]
  },
  {
   "cell_type": "code",
   "execution_count": 83,
   "metadata": {},
   "outputs": [
    {
     "name": "stdout",
     "output_type": "stream",
     "text": [
      "root\n",
      " |-- video_id: string (nullable = true)\n",
      " |-- trending_date: string (nullable = true)\n",
      " |-- title: string (nullable = true)\n",
      " |-- channel_title: string (nullable = true)\n",
      " |-- category_id: string (nullable = true)\n",
      " |-- publish_time: string (nullable = true)\n",
      " |-- tags: string (nullable = true)\n",
      " |-- views: string (nullable = true)\n",
      " |-- likes: string (nullable = true)\n",
      " |-- dislikes: string (nullable = true)\n",
      " |-- comment_count: string (nullable = true)\n",
      " |-- thumbnail_link: string (nullable = true)\n",
      " |-- comments_disabled: string (nullable = true)\n",
      " |-- ratings_disabled: string (nullable = true)\n",
      " |-- video_error_or_removed: string (nullable = true)\n",
      " |-- description: string (nullable = true)\n",
      " |-- valoracion: double (nullable = true)\n",
      " |-- res:div: double (nullable = true)\n",
      "\n"
     ]
    }
   ],
   "source": [
    "df_valoracion1.printSchema()"
   ]
  },
  {
   "cell_type": "code",
   "execution_count": 84,
   "metadata": {},
   "outputs": [
    {
     "name": "stdout",
     "output_type": "stream",
     "text": [
      "+------+--------+----------+-------+\n",
      "| likes|dislikes|valoracion|res:div|\n",
      "+------+--------+----------+-------+\n",
      "| 57527|    2966|   54561.0|    1.0|\n",
      "| 97185|    6146|   91039.0|    9.0|\n",
      "|146033|    5339|  140694.0|    4.0|\n",
      "| 10172|     666|    9506.0|    6.0|\n",
      "|132235|    1989|  130246.0|    6.0|\n",
      "|  9763|     511|    9252.0|    2.0|\n",
      "| 15993|    2445|   13548.0|    8.0|\n",
      "| 23663|     778|   22885.0|    5.0|\n",
      "|  3543|     119|    3424.0|    4.0|\n",
      "| 12654|    1363|   11291.0|    1.0|\n",
      "|   655|      25|     630.0|    0.0|\n",
      "|  1576|     303|    1273.0|    3.0|\n",
      "|114188|    1333|  112855.0|    5.0|\n",
      "|  7848|    1171|    6677.0|    7.0|\n",
      "|  7473|     246|    7227.0|    7.0|\n",
      "|  9419|      52|    9367.0|    7.0|\n",
      "|  8011|     638|    7373.0|    3.0|\n",
      "|  5398|      53|    5345.0|    5.0|\n",
      "| 11963|      36|   11927.0|    7.0|\n",
      "|  8421|     191|    8230.0|    0.0|\n",
      "+------+--------+----------+-------+\n",
      "only showing top 20 rows\n",
      "\n"
     ]
    }
   ],
   "source": [
    "df_valoracion1.select('likes', 'dislikes', 'valoracion', 'res:div').show()"
   ]
  },
  {
   "cell_type": "markdown",
   "metadata": {},
   "source": [
    "- **withColumnRenamed()**"
   ]
  },
  {
   "cell_type": "code",
   "execution_count": 85,
   "metadata": {},
   "outputs": [],
   "source": [
    "df_renombrado = df17.withColumnRenamed('video_id', 'id')"
   ]
  },
  {
   "cell_type": "code",
   "execution_count": 86,
   "metadata": {},
   "outputs": [
    {
     "name": "stdout",
     "output_type": "stream",
     "text": [
      "root\n",
      " |-- id: string (nullable = true)\n",
      " |-- trending_date: string (nullable = true)\n",
      " |-- title: string (nullable = true)\n",
      " |-- channel_title: string (nullable = true)\n",
      " |-- category_id: string (nullable = true)\n",
      " |-- publish_time: string (nullable = true)\n",
      " |-- tags: string (nullable = true)\n",
      " |-- views: string (nullable = true)\n",
      " |-- likes: string (nullable = true)\n",
      " |-- dislikes: string (nullable = true)\n",
      " |-- comment_count: string (nullable = true)\n",
      " |-- thumbnail_link: string (nullable = true)\n",
      " |-- comments_disabled: string (nullable = true)\n",
      " |-- ratings_disabled: string (nullable = true)\n",
      " |-- video_error_or_removed: string (nullable = true)\n",
      " |-- description: string (nullable = true)\n",
      "\n"
     ]
    }
   ],
   "source": [
    "df_renombrado.printSchema()"
   ]
  },
  {
   "cell_type": "markdown",
   "metadata": {},
   "source": [
    "- Spark no arrojará error si el nombre de la columna original no existe."
   ]
  },
  {
   "cell_type": "code",
   "execution_count": 87,
   "metadata": {},
   "outputs": [],
   "source": [
    "df_error = df17.withColumnRenamed('nombre_que_no_existe', 'otro_nombre')"
   ]
  },
  {
   "cell_type": "code",
   "execution_count": 88,
   "metadata": {},
   "outputs": [
    {
     "name": "stdout",
     "output_type": "stream",
     "text": [
      "root\n",
      " |-- video_id: string (nullable = true)\n",
      " |-- trending_date: string (nullable = true)\n",
      " |-- title: string (nullable = true)\n",
      " |-- channel_title: string (nullable = true)\n",
      " |-- category_id: string (nullable = true)\n",
      " |-- publish_time: string (nullable = true)\n",
      " |-- tags: string (nullable = true)\n",
      " |-- views: string (nullable = true)\n",
      " |-- likes: string (nullable = true)\n",
      " |-- dislikes: string (nullable = true)\n",
      " |-- comment_count: string (nullable = true)\n",
      " |-- thumbnail_link: string (nullable = true)\n",
      " |-- comments_disabled: string (nullable = true)\n",
      " |-- ratings_disabled: string (nullable = true)\n",
      " |-- video_error_or_removed: string (nullable = true)\n",
      " |-- description: string (nullable = true)\n",
      "\n"
     ]
    }
   ],
   "source": [
    "df_error.printSchema()"
   ]
  },
  {
   "cell_type": "markdown",
   "metadata": {},
   "source": [
    "### **Transformaciones: funciones drop(), sample() y randomSplit()**"
   ]
  },
  {
   "cell_type": "code",
   "execution_count": 89,
   "metadata": {},
   "outputs": [],
   "source": [
    "df18 = spark.read.parquet('./data/data/dataPARQUET.parquet')"
   ]
  },
  {
   "cell_type": "markdown",
   "metadata": {},
   "source": [
    "- **drop()**"
   ]
  },
  {
   "cell_type": "markdown",
   "metadata": {},
   "source": [
    "- Si no existe la columna en el schema, se ignorará."
   ]
  },
  {
   "cell_type": "code",
   "execution_count": 90,
   "metadata": {},
   "outputs": [
    {
     "name": "stdout",
     "output_type": "stream",
     "text": [
      "root\n",
      " |-- video_id: string (nullable = true)\n",
      " |-- trending_date: string (nullable = true)\n",
      " |-- title: string (nullable = true)\n",
      " |-- channel_title: string (nullable = true)\n",
      " |-- category_id: string (nullable = true)\n",
      " |-- publish_time: string (nullable = true)\n",
      " |-- tags: string (nullable = true)\n",
      " |-- views: string (nullable = true)\n",
      " |-- likes: string (nullable = true)\n",
      " |-- dislikes: string (nullable = true)\n",
      " |-- comment_count: string (nullable = true)\n",
      " |-- thumbnail_link: string (nullable = true)\n",
      " |-- comments_disabled: string (nullable = true)\n",
      " |-- ratings_disabled: string (nullable = true)\n",
      " |-- video_error_or_removed: string (nullable = true)\n",
      " |-- description: string (nullable = true)\n",
      "\n"
     ]
    }
   ],
   "source": [
    "df18.printSchema()"
   ]
  },
  {
   "cell_type": "code",
   "execution_count": 91,
   "metadata": {},
   "outputs": [],
   "source": [
    "df_util = df18.drop('comments_disabled')"
   ]
  },
  {
   "cell_type": "code",
   "execution_count": 92,
   "metadata": {},
   "outputs": [
    {
     "name": "stdout",
     "output_type": "stream",
     "text": [
      "root\n",
      " |-- video_id: string (nullable = true)\n",
      " |-- trending_date: string (nullable = true)\n",
      " |-- title: string (nullable = true)\n",
      " |-- channel_title: string (nullable = true)\n",
      " |-- category_id: string (nullable = true)\n",
      " |-- publish_time: string (nullable = true)\n",
      " |-- tags: string (nullable = true)\n",
      " |-- views: string (nullable = true)\n",
      " |-- likes: string (nullable = true)\n",
      " |-- dislikes: string (nullable = true)\n",
      " |-- comment_count: string (nullable = true)\n",
      " |-- thumbnail_link: string (nullable = true)\n",
      " |-- ratings_disabled: string (nullable = true)\n",
      " |-- video_error_or_removed: string (nullable = true)\n",
      " |-- description: string (nullable = true)\n",
      "\n"
     ]
    }
   ],
   "source": [
    "df_util.printSchema()"
   ]
  },
  {
   "cell_type": "code",
   "execution_count": 93,
   "metadata": {},
   "outputs": [],
   "source": [
    "df_util = df18.drop('comments_disabled', 'ratings_disabled', 'thumbnail_link')"
   ]
  },
  {
   "cell_type": "code",
   "execution_count": 94,
   "metadata": {},
   "outputs": [
    {
     "name": "stdout",
     "output_type": "stream",
     "text": [
      "root\n",
      " |-- video_id: string (nullable = true)\n",
      " |-- trending_date: string (nullable = true)\n",
      " |-- title: string (nullable = true)\n",
      " |-- channel_title: string (nullable = true)\n",
      " |-- category_id: string (nullable = true)\n",
      " |-- publish_time: string (nullable = true)\n",
      " |-- tags: string (nullable = true)\n",
      " |-- views: string (nullable = true)\n",
      " |-- likes: string (nullable = true)\n",
      " |-- dislikes: string (nullable = true)\n",
      " |-- comment_count: string (nullable = true)\n",
      " |-- video_error_or_removed: string (nullable = true)\n",
      " |-- description: string (nullable = true)\n",
      "\n"
     ]
    }
   ],
   "source": [
    "df_util.printSchema()"
   ]
  },
  {
   "cell_type": "code",
   "execution_count": 95,
   "metadata": {},
   "outputs": [],
   "source": [
    "df_util = df18.drop('comments_disabled', 'ratings_disabled', 'thumbnail_link', 'cafe')"
   ]
  },
  {
   "cell_type": "code",
   "execution_count": 96,
   "metadata": {},
   "outputs": [
    {
     "name": "stdout",
     "output_type": "stream",
     "text": [
      "root\n",
      " |-- video_id: string (nullable = true)\n",
      " |-- trending_date: string (nullable = true)\n",
      " |-- title: string (nullable = true)\n",
      " |-- channel_title: string (nullable = true)\n",
      " |-- category_id: string (nullable = true)\n",
      " |-- publish_time: string (nullable = true)\n",
      " |-- tags: string (nullable = true)\n",
      " |-- views: string (nullable = true)\n",
      " |-- likes: string (nullable = true)\n",
      " |-- dislikes: string (nullable = true)\n",
      " |-- comment_count: string (nullable = true)\n",
      " |-- video_error_or_removed: string (nullable = true)\n",
      " |-- description: string (nullable = true)\n",
      "\n"
     ]
    }
   ],
   "source": [
    "df_util.printSchema()"
   ]
  },
  {
   "cell_type": "markdown",
   "metadata": {},
   "source": [
    "- **sample()**"
   ]
  },
  {
   "cell_type": "code",
   "execution_count": 97,
   "metadata": {},
   "outputs": [],
   "source": [
    "df_muestra = df18.sample(0.8) # El 80% aproximadamente de las filas de DF original."
   ]
  },
  {
   "cell_type": "code",
   "execution_count": 98,
   "metadata": {},
   "outputs": [
    {
     "name": "stdout",
     "output_type": "stream",
     "text": [
      "El 80% de las filas del dataframe original es 38509.6\n",
      "El número de filas del dataframe muestra es 38530\n"
     ]
    }
   ],
   "source": [
    "num_filas = df18.count()\n",
    "num_filas_muestra = df_muestra.count()\n",
    "\n",
    "print('El 80% de las filas del dataframe original es {}'.format(num_filas - (num_filas * 0.2)))\n",
    "print('El número de filas del dataframe muestra es {}'.format(num_filas_muestra))"
   ]
  },
  {
   "cell_type": "code",
   "execution_count": 99,
   "metadata": {},
   "outputs": [],
   "source": [
    "df_muestra = df18.sample(fraction=0.8, seed=1234)"
   ]
  },
  {
   "cell_type": "markdown",
   "metadata": {},
   "source": [
    "- con seed tomaremos posteriormente la misma muestra si lo deseamos, especificando la misma seed."
   ]
  },
  {
   "cell_type": "code",
   "execution_count": 100,
   "metadata": {},
   "outputs": [],
   "source": [
    "df_muestra = df18.sample(withReplacement=True, fraction=0.8, seed=1234)"
   ]
  },
  {
   "cell_type": "markdown",
   "metadata": {},
   "source": [
    "- withReplacement permite seleccionar más de una vez la misma fila."
   ]
  },
  {
   "cell_type": "markdown",
   "metadata": {},
   "source": [
    "- **randomSplit()**"
   ]
  },
  {
   "cell_type": "markdown",
   "metadata": {},
   "source": [
    "- Devuelve uno o más DF dependiendo de la cantidad de pesos que le especifiquemos."
   ]
  },
  {
   "cell_type": "code",
   "execution_count": 101,
   "metadata": {},
   "outputs": [],
   "source": [
    "train, test = df18.randomSplit([0.8, 0.2], seed=1234) # Si no llega a 1 se normalizará automáticamente para llegar a 1."
   ]
  },
  {
   "cell_type": "markdown",
   "metadata": {},
   "source": [
    "### **Trabajo con datos incorrectos o faltantes**"
   ]
  },
  {
   "cell_type": "code",
   "execution_count": 102,
   "metadata": {},
   "outputs": [],
   "source": [
    "df19 = spark.read.parquet('./data/data/dataPARQUET.parquet')"
   ]
  },
  {
   "cell_type": "code",
   "execution_count": 103,
   "metadata": {},
   "outputs": [
    {
     "data": {
      "text/plain": [
       "48137"
      ]
     },
     "execution_count": 103,
     "metadata": {},
     "output_type": "execute_result"
    }
   ],
   "source": [
    "df19.count()"
   ]
  },
  {
   "cell_type": "code",
   "execution_count": 104,
   "metadata": {},
   "outputs": [
    {
     "data": {
      "text/plain": [
       "40390"
      ]
     },
     "execution_count": 104,
     "metadata": {},
     "output_type": "execute_result"
    }
   ],
   "source": [
    "df19.na.drop().count()"
   ]
  },
  {
   "cell_type": "markdown",
   "metadata": {},
   "source": [
    "- Otra alternativa."
   ]
  },
  {
   "cell_type": "code",
   "execution_count": 105,
   "metadata": {},
   "outputs": [
    {
     "data": {
      "text/plain": [
       "40390"
      ]
     },
     "execution_count": 105,
     "metadata": {},
     "output_type": "execute_result"
    }
   ],
   "source": [
    "df19.na.drop('any').count()"
   ]
  },
  {
   "cell_type": "markdown",
   "metadata": {},
   "source": [
    "Otra alternativa."
   ]
  },
  {
   "cell_type": "code",
   "execution_count": 106,
   "metadata": {},
   "outputs": [
    {
     "data": {
      "text/plain": [
       "40390"
      ]
     },
     "execution_count": 106,
     "metadata": {},
     "output_type": "execute_result"
    }
   ],
   "source": [
    "df19.dropna().count()"
   ]
  },
  {
   "cell_type": "code",
   "execution_count": 107,
   "metadata": {},
   "outputs": [
    {
     "data": {
      "text/plain": [
       "41061"
      ]
     },
     "execution_count": 107,
     "metadata": {},
     "output_type": "execute_result"
    }
   ],
   "source": [
    "df19.na.drop(subset=['views']).count() # Elimina las filas que tengan valores nulos en la columna 'views'."
   ]
  },
  {
   "cell_type": "code",
   "execution_count": 108,
   "metadata": {},
   "outputs": [
    {
     "data": {
      "text/plain": [
       "41035"
      ]
     },
     "execution_count": 108,
     "metadata": {},
     "output_type": "execute_result"
    }
   ],
   "source": [
    "df19.na.drop(subset=['views', 'dislikes']).count()"
   ]
  },
  {
   "cell_type": "code",
   "execution_count": 109,
   "metadata": {},
   "outputs": [],
   "source": [
    "from pyspark.sql.functions import col"
   ]
  },
  {
   "cell_type": "code",
   "execution_count": 110,
   "metadata": {},
   "outputs": [
    {
     "name": "stdout",
     "output_type": "stream",
     "text": [
      "+-----+-----+--------+\n",
      "|views|likes|dislikes|\n",
      "+-----+-----+--------+\n",
      "| null| null|    null|\n",
      "| null| null|    null|\n",
      "| null| null|    null|\n",
      "| null| null|    null|\n",
      "| null| null|    null|\n",
      "| null| null|    null|\n",
      "| null| null|    null|\n",
      "| null| null|    null|\n",
      "| null| null|    null|\n",
      "| null| null|    null|\n",
      "| null| null|    null|\n",
      "| null| null|    null|\n",
      "| null| null|    null|\n",
      "| null| null|    null|\n",
      "| null| null|    null|\n",
      "| null| null|    null|\n",
      "| null| null|    null|\n",
      "| null| null|    null|\n",
      "| null| null|    null|\n",
      "| null| null|    null|\n",
      "+-----+-----+--------+\n",
      "only showing top 20 rows\n",
      "\n"
     ]
    }
   ],
   "source": [
    "df19.orderBy(col('views')).select(col('views'), col('likes'), col('dislikes')).show()"
   ]
  },
  {
   "cell_type": "markdown",
   "metadata": {},
   "source": [
    "- Imputar un valor a los nulos."
   ]
  },
  {
   "cell_type": "code",
   "execution_count": 117,
   "metadata": {},
   "outputs": [
    {
     "name": "stdout",
     "output_type": "stream",
     "text": [
      "+-----+-----+--------+\n",
      "|views|likes|dislikes|\n",
      "+-----+-----+--------+\n",
      "| null| null|    null|\n",
      "| null| null|    null|\n",
      "| null| null|    null|\n",
      "| null| null|    null|\n",
      "| null| null|    null|\n",
      "| null| null|    null|\n",
      "| null| null|    null|\n",
      "| null| null|    null|\n",
      "| null| null|    null|\n",
      "| null| null|    null|\n",
      "| null| null|    null|\n",
      "| null| null|    null|\n",
      "| null| null|    null|\n",
      "| null| null|    null|\n",
      "| null| null|    null|\n",
      "| null| null|    null|\n",
      "| null| null|    null|\n",
      "| null| null|    null|\n",
      "| null| null|    null|\n",
      "| null| null|    null|\n",
      "+-----+-----+--------+\n",
      "only showing top 20 rows\n",
      "\n"
     ]
    }
   ],
   "source": [
    "df19.fillna(0).orderBy(col('views')).select(col('views'), col('likes'), col('dislikes')).show()"
   ]
  },
  {
   "cell_type": "markdown",
   "metadata": {},
   "source": [
    "- Rellenar solo ciertas columnas."
   ]
  },
  {
   "cell_type": "code",
   "execution_count": 118,
   "metadata": {},
   "outputs": [
    {
     "name": "stdout",
     "output_type": "stream",
     "text": [
      "+-----+-----+--------+\n",
      "|views|likes|dislikes|\n",
      "+-----+-----+--------+\n",
      "| null| null|    null|\n",
      "| null| null|    null|\n",
      "| null| null|    null|\n",
      "| null| null|    null|\n",
      "| null| null|    null|\n",
      "| null| null|    null|\n",
      "| null| null|    null|\n",
      "| null| null|    null|\n",
      "| null| null|    null|\n",
      "| null| null|    null|\n",
      "| null| null|    null|\n",
      "| null| null|    null|\n",
      "| null| null|    null|\n",
      "| null| null|    null|\n",
      "| null| null|    null|\n",
      "| null| null|    null|\n",
      "| null| null|    null|\n",
      "| null| null|    null|\n",
      "| null| null|    null|\n",
      "| null| null|    null|\n",
      "+-----+-----+--------+\n",
      "only showing top 20 rows\n",
      "\n"
     ]
    }
   ],
   "source": [
    "df19.fillna(0, subset = ['likes', 'dislikes']).orderBy(col('views')).select(col('views'), col('likes'), col('dislikes')).show()"
   ]
  },
  {
   "cell_type": "markdown",
   "metadata": {},
   "source": [
    "### **Acciones sobre un DF en Spark SQL**"
   ]
  },
  {
   "cell_type": "markdown",
   "metadata": {},
   "source": [
    "- Igual que en el RDD, desencadenarán todas las transformaciones acumuladas en el DAG."
   ]
  },
  {
   "cell_type": "code",
   "execution_count": 119,
   "metadata": {},
   "outputs": [],
   "source": [
    "df20 = spark.read.parquet('./data/data/dataPARQUET.parquet')"
   ]
  },
  {
   "cell_type": "code",
   "execution_count": null,
   "metadata": {},
   "outputs": [],
   "source": []
  }
 ],
 "metadata": {
  "kernelspec": {
   "display_name": "pyspark_env",
   "language": "python",
   "name": "python3"
  },
  "language_info": {
   "codemirror_mode": {
    "name": "ipython",
    "version": 3
   },
   "file_extension": ".py",
   "mimetype": "text/x-python",
   "name": "python",
   "nbconvert_exporter": "python",
   "pygments_lexer": "ipython3",
   "version": "3.9.20"
  }
 },
 "nbformat": 4,
 "nbformat_minor": 2
}
