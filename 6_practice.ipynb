{
 "cells": [
  {
   "cell_type": "code",
   "execution_count": 1,
   "metadata": {},
   "outputs": [],
   "source": [
    "import os\n",
    "\n",
    "os.environ['JAVA_HOME'] = \"C:/Program Files/Java/jdk-11\"\n",
    "os.environ['PYSPARK_PYTHON'] = \"C:/Users/usr/anaconda3/envs/pyspark_env/python.exe\"\n",
    "os.environ['PYSPARK_DRIVER_PYTHON'] = \"C:/Users/usr/anaconda3/envs/pyspark_env/python.exe\"\n",
    "os.environ['HADOOP_HOME'] = \"C:/hadoop-3.4.0\"\n",
    "os.environ['HADOOP_COMMON_LIB_NATIVE_DIR'] = \"C:/hadoop-3.4.0/lib/native\"\n",
    "os.environ['PATH'] += os.pathsep + \"C:/hadoop-3.4.0/bin\"\n",
    "\n",
    "import findspark\n",
    "findspark.init()\n",
    "\n",
    "from pyspark.sql import SparkSession\n",
    "\n",
    "spark = SparkSession.builder.getOrCreate()\n",
    "\n",
    "sc = spark.sparkContext"
   ]
  },
  {
   "cell_type": "code",
   "execution_count": 2,
   "metadata": {},
   "outputs": [],
   "source": [
    "from pyspark.sql.functions import col, sum"
   ]
  },
  {
   "cell_type": "markdown",
   "metadata": {},
   "source": [
    "- Los datos adjuntos a esta lección forman parte de la base de datos [NeurIPS 2020] Data Science for COVID-19 (DS4C) disponible en Kaggle. Estos datos hacen referencia a los casos de contagio de covid-19 en Corea del Sur"
   ]
  },
  {
   "cell_type": "markdown",
   "metadata": {},
   "source": [
    "- El archivo csv Case contiene los casos reportados y el archivo csv PatientInfo contiene la información de los pacientes."
   ]
  },
  {
   "cell_type": "markdown",
   "metadata": {},
   "source": [
    "- A partir del archivo csv Case, determine las tres ciudades con más casos confirmados de la enfermedad. La salida debe contener tres columnas: provincia, ciudad y casos confirmados. El resultado debe contener exactamente los tres nombre de ciudades con más casos confirmados ya que no se admiten otros valores."
   ]
  },
  {
   "cell_type": "code",
   "execution_count": 3,
   "metadata": {},
   "outputs": [],
   "source": [
    "df_case = spark.read.csv('./data/data/Case.csv', header=True)"
   ]
  },
  {
   "cell_type": "code",
   "execution_count": 4,
   "metadata": {},
   "outputs": [
    {
     "name": "stdout",
     "output_type": "stream",
     "text": [
      "+--------+--------+---------------+-----+--------------------+---------+---------+----------+\n",
      "| case_id|province|           city|group|      infection_case|confirmed| latitude| longitude|\n",
      "+--------+--------+---------------+-----+--------------------+---------+---------+----------+\n",
      "| 1000001|   Seoul|     Yongsan-gu| TRUE|       Itaewon Clubs|      139|37.538621|126.992652|\n",
      "| 1000002|   Seoul|      Gwanak-gu| TRUE|             Richway|      119| 37.48208|126.901384|\n",
      "| 1000003|   Seoul|        Guro-gu| TRUE| Guro-gu Call Center|       95|37.508163|126.884387|\n",
      "| 1000004|   Seoul|   Yangcheon-gu| TRUE|Yangcheon Table T...|       43|37.546061|126.874209|\n",
      "| 1000005|   Seoul|      Dobong-gu| TRUE|     Day Care Center|       43|37.679422|127.044374|\n",
      "| 1000006|   Seoul|        Guro-gu| TRUE|Manmin Central Ch...|       41|37.481059|126.894343|\n",
      "| 1000007|   Seoul|from other city| TRUE|SMR Newly Planted...|       36|        -|         -|\n",
      "| 1000008|   Seoul|  Dongdaemun-gu| TRUE|       Dongan Church|       17|37.592888|127.056766|\n",
      "| 1000009|   Seoul|from other city| TRUE|Coupang Logistics...|       25|        -|         -|\n",
      "| 1000010|   Seoul|      Gwanak-gu| TRUE|     Wangsung Church|       30|37.481735|126.930121|\n",
      "| 1000011|   Seoul|   Eunpyeong-gu| TRUE|Eunpyeong St. Mar...|       14| 37.63369|  126.9165|\n",
      "| 1000012|   Seoul|   Seongdong-gu| TRUE|    Seongdong-gu APT|       13| 37.55713|  127.0403|\n",
      "| 1000013|   Seoul|      Jongno-gu| TRUE|Jongno Community ...|       10| 37.57681|   127.006|\n",
      "| 1000014|   Seoul|     Gangnam-gu| TRUE|Samsung Medical C...|        7| 37.48825| 127.08559|\n",
      "| 1000015|   Seoul|        Jung-gu| TRUE|Jung-gu Fashion C...|        7|37.562405|126.984377|\n",
      "| 1000016|   Seoul|   Seodaemun-gu| TRUE|  Yeonana News Class|        5|37.558147|126.943799|\n",
      "| 1000017|   Seoul|      Jongno-gu| TRUE|Korea Campus Crus...|        7|37.594782|126.968022|\n",
      "| 1000018|   Seoul|     Gangnam-gu| TRUE|Gangnam Yeoksam-d...|        6|        -|         -|\n",
      "| 1000019|   Seoul|from other city| TRUE|Daejeon door-to-d...|        1|        -|         -|\n",
      "| 1000020|   Seoul|   Geumcheon-gu| TRUE|Geumcheon-gu rice...|        6|        -|         -|\n",
      "+--------+--------+---------------+-----+--------------------+---------+---------+----------+\n",
      "only showing top 20 rows\n",
      "\n"
     ]
    }
   ],
   "source": [
    "df_case.show()"
   ]
  },
  {
   "cell_type": "code",
   "execution_count": 5,
   "metadata": {},
   "outputs": [
    {
     "name": "stdout",
     "output_type": "stream",
     "text": [
      "root\n",
      " |--  case_id: string (nullable = true)\n",
      " |-- province: string (nullable = true)\n",
      " |-- city: string (nullable = true)\n",
      " |-- group: string (nullable = true)\n",
      " |-- infection_case: string (nullable = true)\n",
      " |-- confirmed: string (nullable = true)\n",
      " |-- latitude: string (nullable = true)\n",
      " |-- longitude: string (nullable = true)\n",
      "\n"
     ]
    }
   ],
   "source": [
    "df_case.printSchema()"
   ]
  },
  {
   "cell_type": "code",
   "execution_count": 6,
   "metadata": {},
   "outputs": [
    {
     "data": {
      "text/plain": [
       "DataFrame[case_id: string, province: string, city: string, group: string, infection_case: string, confirmed: string, latitude: string, longitude: string]"
      ]
     },
     "execution_count": 6,
     "metadata": {},
     "output_type": "execute_result"
    }
   ],
   "source": [
    "df_case.withColumnRenamed(' case_id', 'case_id')"
   ]
  },
  {
   "cell_type": "code",
   "execution_count": 7,
   "metadata": {},
   "outputs": [],
   "source": [
    "df_case = df_case.drop(col('case_id'), col('providence'), col('group'), col('infection_case'), col('latitude'), col('longitude'))"
   ]
  },
  {
   "cell_type": "code",
   "execution_count": 8,
   "metadata": {},
   "outputs": [
    {
     "name": "stdout",
     "output_type": "stream",
     "text": [
      "+--------+--------+---------------+---------+\n",
      "| case_id|province|           city|confirmed|\n",
      "+--------+--------+---------------+---------+\n",
      "| 1000001|   Seoul|     Yongsan-gu|      139|\n",
      "| 1000002|   Seoul|      Gwanak-gu|      119|\n",
      "| 1000003|   Seoul|        Guro-gu|       95|\n",
      "| 1000004|   Seoul|   Yangcheon-gu|       43|\n",
      "| 1000005|   Seoul|      Dobong-gu|       43|\n",
      "| 1000006|   Seoul|        Guro-gu|       41|\n",
      "| 1000007|   Seoul|from other city|       36|\n",
      "| 1000008|   Seoul|  Dongdaemun-gu|       17|\n",
      "| 1000009|   Seoul|from other city|       25|\n",
      "| 1000010|   Seoul|      Gwanak-gu|       30|\n",
      "| 1000011|   Seoul|   Eunpyeong-gu|       14|\n",
      "| 1000012|   Seoul|   Seongdong-gu|       13|\n",
      "| 1000013|   Seoul|      Jongno-gu|       10|\n",
      "| 1000014|   Seoul|     Gangnam-gu|        7|\n",
      "| 1000015|   Seoul|        Jung-gu|        7|\n",
      "| 1000016|   Seoul|   Seodaemun-gu|        5|\n",
      "| 1000017|   Seoul|      Jongno-gu|        7|\n",
      "| 1000018|   Seoul|     Gangnam-gu|        6|\n",
      "| 1000019|   Seoul|from other city|        1|\n",
      "| 1000020|   Seoul|   Geumcheon-gu|        6|\n",
      "+--------+--------+---------------+---------+\n",
      "only showing top 20 rows\n",
      "\n"
     ]
    }
   ],
   "source": [
    "df_case.show()"
   ]
  },
  {
   "cell_type": "code",
   "execution_count": 9,
   "metadata": {},
   "outputs": [
    {
     "data": {
      "text/plain": [
       "174"
      ]
     },
     "execution_count": 9,
     "metadata": {},
     "output_type": "execute_result"
    }
   ],
   "source": [
    "df_case.count()"
   ]
  },
  {
   "cell_type": "code",
   "execution_count": 10,
   "metadata": {},
   "outputs": [
    {
     "data": {
      "text/plain": [
       "174"
      ]
     },
     "execution_count": 10,
     "metadata": {},
     "output_type": "execute_result"
    }
   ],
   "source": [
    "df_case.dropna().count()"
   ]
  },
  {
   "cell_type": "code",
   "execution_count": 11,
   "metadata": {},
   "outputs": [],
   "source": [
    "df_case = df_case.groupBy('city').agg(sum('confirmed').alias('confirmed'))"
   ]
  },
  {
   "cell_type": "code",
   "execution_count": 12,
   "metadata": {},
   "outputs": [
    {
     "name": "stdout",
     "output_type": "stream",
     "text": [
      "+---------------+---------+\n",
      "|           city|confirmed|\n",
      "+---------------+---------+\n",
      "|     Gangnam-gu|     18.0|\n",
      "|     Cheonan-si|    103.0|\n",
      "|from other city|   1217.0|\n",
      "|      Anyang-si|     39.0|\n",
      "|      Gwanak-gu|    149.0|\n",
      "|     Yongsan-gu|    139.0|\n",
      "|        Dong-gu|     44.0|\n",
      "|         Sejong|     39.0|\n",
      "|     Gangseo-gu|      0.0|\n",
      "|       Wonju-si|      4.0|\n",
      "|     Suyeong-gu|      5.0|\n",
      "|   Geochang-gun|     18.0|\n",
      "|  Dongdaemun-gu|     17.0|\n",
      "|     Dongnae-gu|     39.0|\n",
      "|         Jin-gu|      4.0|\n",
      "|     Yangsan-si|      3.0|\n",
      "|    Changwon-si|      7.0|\n",
      "|         Nam-gu|   4511.0|\n",
      "|   Gyeongsan-si|     99.0|\n",
      "|      Jongno-gu|     17.0|\n",
      "+---------------+---------+\n",
      "only showing top 20 rows\n",
      "\n"
     ]
    }
   ],
   "source": [
    "df_case.show()"
   ]
  },
  {
   "cell_type": "code",
   "execution_count": 13,
   "metadata": {},
   "outputs": [],
   "source": [
    "df_case = df_case.filter((col('city') != '-') & (col('city') != 'from other city'))"
   ]
  },
  {
   "cell_type": "code",
   "execution_count": 14,
   "metadata": {},
   "outputs": [],
   "source": [
    "df_case = df_case.sort(col('confirmed').desc()).limit(3)"
   ]
  },
  {
   "cell_type": "code",
   "execution_count": 15,
   "metadata": {},
   "outputs": [
    {
     "name": "stdout",
     "output_type": "stream",
     "text": [
      "+------------+---------+\n",
      "|        city|confirmed|\n",
      "+------------+---------+\n",
      "|      Nam-gu|   4511.0|\n",
      "|Dalseong-gun|    297.0|\n",
      "|      Seo-gu|    151.0|\n",
      "+------------+---------+\n",
      "\n"
     ]
    }
   ],
   "source": [
    "df_case.show(3)"
   ]
  },
  {
   "cell_type": "markdown",
   "metadata": {},
   "source": [
    "- Cree un dataframe a partir del archivo csv PatientInfo. Asegúrese de que su dataframe no contenga pacientes duplicados."
   ]
  },
  {
   "cell_type": "code",
   "execution_count": 16,
   "metadata": {},
   "outputs": [],
   "source": [
    "df_patient = spark.read.csv('./data/data/PatientInfo.csv', header=True)"
   ]
  },
  {
   "cell_type": "code",
   "execution_count": 17,
   "metadata": {},
   "outputs": [
    {
     "name": "stdout",
     "output_type": "stream",
     "text": [
      "+----------+------+---+-------+--------+------------+--------------------+-----------+--------------+------------------+--------------+-------------+-------------+--------+\n",
      "|patient_id|   sex|age|country|province|        city|      infection_case|infected_by|contact_number|symptom_onset_date|confirmed_date|released_date|deceased_date|   state|\n",
      "+----------+------+---+-------+--------+------------+--------------------+-----------+--------------+------------------+--------------+-------------+-------------+--------+\n",
      "|1000000001|  male|50s|  Korea|   Seoul|  Gangseo-gu|     overseas inflow|       null|            75|        2020-01-22|    2020-01-23|   2020-02-05|         null|released|\n",
      "|1000000002|  male|30s|  Korea|   Seoul| Jungnang-gu|     overseas inflow|       null|            31|              null|    2020-01-30|   2020-03-02|         null|released|\n",
      "|1000000003|  male|50s|  Korea|   Seoul|   Jongno-gu|contact with patient| 2002000001|            17|              null|    2020-01-30|   2020-02-19|         null|released|\n",
      "|1000000004|  male|20s|  Korea|   Seoul|     Mapo-gu|     overseas inflow|       null|             9|        2020-01-26|    2020-01-30|   2020-02-15|         null|released|\n",
      "|1000000005|female|20s|  Korea|   Seoul| Seongbuk-gu|contact with patient| 1000000002|             2|              null|    2020-01-31|   2020-02-24|         null|released|\n",
      "|1000000006|female|50s|  Korea|   Seoul|   Jongno-gu|contact with patient| 1000000003|            43|              null|    2020-01-31|   2020-02-19|         null|released|\n",
      "|1000000007|  male|20s|  Korea|   Seoul|   Jongno-gu|contact with patient| 1000000003|             0|              null|    2020-01-31|   2020-02-10|         null|released|\n",
      "|1000000008|  male|20s|  Korea|   Seoul|         etc|     overseas inflow|       null|             0|              null|    2020-02-02|   2020-02-24|         null|released|\n",
      "|1000000009|  male|30s|  Korea|   Seoul|   Songpa-gu|     overseas inflow|       null|            68|              null|    2020-02-05|   2020-02-21|         null|released|\n",
      "|1000000010|female|60s|  Korea|   Seoul| Seongbuk-gu|contact with patient| 1000000003|             6|              null|    2020-02-05|   2020-02-29|         null|released|\n",
      "|1000000011|female|50s|  China|   Seoul|Seodaemun-gu|     overseas inflow|       null|            23|              null|    2020-02-06|   2020-02-29|         null|released|\n",
      "|1000000012|  male|20s|  Korea|   Seoul|         etc|     overseas inflow|       null|             0|              null|    2020-02-07|   2020-02-27|         null|released|\n",
      "|1000000013|  male|80s|  Korea|   Seoul|   Jongno-gu|contact with patient| 1000000017|           117|              null|    2020-02-16|         null|         null|deceased|\n",
      "|1000000014|female|60s|  Korea|   Seoul|   Jongno-gu|contact with patient| 1000000013|            27|        2020-02-06|    2020-02-16|   2020-03-12|         null|released|\n",
      "|1000000015|  male|70s|  Korea|   Seoul|Seongdong-gu|    Seongdong-gu APT|       null|             8|        2020-02-11|    2020-02-19|         null|         null|released|\n",
      "|1000000016|  male|70s|  Korea|   Seoul|   Jongno-gu|contact with patient| 1000000017|          null|              null|    2020-02-19|   2020-03-11|         null|released|\n",
      "|1000000017|  male|70s|  Korea|   Seoul|   Jongno-gu|contact with patient| 1000000003|          null|              null|    2020-02-20|   2020-03-01|         null|released|\n",
      "|1000000018|  male|20s|  Korea|   Seoul|         etc|                 etc|       null|          null|              null|    2020-02-20|         null|         null|released|\n",
      "|1000000019|female|70s|  Korea|   Seoul|   Jongno-gu|contact with patient| 1000000021|          null|              null|    2020-02-20|   2020-03-08|         null|released|\n",
      "|1000000020|female|70s|  Korea|   Seoul|Seongdong-gu|    Seongdong-gu APT| 1000000015|          null|              null|    2020-02-20|         null|         null|released|\n",
      "+----------+------+---+-------+--------+------------+--------------------+-----------+--------------+------------------+--------------+-------------+-------------+--------+\n",
      "only showing top 20 rows\n",
      "\n"
     ]
    }
   ],
   "source": [
    "df_patient.show()"
   ]
  },
  {
   "cell_type": "code",
   "execution_count": 18,
   "metadata": {},
   "outputs": [],
   "source": [
    "df_patient = df_patient.dropDuplicates(['patient_id'])"
   ]
  },
  {
   "cell_type": "markdown",
   "metadata": {},
   "source": [
    "- ¿Cuántos pacientes tienen informado por quién se contagiaron(columna infected_by)? Obtenga solo los pacientes que tengan informado por quién se contagiaron."
   ]
  },
  {
   "cell_type": "code",
   "execution_count": 19,
   "metadata": {},
   "outputs": [
    {
     "data": {
      "text/plain": [
       "1346"
      ]
     },
     "execution_count": 19,
     "metadata": {},
     "output_type": "execute_result"
    }
   ],
   "source": [
    "df_patient.dropna(subset = ['infected_by']).count()"
   ]
  },
  {
   "cell_type": "markdown",
   "metadata": {},
   "source": [
    "- A partir de la salida del inciso anterior obtenga solo los pacientes femeninos. La salida no debe contener las columnas released_date y deceased_date."
   ]
  },
  {
   "cell_type": "code",
   "execution_count": 20,
   "metadata": {},
   "outputs": [],
   "source": [
    "df_patient = df_patient.dropna(subset = ['infected_by'])"
   ]
  },
  {
   "cell_type": "code",
   "execution_count": 21,
   "metadata": {},
   "outputs": [],
   "source": [
    "df_patient = df_patient.drop('released_date', 'deceased_date')"
   ]
  },
  {
   "cell_type": "code",
   "execution_count": 22,
   "metadata": {},
   "outputs": [],
   "source": [
    "df_patient_female = df_patient.filter(col('sex') == 'female')"
   ]
  },
  {
   "cell_type": "code",
   "execution_count": 23,
   "metadata": {},
   "outputs": [
    {
     "name": "stdout",
     "output_type": "stream",
     "text": [
      "+----------+------+---+-------+--------+-------------+--------------------+-----------+--------------+------------------+--------------+--------+\n",
      "|patient_id|   sex|age|country|province|         city|      infection_case|infected_by|contact_number|symptom_onset_date|confirmed_date|   state|\n",
      "+----------+------+---+-------+--------+-------------+--------------------+-----------+--------------+------------------+--------------+--------+\n",
      "|1000000005|female|20s|  Korea|   Seoul|  Seongbuk-gu|contact with patient| 1000000002|             2|              null|    2020-01-31|released|\n",
      "|1000000006|female|50s|  Korea|   Seoul|    Jongno-gu|contact with patient| 1000000003|            43|              null|    2020-01-31|released|\n",
      "|1000000010|female|60s|  Korea|   Seoul|  Seongbuk-gu|contact with patient| 1000000003|             6|              null|    2020-02-05|released|\n",
      "|1000000014|female|60s|  Korea|   Seoul|    Jongno-gu|contact with patient| 1000000013|            27|        2020-02-06|    2020-02-16|released|\n",
      "|1000000019|female|70s|  Korea|   Seoul|    Jongno-gu|contact with patient| 1000000021|          null|              null|    2020-02-20|released|\n",
      "|1000000020|female|70s|  Korea|   Seoul| Seongdong-gu|    Seongdong-gu APT| 1000000015|          null|              null|    2020-02-20|released|\n",
      "|1000000029|female|20s|  Korea|   Seoul|    Jongno-gu|Eunpyeong St. Mar...| 1000000028|          null|        2020-02-11|    2020-02-26|released|\n",
      "|1000000033|female|50s|  Korea|   Seoul|    Songpa-gu|contact with patient| 1000000031|          null|              null|    2020-02-24|released|\n",
      "|1000000037|female|40s|  Korea|   Seoul|    Songpa-gu|contact with patient| 1000000031|          null|              null|    2020-02-25|released|\n",
      "|1000000040|female|60s|  Korea|   Seoul|    Gwanak-gu|     overseas inflow| 1500000002|          null|              null|    2020-02-25|released|\n",
      "|1000000046|female|20s|  Korea|   Seoul|          etc|contact with patient| 1000000041|          null|              null|    2020-02-26|released|\n",
      "|1000000053|female|40s|  Korea|   Seoul| Eunpyeong-gu|Eunpyeong St. Mar...| 1000000054|          null|        2020-02-25|    2020-02-27|released|\n",
      "|1000000059|female|60s|  Korea|   Seoul| Eunpyeong-gu|Eunpyeong St. Mar...| 1000000060|          null|              null|    2020-02-28|released|\n",
      "|1000000064|female|30s|  Korea|   Seoul|   Gangnam-gu|contact with patient| 1000000047|          null|        2020-02-26|    2020-02-29|released|\n",
      "|1000000067|female|20s|  Korea|   Seoul|    Songpa-gu|contact with patient| 1000000033|          null|              null|    2020-02-29|released|\n",
      "|1000000113|female|60s|  Korea|   Seoul|   Gangbuk-gu|contact with patient| 1000000111|          null|        2020-02-24|    2020-03-06|released|\n",
      "|1000000114|female|20s|  Korea|   Seoul| Yangcheon-gu|contact with patient| 1000000115|          null|              null|    2020-03-07|released|\n",
      "|1000000121|female| 0s|  Korea|   Seoul|Dongdaemun-gu|contact with patient| 1000000120|          null|        2020-03-04|    2020-03-08|released|\n",
      "|1000000126|female|30s|  Korea|   Seoul|Dongdaemun-gu|contact with patient| 1000000120|          null|        2020-03-04|    2020-03-08|released|\n",
      "|1000000129|female|60s|  Korea|   Seoul|Dongdaemun-gu|contact with patient| 1000000120|          null|              null|    2020-03-08|released|\n",
      "+----------+------+---+-------+--------+-------------+--------------------+-----------+--------------+------------------+--------------+--------+\n",
      "only showing top 20 rows\n",
      "\n"
     ]
    }
   ],
   "source": [
    "df_patient_female.show()"
   ]
  },
  {
   "cell_type": "markdown",
   "metadata": {},
   "source": [
    "- Establezca el número de particiones del dataframe resultante del inciso anterior en dos. Escriba el dataframe resultante en un archivo parquet. La salida debe estar particionada por la provincia y el modo de escritura debe ser overwrite."
   ]
  },
  {
   "cell_type": "code",
   "execution_count": 24,
   "metadata": {},
   "outputs": [],
   "source": [
    "df_patient_female = df_patient_female.repartition(2)"
   ]
  },
  {
   "cell_type": "code",
   "execution_count": 26,
   "metadata": {},
   "outputs": [],
   "source": [
    "# df_patient_female.write.partitionBy('province').mode('overwrite').parquet('./data/data/6_practice.parquet')"
   ]
  }
 ],
 "metadata": {
  "kernelspec": {
   "display_name": "pyspark_env",
   "language": "python",
   "name": "python3"
  },
  "language_info": {
   "codemirror_mode": {
    "name": "ipython",
    "version": 3
   },
   "file_extension": ".py",
   "mimetype": "text/x-python",
   "name": "python",
   "nbconvert_exporter": "python",
   "pygments_lexer": "ipython3",
   "version": "3.9.20"
  }
 },
 "nbformat": 4,
 "nbformat_minor": 2
}
